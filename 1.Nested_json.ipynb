{
 "cells": [
  {
   "cell_type": "markdown",
   "metadata": {},
   "source": [
    "# Dealing with nested json files\n",
    "\n",
    "Finding student name from class data\n",
    "\n",
    "i.e display_name"
   ]
  },
  {
   "cell_type": "markdown",
   "metadata": {},
   "source": [
    "# Import key Modules"
   ]
  },
  {
   "cell_type": "code",
   "execution_count": 1,
   "metadata": {},
   "outputs": [],
   "source": [
    "import pandas as pd\n",
    "import json\n",
    "from collections import defaultdict\n"
   ]
  },
  {
   "cell_type": "markdown",
   "metadata": {},
   "source": [
    "# Used data"
   ]
  },
  {
   "cell_type": "code",
   "execution_count": 2,
   "metadata": {},
   "outputs": [],
   "source": [
    "Data={\"results\": [\n",
    "    {\n",
    "      \"_class\": \"question\",\n",
    "      \"course\": {\n",
    "        \"_class\": \"course\",\n",
    "        \"title\": \"Angular 7 (formerly Angular 2) - The Complete Guide\",\n",
    "        \"url\": \"/the-complete-guide-to-angular-2/\"\n",
    "      },\n",
    "      \"replies\": [\n",
    "        {\n",
    "          \"_class\": \"answer\",\n",
    "          \"user\": {\n",
    "            \"_class\": \"user\",\n",
    "            \"display_name\": \"Maximilian Schwarzmueller\"\n",
    "          }\n",
    "        }\n",
    "      ]\n",
    "    },\n",
    "    {\n",
    "      \"_class\": \"question\",\n",
    "      \"course\": {\n",
    "        \"_class\": \"course\",\n",
    "        \"title\": \"Angular 7 (formerly Angular 2) - The Complete Guide\",\n",
    "        \"url\": \"/the-complete-guide-to-angular-2/\"\n",
    "      },\n",
    "      \"replies\": [\n",
    "        {\n",
    "          \"_class\": \"answer\",\n",
    "          \"user\": {\n",
    "            \"_class\": \"user\",\n",
    "            \"display_name\": \"Maximilian Schwarzmueller\"\n",
    "          }\n",
    "        },\n",
    "        {\n",
    "          \"_class\": \"answer\",\n",
    "          \"user\": {\n",
    "            \"_class\": \"user\",\n",
    "            \"display_name\": \"Daniel Weat\"\n",
    "          }\n",
    "        }\n",
    "      ]\n",
    "    },\n",
    "    {\n",
    "      \"_class\": \"question\",\n",
    "      \"course\": {\n",
    "        \"_class\": \"course\",\n",
    "        \"title\": \"Angular 7 (formerly Angular 2) - The Complete Guide\",\n",
    "        \"url\": \"/the-complete-guide-to-angular-2/\"\n",
    "      },\n",
    "      \"replies\": [\n",
    "        {\n",
    "          \"_class\": \"answer\",\n",
    "          \"user\": {\n",
    "            \"_class\": \"user\",\n",
    "            \"display_name\": \"Maximilian Schwarzmueller\"\n",
    "          }\n",
    "        },\n",
    "        {\n",
    "          \"_class\": \"answer\",\n",
    "          \"user\": {\n",
    "            \"_class\": \"user\",\n",
    "            \"display_name\": \"Mike Jauranol\"\n",
    "          }\n",
    "        },\n",
    "        {\n",
    "          \"_class\": \"answer\",\n",
    "          \"user\": {\n",
    "            \"_class\": \"user\",\n",
    "            \"display_name\": \"Mike Jauranol\"\n",
    "          }\n",
    "        },\n",
    "        {\n",
    "          \"_class\": \"answer\",\n",
    "          \"user\": {\n",
    "            \"_class\": \"user\",\n",
    "            \"display_name\": \"Maximilian Schwarzmueller\"\n",
    "          }\n",
    "        }\n",
    "      ]\n",
    "    },\n",
    "    {\n",
    "      \"_class\": \"question\",\n",
    "      \"course\": {\n",
    "        \"_class\": \"course\",\n",
    "        \"title\": \"Angular 7 (formerly Angular 2) - The Complete Guide\",\n",
    "        \"url\": \"/the-complete-guide-to-angular-2/\"\n",
    "      },\n",
    "      \"replies\": [\n",
    "        {\n",
    "          \"_class\": \"answer\",\n",
    "          \"user\": {\n",
    "            \"_class\": \"user\",\n",
    "            \"display_name\": \"Maximilian Schwarzmueller\"\n",
    "          }\n",
    "        }\n",
    "      ]\n",
    "    },\n",
    "    {\n",
    "      \"_class\": \"question\",\n",
    "      \"course\": {\n",
    "        \"_class\": \"course\",\n",
    "        \"title\": \"Angular 7 (formerly Angular 2) - The Complete Guide\",\n",
    "        \"url\": \"/the-complete-guide-to-angular-2/\"\n",
    "      },\n",
    "      \"replies\": [\n",
    "        {\n",
    "          \"_class\": \"answer\",\n",
    "          \"user\": {\n",
    "            \"_class\": \"user\",\n",
    "            \"display_name\": \"Maximilian Schwarzmueller\"\n",
    "          }\n",
    "        },\n",
    "        {\n",
    "          \"_class\": \"answer\",\n",
    "          \"user\": {\n",
    "            \"_class\": \"user\",\n",
    "            \"display_name\": \"Bernd Raucher\"\n",
    "          }\n",
    "        },\n",
    "        {\n",
    "          \"_class\": \"answer\",\n",
    "          \"user\": {\n",
    "            \"_class\": \"user\",\n",
    "            \"display_name\": \"Maximilian Schwarzmueller\"\n",
    "          }\n",
    "        }\n",
    "      ]\n",
    "    }\n",
    "  ]\n",
    "}"
   ]
  },
  {
   "cell_type": "markdown",
   "metadata": {},
   "source": [
    "# Loading json file"
   ]
  },
  {
   "cell_type": "code",
   "execution_count": 3,
   "metadata": {},
   "outputs": [],
   "source": [
    "import json"
   ]
  },
  {
   "cell_type": "code",
   "execution_count": 4,
   "metadata": {},
   "outputs": [],
   "source": [
    "with open('source-data.json') as file_json:\n",
    "    data = json.load(file_json) "
   ]
  },
  {
   "cell_type": "code",
   "execution_count": 5,
   "metadata": {},
   "outputs": [
    {
     "data": {
      "text/plain": [
       "{'results': [{'_class': 'question',\n",
       "   'course': {'_class': 'course',\n",
       "    'title': 'Angular 7 (formerly Angular 2) - The Complete Guide',\n",
       "    'url': '/the-complete-guide-to-angular-2/'},\n",
       "   'replies': [{'_class': 'answer',\n",
       "     'user': {'_class': 'user',\n",
       "      'display_name': 'Maximilian Schwarzmueller'}}]},\n",
       "  {'_class': 'question',\n",
       "   'course': {'_class': 'course',\n",
       "    'title': 'Angular 7 (formerly Angular 2) - The Complete Guide',\n",
       "    'url': '/the-complete-guide-to-angular-2/'},\n",
       "   'replies': [{'_class': 'answer',\n",
       "     'user': {'_class': 'user', 'display_name': 'Maximilian Schwarzmueller'}},\n",
       "    {'_class': 'answer',\n",
       "     'user': {'_class': 'user', 'display_name': 'Daniel Weat'}}]},\n",
       "  {'_class': 'question',\n",
       "   'course': {'_class': 'course',\n",
       "    'title': 'Angular 7 (formerly Angular 2) - The Complete Guide',\n",
       "    'url': '/the-complete-guide-to-angular-2/'},\n",
       "   'replies': [{'_class': 'answer',\n",
       "     'user': {'_class': 'user', 'display_name': 'Maximilian Schwarzmueller'}},\n",
       "    {'_class': 'answer',\n",
       "     'user': {'_class': 'user', 'display_name': 'Mike Jauranol'}},\n",
       "    {'_class': 'answer',\n",
       "     'user': {'_class': 'user', 'display_name': 'Mike Jauranol'}},\n",
       "    {'_class': 'answer',\n",
       "     'user': {'_class': 'user',\n",
       "      'display_name': 'Maximilian Schwarzmueller'}}]},\n",
       "  {'_class': 'question',\n",
       "   'course': {'_class': 'course',\n",
       "    'title': 'Angular 7 (formerly Angular 2) - The Complete Guide',\n",
       "    'url': '/the-complete-guide-to-angular-2/'},\n",
       "   'replies': [{'_class': 'answer',\n",
       "     'user': {'_class': 'user',\n",
       "      'display_name': 'Maximilian Schwarzmueller'}}]},\n",
       "  {'_class': 'question',\n",
       "   'course': {'_class': 'course',\n",
       "    'title': 'Angular 7 (formerly Angular 2) - The Complete Guide',\n",
       "    'url': '/the-complete-guide-to-angular-2/'},\n",
       "   'replies': [{'_class': 'answer',\n",
       "     'user': {'_class': 'user', 'display_name': 'Maximilian Schwarzmueller'}},\n",
       "    {'_class': 'answer',\n",
       "     'user': {'_class': 'user', 'display_name': 'Bernd Raucher'}},\n",
       "    {'_class': 'answer',\n",
       "     'user': {'_class': 'user',\n",
       "      'display_name': 'Maximilian Schwarzmueller'}}]}]}"
      ]
     },
     "execution_count": 5,
     "metadata": {},
     "output_type": "execute_result"
    }
   ],
   "source": [
    "data"
   ]
  },
  {
   "cell_type": "code",
   "execution_count": 6,
   "metadata": {},
   "outputs": [
    {
     "data": {
      "text/plain": [
       "dict"
      ]
     },
     "execution_count": 6,
     "metadata": {},
     "output_type": "execute_result"
    }
   ],
   "source": [
    "type(data)"
   ]
  },
  {
   "cell_type": "markdown",
   "metadata": {},
   "source": [
    "### checking key"
   ]
  },
  {
   "cell_type": "code",
   "execution_count": 7,
   "metadata": {},
   "outputs": [
    {
     "data": {
      "text/plain": [
       "[{'_class': 'question',\n",
       "  'course': {'_class': 'course',\n",
       "   'title': 'Angular 7 (formerly Angular 2) - The Complete Guide',\n",
       "   'url': '/the-complete-guide-to-angular-2/'},\n",
       "  'replies': [{'_class': 'answer',\n",
       "    'user': {'_class': 'user', 'display_name': 'Maximilian Schwarzmueller'}}]},\n",
       " {'_class': 'question',\n",
       "  'course': {'_class': 'course',\n",
       "   'title': 'Angular 7 (formerly Angular 2) - The Complete Guide',\n",
       "   'url': '/the-complete-guide-to-angular-2/'},\n",
       "  'replies': [{'_class': 'answer',\n",
       "    'user': {'_class': 'user', 'display_name': 'Maximilian Schwarzmueller'}},\n",
       "   {'_class': 'answer',\n",
       "    'user': {'_class': 'user', 'display_name': 'Daniel Weat'}}]},\n",
       " {'_class': 'question',\n",
       "  'course': {'_class': 'course',\n",
       "   'title': 'Angular 7 (formerly Angular 2) - The Complete Guide',\n",
       "   'url': '/the-complete-guide-to-angular-2/'},\n",
       "  'replies': [{'_class': 'answer',\n",
       "    'user': {'_class': 'user', 'display_name': 'Maximilian Schwarzmueller'}},\n",
       "   {'_class': 'answer',\n",
       "    'user': {'_class': 'user', 'display_name': 'Mike Jauranol'}},\n",
       "   {'_class': 'answer',\n",
       "    'user': {'_class': 'user', 'display_name': 'Mike Jauranol'}},\n",
       "   {'_class': 'answer',\n",
       "    'user': {'_class': 'user', 'display_name': 'Maximilian Schwarzmueller'}}]},\n",
       " {'_class': 'question',\n",
       "  'course': {'_class': 'course',\n",
       "   'title': 'Angular 7 (formerly Angular 2) - The Complete Guide',\n",
       "   'url': '/the-complete-guide-to-angular-2/'},\n",
       "  'replies': [{'_class': 'answer',\n",
       "    'user': {'_class': 'user', 'display_name': 'Maximilian Schwarzmueller'}}]},\n",
       " {'_class': 'question',\n",
       "  'course': {'_class': 'course',\n",
       "   'title': 'Angular 7 (formerly Angular 2) - The Complete Guide',\n",
       "   'url': '/the-complete-guide-to-angular-2/'},\n",
       "  'replies': [{'_class': 'answer',\n",
       "    'user': {'_class': 'user', 'display_name': 'Maximilian Schwarzmueller'}},\n",
       "   {'_class': 'answer',\n",
       "    'user': {'_class': 'user', 'display_name': 'Bernd Raucher'}},\n",
       "   {'_class': 'answer',\n",
       "    'user': {'_class': 'user', 'display_name': 'Maximilian Schwarzmueller'}}]}]"
      ]
     },
     "execution_count": 7,
     "metadata": {},
     "output_type": "execute_result"
    }
   ],
   "source": [
    "data[\"results\"]"
   ]
  },
  {
   "cell_type": "code",
   "execution_count": 8,
   "metadata": {},
   "outputs": [
    {
     "data": {
      "text/plain": [
       "list"
      ]
     },
     "execution_count": 8,
     "metadata": {},
     "output_type": "execute_result"
    }
   ],
   "source": [
    "question_access=data[\"results\"]\n",
    "type(question_access)"
   ]
  },
  {
   "cell_type": "code",
   "execution_count": 9,
   "metadata": {},
   "outputs": [
    {
     "data": {
      "text/plain": [
       "{'_class': 'question',\n",
       " 'course': {'_class': 'course',\n",
       "  'title': 'Angular 7 (formerly Angular 2) - The Complete Guide',\n",
       "  'url': '/the-complete-guide-to-angular-2/'},\n",
       " 'replies': [{'_class': 'answer',\n",
       "   'user': {'_class': 'user', 'display_name': 'Maximilian Schwarzmueller'}}]}"
      ]
     },
     "execution_count": 9,
     "metadata": {},
     "output_type": "execute_result"
    }
   ],
   "source": [
    "question_access[0]"
   ]
  },
  {
   "cell_type": "code",
   "execution_count": 10,
   "metadata": {},
   "outputs": [
    {
     "name": "stdout",
     "output_type": "stream",
     "text": [
      "{'_class': 'question', 'course': {'_class': 'course', 'title': 'Angular 7 (formerly Angular 2) - The Complete Guide', 'url': '/the-complete-guide-to-angular-2/'}, 'replies': [{'_class': 'answer', 'user': {'_class': 'user', 'display_name': 'Maximilian Schwarzmueller'}}]}\n",
      "{'_class': 'question', 'course': {'_class': 'course', 'title': 'Angular 7 (formerly Angular 2) - The Complete Guide', 'url': '/the-complete-guide-to-angular-2/'}, 'replies': [{'_class': 'answer', 'user': {'_class': 'user', 'display_name': 'Maximilian Schwarzmueller'}}, {'_class': 'answer', 'user': {'_class': 'user', 'display_name': 'Daniel Weat'}}]}\n",
      "{'_class': 'question', 'course': {'_class': 'course', 'title': 'Angular 7 (formerly Angular 2) - The Complete Guide', 'url': '/the-complete-guide-to-angular-2/'}, 'replies': [{'_class': 'answer', 'user': {'_class': 'user', 'display_name': 'Maximilian Schwarzmueller'}}, {'_class': 'answer', 'user': {'_class': 'user', 'display_name': 'Mike Jauranol'}}, {'_class': 'answer', 'user': {'_class': 'user', 'display_name': 'Mike Jauranol'}}, {'_class': 'answer', 'user': {'_class': 'user', 'display_name': 'Maximilian Schwarzmueller'}}]}\n",
      "{'_class': 'question', 'course': {'_class': 'course', 'title': 'Angular 7 (formerly Angular 2) - The Complete Guide', 'url': '/the-complete-guide-to-angular-2/'}, 'replies': [{'_class': 'answer', 'user': {'_class': 'user', 'display_name': 'Maximilian Schwarzmueller'}}]}\n",
      "{'_class': 'question', 'course': {'_class': 'course', 'title': 'Angular 7 (formerly Angular 2) - The Complete Guide', 'url': '/the-complete-guide-to-angular-2/'}, 'replies': [{'_class': 'answer', 'user': {'_class': 'user', 'display_name': 'Maximilian Schwarzmueller'}}, {'_class': 'answer', 'user': {'_class': 'user', 'display_name': 'Bernd Raucher'}}, {'_class': 'answer', 'user': {'_class': 'user', 'display_name': 'Maximilian Schwarzmueller'}}]}\n"
     ]
    }
   ],
   "source": [
    "# Or we can use FOR Loop for all data\n",
    "\n",
    "for question_data in question_access:\n",
    "    print(question_data)"
   ]
  },
  {
   "cell_type": "code",
   "execution_count": 11,
   "metadata": {},
   "outputs": [
    {
     "data": {
      "text/plain": [
       "dict"
      ]
     },
     "execution_count": 11,
     "metadata": {},
     "output_type": "execute_result"
    }
   ],
   "source": [
    "type(question_data)"
   ]
  },
  {
   "cell_type": "markdown",
   "metadata": {},
   "source": [
    "### checking replies key"
   ]
  },
  {
   "cell_type": "code",
   "execution_count": 12,
   "metadata": {},
   "outputs": [
    {
     "data": {
      "text/plain": [
       "[{'_class': 'answer',\n",
       "  'user': {'_class': 'user', 'display_name': 'Maximilian Schwarzmueller'}},\n",
       " {'_class': 'answer',\n",
       "  'user': {'_class': 'user', 'display_name': 'Bernd Raucher'}},\n",
       " {'_class': 'answer',\n",
       "  'user': {'_class': 'user', 'display_name': 'Maximilian Schwarzmueller'}}]"
      ]
     },
     "execution_count": 12,
     "metadata": {},
     "output_type": "execute_result"
    }
   ],
   "source": [
    "replies_access=question_data[\"replies\"]\n",
    "replies_access"
   ]
  },
  {
   "cell_type": "markdown",
   "metadata": {},
   "source": [
    "We get very last list"
   ]
  },
  {
   "cell_type": "code",
   "execution_count": 13,
   "metadata": {},
   "outputs": [
    {
     "data": {
      "text/plain": [
       "list"
      ]
     },
     "execution_count": 13,
     "metadata": {},
     "output_type": "execute_result"
    }
   ],
   "source": [
    "type(replies_access)"
   ]
  },
  {
   "cell_type": "code",
   "execution_count": 14,
   "metadata": {},
   "outputs": [
    {
     "name": "stdout",
     "output_type": "stream",
     "text": [
      "{'_class': 'answer', 'user': {'_class': 'user', 'display_name': 'Maximilian Schwarzmueller'}}\n",
      "{'_class': 'answer', 'user': {'_class': 'user', 'display_name': 'Bernd Raucher'}}\n",
      "{'_class': 'answer', 'user': {'_class': 'user', 'display_name': 'Maximilian Schwarzmueller'}}\n"
     ]
    }
   ],
   "source": [
    "# apply another for loop\n",
    "\n",
    "for repli_data in replies_access:\n",
    "    print(repli_data)"
   ]
  },
  {
   "cell_type": "code",
   "execution_count": 15,
   "metadata": {},
   "outputs": [
    {
     "data": {
      "text/plain": [
       "'Maximilian Schwarzmueller'"
      ]
     },
     "execution_count": 15,
     "metadata": {},
     "output_type": "execute_result"
    }
   ],
   "source": [
    "### access user name\n",
    "\n",
    "user_name=repli_data['user']['display_name']\n",
    "user_name"
   ]
  },
  {
   "cell_type": "markdown",
   "metadata": {},
   "source": [
    "We have only got one result. We need to fetch all display names in data"
   ]
  },
  {
   "cell_type": "markdown",
   "metadata": {},
   "source": [
    "### For All names"
   ]
  },
  {
   "cell_type": "code",
   "execution_count": 16,
   "metadata": {},
   "outputs": [],
   "source": [
    "def get_user_data():\n",
    "    question_access=data[\"results\"]\n",
    "    for question_data in question_access:\n",
    "        replies_access=question_data[\"replies\"]\n",
    "        for repli_data in replies_access:\n",
    "            user_name=repli_data['user']['display_name']\n",
    "            print(user_name)"
   ]
  },
  {
   "cell_type": "code",
   "execution_count": 17,
   "metadata": {},
   "outputs": [
    {
     "name": "stdout",
     "output_type": "stream",
     "text": [
      "Maximilian Schwarzmueller\n",
      "Maximilian Schwarzmueller\n",
      "Daniel Weat\n",
      "Maximilian Schwarzmueller\n",
      "Mike Jauranol\n",
      "Mike Jauranol\n",
      "Maximilian Schwarzmueller\n",
      "Maximilian Schwarzmueller\n",
      "Maximilian Schwarzmueller\n",
      "Bernd Raucher\n",
      "Maximilian Schwarzmueller\n"
     ]
    }
   ],
   "source": [
    "get_user_data()"
   ]
  },
  {
   "cell_type": "markdown",
   "metadata": {},
   "source": [
    "### Save as json object"
   ]
  },
  {
   "cell_type": "code",
   "execution_count": 18,
   "metadata": {},
   "outputs": [],
   "source": [
    "def get_user_data():\n",
    "    question_access=data[\"results\"]\n",
    "    for question_data in question_access:\n",
    "        replies_access=question_data[\"replies\"]\n",
    "        for repli_data in replies_access:\n",
    "            user_name=repli_data['user']['display_name']\n",
    "            save_json.append(user_name)"
   ]
  },
  {
   "cell_type": "code",
   "execution_count": 19,
   "metadata": {},
   "outputs": [],
   "source": [
    "save_json=[]\n"
   ]
  },
  {
   "cell_type": "code",
   "execution_count": 20,
   "metadata": {},
   "outputs": [],
   "source": [
    "get_user_data()"
   ]
  },
  {
   "cell_type": "code",
   "execution_count": 21,
   "metadata": {},
   "outputs": [
    {
     "data": {
      "text/plain": [
       "['Maximilian Schwarzmueller',\n",
       " 'Maximilian Schwarzmueller',\n",
       " 'Daniel Weat',\n",
       " 'Maximilian Schwarzmueller',\n",
       " 'Mike Jauranol',\n",
       " 'Mike Jauranol',\n",
       " 'Maximilian Schwarzmueller',\n",
       " 'Maximilian Schwarzmueller',\n",
       " 'Maximilian Schwarzmueller',\n",
       " 'Bernd Raucher',\n",
       " 'Maximilian Schwarzmueller']"
      ]
     },
     "execution_count": 21,
     "metadata": {},
     "output_type": "execute_result"
    }
   ],
   "source": [
    "save_json"
   ]
  },
  {
   "cell_type": "code",
   "execution_count": 22,
   "metadata": {},
   "outputs": [
    {
     "data": {
      "text/plain": [
       "list"
      ]
     },
     "execution_count": 22,
     "metadata": {},
     "output_type": "execute_result"
    }
   ],
   "source": [
    "type(save_json)"
   ]
  },
  {
   "cell_type": "code",
   "execution_count": 23,
   "metadata": {},
   "outputs": [],
   "source": [
    "with open('user_name.json', 'w') as file:\n",
    "    json.dump(save_json, file)"
   ]
  },
  {
   "cell_type": "markdown",
   "metadata": {},
   "source": [
    "# With data2"
   ]
  },
  {
   "cell_type": "code",
   "execution_count": 24,
   "metadata": {},
   "outputs": [],
   "source": [
    "with open('contract_output2.json') as file_json:\n",
    "    data2 = json.load(file_json) "
   ]
  },
  {
   "cell_type": "code",
   "execution_count": 25,
   "metadata": {},
   "outputs": [
    {
     "data": {
      "text/plain": [
       "{'text': {'0': '\\n\\nAgreement for Security Operation Center Services between Verizon Deutschland GmbH Sebrathweg 20 D-44149 Dortmund\\n‑ hereinafter referred to as “Contractor” ‑\\nand F.UN Business Services GmbH Humboldtstraße 33 D-30169 Hannover\\n‑ hereinafter referred to as “EBS” ‑\\n‑ both hereinafter collectively referred to as the “Contracting Parties” ‑ October 09, 2018\\n\\n'},\n",
       " 'labels': {'0': [[2, 50, 'TITLE'],\n",
       "   [59, 83, 'SUPPLIER'],\n",
       "   [163, 190, 'CLIENT']]}}"
      ]
     },
     "execution_count": 25,
     "metadata": {},
     "output_type": "execute_result"
    }
   ],
   "source": [
    "data2"
   ]
  },
  {
   "cell_type": "code",
   "execution_count": 26,
   "metadata": {},
   "outputs": [
    {
     "data": {
      "text/plain": [
       "dict"
      ]
     },
     "execution_count": 26,
     "metadata": {},
     "output_type": "execute_result"
    }
   ],
   "source": [
    "type(data2)"
   ]
  },
  {
   "cell_type": "markdown",
   "metadata": {},
   "source": [
    "### checking keys\n",
    "\n",
    "we have two in this case"
   ]
  },
  {
   "cell_type": "code",
   "execution_count": 27,
   "metadata": {},
   "outputs": [
    {
     "data": {
      "text/plain": [
       "dict"
      ]
     },
     "execution_count": 27,
     "metadata": {},
     "output_type": "execute_result"
    }
   ],
   "source": [
    "text_level1=data2[\"text\"]\n",
    "type(text_level1)"
   ]
  },
  {
   "cell_type": "code",
   "execution_count": 28,
   "metadata": {},
   "outputs": [
    {
     "data": {
      "text/plain": [
       "{'0': '\\n\\nAgreement for Security Operation Center Services between Verizon Deutschland GmbH Sebrathweg 20 D-44149 Dortmund\\n‑ hereinafter referred to as “Contractor” ‑\\nand F.UN Business Services GmbH Humboldtstraße 33 D-30169 Hannover\\n‑ hereinafter referred to as “EBS” ‑\\n‑ both hereinafter collectively referred to as the “Contracting Parties” ‑ October 09, 2018\\n\\n'}"
      ]
     },
     "execution_count": 28,
     "metadata": {},
     "output_type": "execute_result"
    }
   ],
   "source": [
    "text_level1"
   ]
  },
  {
   "cell_type": "code",
   "execution_count": 29,
   "metadata": {},
   "outputs": [
    {
     "data": {
      "text/plain": [
       "str"
      ]
     },
     "execution_count": 29,
     "metadata": {},
     "output_type": "execute_result"
    }
   ],
   "source": [
    "text_level2=text_level1[\"0\"]\n",
    "type(text_level2)"
   ]
  },
  {
   "cell_type": "code",
   "execution_count": 30,
   "metadata": {},
   "outputs": [
    {
     "data": {
      "text/plain": [
       "'\\n\\nAgreement for Security Operation Center Services between Verizon Deutschland GmbH Sebrathweg 20 D-44149 Dortmund\\n‑ hereinafter referred to as “Contractor” ‑\\nand F.UN Business Services GmbH Humboldtstraße 33 D-30169 Hannover\\n‑ hereinafter referred to as “EBS” ‑\\n‑ both hereinafter collectively referred to as the “Contracting Parties” ‑ October 09, 2018\\n\\n'"
      ]
     },
     "execution_count": 30,
     "metadata": {},
     "output_type": "execute_result"
    }
   ],
   "source": [
    "text_level2"
   ]
  },
  {
   "cell_type": "code",
   "execution_count": 31,
   "metadata": {},
   "outputs": [
    {
     "name": "stdout",
     "output_type": "stream",
     "text": [
      "['Agreement', 'for', 'Security', 'Operation', 'Center', 'Services', 'between', 'Verizon', 'Deutschland', 'GmbH', 'Sebrathweg', '20', 'D-44149', 'Dortmund', '‑', 'hereinafter', 'referred', 'to', 'as', '“Contractor”', '‑', 'and', 'F.UN', 'Business', 'Services', 'GmbH', 'Humboldtstraße', '33', 'D-30169', 'Hannover', '‑', 'hereinafter', 'referred', 'to', 'as', '“EBS”', '‑', '‑', 'both', 'hereinafter', 'collectively', 'referred', 'to', 'as', 'the', '“Contracting', 'Parties”', '‑', 'October', '09,', '2018']\n"
     ]
    }
   ],
   "source": [
    "# convert into token\n",
    "print(text_level2.split())"
   ]
  },
  {
   "cell_type": "code",
   "execution_count": 32,
   "metadata": {},
   "outputs": [],
   "source": [
    "tokens=text_level2.split()"
   ]
  },
  {
   "cell_type": "code",
   "execution_count": 33,
   "metadata": {},
   "outputs": [
    {
     "data": {
      "text/plain": [
       "0          Agreement\n",
       "1                for\n",
       "2           Security\n",
       "3          Operation\n",
       "4             Center\n",
       "5           Services\n",
       "6            between\n",
       "7            Verizon\n",
       "8        Deutschland\n",
       "9               GmbH\n",
       "10        Sebrathweg\n",
       "11                20\n",
       "12           D-44149\n",
       "13          Dortmund\n",
       "14                 ‑\n",
       "15       hereinafter\n",
       "16          referred\n",
       "17                to\n",
       "18                as\n",
       "19      “Contractor”\n",
       "20                 ‑\n",
       "21               and\n",
       "22              F.UN\n",
       "23          Business\n",
       "24          Services\n",
       "25              GmbH\n",
       "26    Humboldtstraße\n",
       "27                33\n",
       "28           D-30169\n",
       "29          Hannover\n",
       "30                 ‑\n",
       "31       hereinafter\n",
       "32          referred\n",
       "33                to\n",
       "34                as\n",
       "35             “EBS”\n",
       "36                 ‑\n",
       "37                 ‑\n",
       "38              both\n",
       "39       hereinafter\n",
       "40      collectively\n",
       "41          referred\n",
       "42                to\n",
       "43                as\n",
       "44               the\n",
       "45      “Contracting\n",
       "46          Parties”\n",
       "47                 ‑\n",
       "48           October\n",
       "49               09,\n",
       "50              2018\n",
       "dtype: object"
      ]
     },
     "execution_count": 33,
     "metadata": {},
     "output_type": "execute_result"
    }
   ],
   "source": [
    "import pandas as pd\n",
    "pd.Series(tokens)"
   ]
  },
  {
   "cell_type": "code",
   "execution_count": 34,
   "metadata": {},
   "outputs": [
    {
     "data": {
      "text/plain": [
       "{'0': [[2, 50, 'TITLE'], [59, 83, 'SUPPLIER'], [163, 190, 'CLIENT']]}"
      ]
     },
     "execution_count": 34,
     "metadata": {},
     "output_type": "execute_result"
    }
   ],
   "source": [
    "label_level1=data2[\"labels\"]\n",
    "label_level1"
   ]
  },
  {
   "cell_type": "code",
   "execution_count": 35,
   "metadata": {},
   "outputs": [
    {
     "data": {
      "text/plain": [
       "dict"
      ]
     },
     "execution_count": 35,
     "metadata": {},
     "output_type": "execute_result"
    }
   ],
   "source": [
    "type(label_level1)"
   ]
  },
  {
   "cell_type": "code",
   "execution_count": 36,
   "metadata": {},
   "outputs": [
    {
     "data": {
      "text/plain": [
       "list"
      ]
     },
     "execution_count": 36,
     "metadata": {},
     "output_type": "execute_result"
    }
   ],
   "source": [
    "label_level2=label_level1[\"0\"]\n",
    "type(label_level2)"
   ]
  },
  {
   "cell_type": "code",
   "execution_count": 37,
   "metadata": {},
   "outputs": [
    {
     "data": {
      "text/plain": [
       "[[2, 50, 'TITLE'], [59, 83, 'SUPPLIER'], [163, 190, 'CLIENT']]"
      ]
     },
     "execution_count": 37,
     "metadata": {},
     "output_type": "execute_result"
    }
   ],
   "source": [
    "label_level2"
   ]
  },
  {
   "cell_type": "code",
   "execution_count": 38,
   "metadata": {},
   "outputs": [
    {
     "data": {
      "text/plain": [
       "[2, 50, 'TITLE']"
      ]
     },
     "execution_count": 38,
     "metadata": {},
     "output_type": "execute_result"
    }
   ],
   "source": [
    "label_level2[0]"
   ]
  },
  {
   "cell_type": "code",
   "execution_count": 39,
   "metadata": {},
   "outputs": [
    {
     "data": {
      "text/plain": [
       "[59, 83, 'SUPPLIER']"
      ]
     },
     "execution_count": 39,
     "metadata": {},
     "output_type": "execute_result"
    }
   ],
   "source": [
    "label_level2[1]"
   ]
  },
  {
   "cell_type": "code",
   "execution_count": 40,
   "metadata": {},
   "outputs": [
    {
     "data": {
      "text/plain": [
       "[163, 190, 'CLIENT']"
      ]
     },
     "execution_count": 40,
     "metadata": {},
     "output_type": "execute_result"
    }
   ],
   "source": [
    "label_level2[2]"
   ]
  },
  {
   "cell_type": "code",
   "execution_count": 41,
   "metadata": {},
   "outputs": [],
   "source": [
    "ent1=label_level2[0]\n",
    "ent2=label_level2[1]\n",
    "ent3=label_level2[0]"
   ]
  },
  {
   "cell_type": "code",
   "execution_count": 42,
   "metadata": {},
   "outputs": [
    {
     "data": {
      "text/plain": [
       "[2, 50, 'TITLE']"
      ]
     },
     "execution_count": 42,
     "metadata": {},
     "output_type": "execute_result"
    }
   ],
   "source": [
    "ent3"
   ]
  },
  {
   "cell_type": "code",
   "execution_count": 43,
   "metadata": {},
   "outputs": [
    {
     "name": "stdout",
     "output_type": "stream",
     "text": [
      "[2, 50, 'TITLE']\n",
      "[59, 83, 'SUPPLIER']\n",
      "[163, 190, 'CLIENT']\n"
     ]
    }
   ],
   "source": [
    "for entities in label_level2:\n",
    "    print(entities)"
   ]
  },
  {
   "cell_type": "code",
   "execution_count": 44,
   "metadata": {},
   "outputs": [
    {
     "data": {
      "text/plain": [
       "list"
      ]
     },
     "execution_count": 44,
     "metadata": {},
     "output_type": "execute_result"
    }
   ],
   "source": [
    "type(entities)"
   ]
  },
  {
   "cell_type": "code",
   "execution_count": 45,
   "metadata": {},
   "outputs": [
    {
     "data": {
      "text/plain": [
       "[163, 190, 'CLIENT']"
      ]
     },
     "execution_count": 45,
     "metadata": {},
     "output_type": "execute_result"
    }
   ],
   "source": [
    "entities"
   ]
  },
  {
   "cell_type": "markdown",
   "metadata": {},
   "source": [
    "We get only last of our list value."
   ]
  },
  {
   "cell_type": "code",
   "execution_count": 46,
   "metadata": {},
   "outputs": [
    {
     "name": "stdout",
     "output_type": "stream",
     "text": [
      "163\n",
      "190\n",
      "CLIENT\n"
     ]
    }
   ],
   "source": [
    "print(entities[0])\n",
    "print(entities[1])\n",
    "print(entities[2])"
   ]
  },
  {
   "cell_type": "code",
   "execution_count": 47,
   "metadata": {},
   "outputs": [
    {
     "name": "stdout",
     "output_type": "stream",
     "text": [
      "163\n",
      "190\n",
      "CLIENT\n"
     ]
    }
   ],
   "source": [
    "# apply another for loop\n",
    "\n",
    "for ent in entities:\n",
    "    print(ent)"
   ]
  },
  {
   "cell_type": "markdown",
   "metadata": {},
   "source": [
    "### For Getting all entities"
   ]
  },
  {
   "cell_type": "code",
   "execution_count": 48,
   "metadata": {},
   "outputs": [
    {
     "data": {
      "text/plain": [
       "[[2, 50, 'TITLE'], [59, 83, 'SUPPLIER'], [163, 190, 'CLIENT']]"
      ]
     },
     "execution_count": 48,
     "metadata": {},
     "output_type": "execute_result"
    }
   ],
   "source": [
    "label_level2"
   ]
  },
  {
   "cell_type": "code",
   "execution_count": 49,
   "metadata": {},
   "outputs": [
    {
     "data": {
      "text/plain": [
       "[2, 50, 'TITLE']"
      ]
     },
     "execution_count": 49,
     "metadata": {},
     "output_type": "execute_result"
    }
   ],
   "source": [
    "ent1"
   ]
  },
  {
   "cell_type": "code",
   "execution_count": 50,
   "metadata": {},
   "outputs": [],
   "source": [
    "from collections import defaultdict\n",
    "d = defaultdict(list)\n",
    "for x in ent1:\n",
    "    d[type(x)].append(x)"
   ]
  },
  {
   "cell_type": "code",
   "execution_count": 51,
   "metadata": {},
   "outputs": [
    {
     "name": "stdout",
     "output_type": "stream",
     "text": [
      "[2, 50]\n",
      "['TITLE']\n"
     ]
    }
   ],
   "source": [
    "print(d[int])\n",
    "print(d[str])"
   ]
  },
  {
   "cell_type": "markdown",
   "metadata": {},
   "source": [
    "### For sake of better solution"
   ]
  },
  {
   "cell_type": "code",
   "execution_count": 52,
   "metadata": {},
   "outputs": [
    {
     "name": "stdout",
     "output_type": "stream",
     "text": [
      "initial Entity list--> [[2, 50, 'TITLE'], [59, 83, 'SUPPLIER'], [163, 190, 'CLIENT']]\n"
     ]
    }
   ],
   "source": [
    "# initialising nested lists \n",
    "ini_list =  label_level2\n",
    "  \n",
    "# printing initial lists \n",
    "print (\"initial Entity list-->\", str(ini_list)) "
   ]
  },
  {
   "cell_type": "code",
   "execution_count": 53,
   "metadata": {},
   "outputs": [
    {
     "name": "stdout",
     "output_type": "stream",
     "text": [
      "final lists: \n",
      " [2, 59, 163] \n",
      " [50, 83, 190] \n",
      " ['TITLE', 'SUPPLIER', 'CLIENT']\n"
     ]
    }
   ],
   "source": [
    "# code to split it into 2 lists \n",
    "res1, res2, res3 = map(list, zip(*ini_list)) \n",
    "  \n",
    "# printing result \n",
    "print(\"final lists:\",\"\\n\", res1, \"\\n\", res2 , \"\\n\" , res3)"
   ]
  },
  {
   "cell_type": "code",
   "execution_count": 54,
   "metadata": {},
   "outputs": [
    {
     "data": {
      "text/plain": [
       "['TITLE', 'SUPPLIER', 'CLIENT']"
      ]
     },
     "execution_count": 54,
     "metadata": {},
     "output_type": "execute_result"
    }
   ],
   "source": [
    "res3"
   ]
  },
  {
   "cell_type": "markdown",
   "metadata": {},
   "source": [
    "# With Data3"
   ]
  },
  {
   "cell_type": "code",
   "execution_count": 55,
   "metadata": {},
   "outputs": [],
   "source": [
    "with open('contract_out.json') as file_json:\n",
    "    data3 = json.load(file_json) "
   ]
  },
  {
   "cell_type": "code",
   "execution_count": 56,
   "metadata": {},
   "outputs": [
    {
     "data": {
      "text/plain": [
       "{'id': {'0': 0},\n",
       " 'paragraphs': {'0': {'raw': '\\n\\nAgreement for Security Operation Center Services between Verizon Deutschland GmbH Sebrathweg 20 D-44149 Dortmund\\n‑ hereinafter referred to as “Contractor” ‑\\nand F.UN Business Services GmbH Humboldtstraße 33 D-30169 Hannover\\n‑ hereinafter referred to as “EBS” ‑\\n‑ both hereinafter collectively referred to as the “Contracting Parties” ‑ October 09, 2018\\n\\n',\n",
       "   'sentences': [{'tokens': [{'id': 0,\n",
       "       'orth': '\\n\\n',\n",
       "       'tag': '_SP',\n",
       "       'head': 1,\n",
       "       'dep': '',\n",
       "       'ner': 'O'},\n",
       "      {'id': 1,\n",
       "       'orth': 'Agreement',\n",
       "       'tag': 'NNP',\n",
       "       'head': 17,\n",
       "       'dep': 'nsubj',\n",
       "       'ner': 'B-TITLE'},\n",
       "      {'id': 2,\n",
       "       'orth': 'for',\n",
       "       'tag': 'IN',\n",
       "       'head': -1,\n",
       "       'dep': 'prep',\n",
       "       'ner': 'I-TITLE'},\n",
       "      {'id': 3,\n",
       "       'orth': 'Security',\n",
       "       'tag': 'NNP',\n",
       "       'head': 2,\n",
       "       'dep': 'compound',\n",
       "       'ner': 'I-TITLE'},\n",
       "      {'id': 4,\n",
       "       'orth': 'Operation',\n",
       "       'tag': 'NNP',\n",
       "       'head': 1,\n",
       "       'dep': 'compound',\n",
       "       'ner': 'I-TITLE'},\n",
       "      {'id': 5,\n",
       "       'orth': 'Center',\n",
       "       'tag': 'NNP',\n",
       "       'head': 1,\n",
       "       'dep': 'compound',\n",
       "       'ner': 'I-TITLE'},\n",
       "      {'id': 6,\n",
       "       'orth': 'Services',\n",
       "       'tag': 'NNPS',\n",
       "       'head': -4,\n",
       "       'dep': 'pobj',\n",
       "       'ner': 'L-TITLE'},\n",
       "      {'id': 7,\n",
       "       'orth': 'between',\n",
       "       'tag': 'IN',\n",
       "       'head': -6,\n",
       "       'dep': 'prep',\n",
       "       'ner': 'O'},\n",
       "      {'id': 8,\n",
       "       'orth': 'Verizon',\n",
       "       'tag': 'NNP',\n",
       "       'head': 3,\n",
       "       'dep': 'compound',\n",
       "       'ner': 'B-SUPPLIER'},\n",
       "      {'id': 9,\n",
       "       'orth': 'Deutschland',\n",
       "       'tag': 'NNP',\n",
       "       'head': 2,\n",
       "       'dep': 'compound',\n",
       "       'ner': 'I-SUPPLIER'},\n",
       "      {'id': 10,\n",
       "       'orth': 'GmbH',\n",
       "       'tag': 'NNP',\n",
       "       'head': 1,\n",
       "       'dep': 'compound',\n",
       "       'ner': 'L-SUPPLIER'},\n",
       "      {'id': 11,\n",
       "       'orth': 'Sebrathweg',\n",
       "       'tag': 'NNP',\n",
       "       'head': -4,\n",
       "       'dep': 'pobj',\n",
       "       'ner': 'O'},\n",
       "      {'id': 12,\n",
       "       'orth': '20',\n",
       "       'tag': 'CD',\n",
       "       'head': 1,\n",
       "       'dep': 'nummod',\n",
       "       'ner': 'O'},\n",
       "      {'id': 13,\n",
       "       'orth': 'D-44149',\n",
       "       'tag': 'CD',\n",
       "       'head': -12,\n",
       "       'dep': 'punct',\n",
       "       'ner': 'O'},\n",
       "      {'id': 14,\n",
       "       'orth': 'Dortmund',\n",
       "       'tag': 'NNP',\n",
       "       'head': 3,\n",
       "       'dep': 'compound',\n",
       "       'ner': 'O'},\n",
       "      {'id': 15,\n",
       "       'orth': '\\n',\n",
       "       'tag': '_SP',\n",
       "       'head': -1,\n",
       "       'dep': '',\n",
       "       'ner': 'O'},\n",
       "      {'id': 16,\n",
       "       'orth': '‑',\n",
       "       'tag': 'NNP',\n",
       "       'head': 1,\n",
       "       'dep': 'compound',\n",
       "       'ner': 'O'},\n",
       "      {'id': 17,\n",
       "       'orth': 'hereinafter',\n",
       "       'tag': 'NN',\n",
       "       'head': -16,\n",
       "       'dep': 'appos',\n",
       "       'ner': 'O'},\n",
       "      {'id': 18,\n",
       "       'orth': 'referred',\n",
       "       'tag': 'VBD',\n",
       "       'head': 0,\n",
       "       'dep': 'ROOT',\n",
       "       'ner': 'O'},\n",
       "      {'id': 19,\n",
       "       'orth': 'to',\n",
       "       'tag': 'IN',\n",
       "       'head': -1,\n",
       "       'dep': 'prep',\n",
       "       'ner': 'O'},\n",
       "      {'id': 20,\n",
       "       'orth': 'as',\n",
       "       'tag': 'IN',\n",
       "       'head': -2,\n",
       "       'dep': 'prep',\n",
       "       'ner': 'O'},\n",
       "      {'id': 21,\n",
       "       'orth': '“',\n",
       "       'tag': '``',\n",
       "       'head': 9,\n",
       "       'dep': 'punct',\n",
       "       'ner': 'O'},\n",
       "      {'id': 22,\n",
       "       'orth': 'Contractor',\n",
       "       'tag': 'NNP',\n",
       "       'head': 8,\n",
       "       'dep': 'nmod',\n",
       "       'ner': 'O'},\n",
       "      {'id': 23,\n",
       "       'orth': '”',\n",
       "       'tag': \"''\",\n",
       "       'head': 7,\n",
       "       'dep': 'punct',\n",
       "       'ner': 'O'},\n",
       "      {'id': 24,\n",
       "       'orth': '‑',\n",
       "       'tag': 'JJ',\n",
       "       'head': 6,\n",
       "       'dep': 'nmod',\n",
       "       'ner': 'O'},\n",
       "      {'id': 25,\n",
       "       'orth': '\\n',\n",
       "       'tag': '_SP',\n",
       "       'head': -1,\n",
       "       'dep': '',\n",
       "       'ner': 'O'},\n",
       "      {'id': 26,\n",
       "       'orth': 'and',\n",
       "       'tag': 'CC',\n",
       "       'head': -2,\n",
       "       'dep': 'cc',\n",
       "       'ner': 'O'},\n",
       "      {'id': 27,\n",
       "       'orth': 'F.UN',\n",
       "       'tag': 'NNP',\n",
       "       'head': 1,\n",
       "       'dep': 'compound',\n",
       "       'ner': 'B-CLIENT'},\n",
       "      {'id': 28,\n",
       "       'orth': 'Business',\n",
       "       'tag': 'NNP',\n",
       "       'head': 1,\n",
       "       'dep': 'compound',\n",
       "       'ner': 'I-CLIENT'},\n",
       "      {'id': 29,\n",
       "       'orth': 'Services',\n",
       "       'tag': 'NNPS',\n",
       "       'head': -5,\n",
       "       'dep': 'conj',\n",
       "       'ner': 'I-CLIENT'},\n",
       "      {'id': 30,\n",
       "       'orth': 'GmbH',\n",
       "       'tag': 'NNP',\n",
       "       'head': 1,\n",
       "       'dep': 'compound',\n",
       "       'ner': 'L-CLIENT'},\n",
       "      {'id': 31,\n",
       "       'orth': 'Humboldtstraße',\n",
       "       'tag': 'NNP',\n",
       "       'head': -11,\n",
       "       'dep': 'pobj',\n",
       "       'ner': 'O'},\n",
       "      {'id': 32,\n",
       "       'orth': '33',\n",
       "       'tag': 'CD',\n",
       "       'head': -1,\n",
       "       'dep': 'nummod',\n",
       "       'ner': 'O'},\n",
       "      {'id': 33,\n",
       "       'orth': 'D-30169',\n",
       "       'tag': 'IN',\n",
       "       'head': -2,\n",
       "       'dep': 'prep',\n",
       "       'ner': 'O'},\n",
       "      {'id': 34,\n",
       "       'orth': 'Hannover',\n",
       "       'tag': 'NNP',\n",
       "       'head': 3,\n",
       "       'dep': 'compound',\n",
       "       'ner': 'O'},\n",
       "      {'id': 35,\n",
       "       'orth': '\\n',\n",
       "       'tag': '_SP',\n",
       "       'head': -1,\n",
       "       'dep': '',\n",
       "       'ner': 'O'},\n",
       "      {'id': 36,\n",
       "       'orth': '‑',\n",
       "       'tag': 'JJ',\n",
       "       'head': 1,\n",
       "       'dep': 'compound',\n",
       "       'ner': 'O'},\n",
       "      {'id': 37,\n",
       "       'orth': 'hereinafter',\n",
       "       'tag': 'NN',\n",
       "       'head': -6,\n",
       "       'dep': 'conj',\n",
       "       'ner': 'O'},\n",
       "      {'id': 38,\n",
       "       'orth': 'referred',\n",
       "       'tag': 'VBD',\n",
       "       'head': -20,\n",
       "       'dep': 'advcl',\n",
       "       'ner': 'O'},\n",
       "      {'id': 39,\n",
       "       'orth': 'to',\n",
       "       'tag': 'IN',\n",
       "       'head': -1,\n",
       "       'dep': 'prep',\n",
       "       'ner': 'O'},\n",
       "      {'id': 40,\n",
       "       'orth': 'as',\n",
       "       'tag': 'IN',\n",
       "       'head': -2,\n",
       "       'dep': 'prep',\n",
       "       'ner': 'O'},\n",
       "      {'id': 41,\n",
       "       'orth': '“',\n",
       "       'tag': '``',\n",
       "       'head': 5,\n",
       "       'dep': 'punct',\n",
       "       'ner': 'O'},\n",
       "      {'id': 42,\n",
       "       'orth': 'EBS',\n",
       "       'tag': 'NNP',\n",
       "       'head': 4,\n",
       "       'dep': 'nmod',\n",
       "       'ner': 'O'},\n",
       "      {'id': 43,\n",
       "       'orth': '”',\n",
       "       'tag': \"''\",\n",
       "       'head': 3,\n",
       "       'dep': 'punct',\n",
       "       'ner': 'O'},\n",
       "      {'id': 44,\n",
       "       'orth': '‑',\n",
       "       'tag': 'FW',\n",
       "       'head': 2,\n",
       "       'dep': 'compound',\n",
       "       'ner': 'O'},\n",
       "      {'id': 45,\n",
       "       'orth': '\\n',\n",
       "       'tag': '_SP',\n",
       "       'head': -1,\n",
       "       'dep': '',\n",
       "       'ner': 'O'},\n",
       "      {'id': 46,\n",
       "       'orth': '‑',\n",
       "       'tag': 'NNP',\n",
       "       'head': -6,\n",
       "       'dep': 'pobj',\n",
       "       'ner': 'O'},\n",
       "      {'id': 47,\n",
       "       'orth': 'both',\n",
       "       'tag': 'DT',\n",
       "       'head': 1,\n",
       "       'dep': 'det',\n",
       "       'ner': 'O'},\n",
       "      {'id': 48,\n",
       "       'orth': 'hereinafter',\n",
       "       'tag': 'NN',\n",
       "       'head': 2,\n",
       "       'dep': 'nsubj',\n",
       "       'ner': 'O'},\n",
       "      {'id': 49,\n",
       "       'orth': 'collectively',\n",
       "       'tag': 'RB',\n",
       "       'head': 1,\n",
       "       'dep': 'advmod',\n",
       "       'ner': 'O'},\n",
       "      {'id': 50,\n",
       "       'orth': 'referred',\n",
       "       'tag': 'VBD',\n",
       "       'head': -32,\n",
       "       'dep': 'conj',\n",
       "       'ner': 'O'},\n",
       "      {'id': 51,\n",
       "       'orth': 'to',\n",
       "       'tag': 'IN',\n",
       "       'head': -1,\n",
       "       'dep': 'prep',\n",
       "       'ner': 'O'},\n",
       "      {'id': 52,\n",
       "       'orth': 'as',\n",
       "       'tag': 'IN',\n",
       "       'head': -2,\n",
       "       'dep': 'prep',\n",
       "       'ner': 'O'},\n",
       "      {'id': 53,\n",
       "       'orth': 'the',\n",
       "       'tag': 'DT',\n",
       "       'head': 3,\n",
       "       'dep': 'det',\n",
       "       'ner': 'O'},\n",
       "      {'id': 54,\n",
       "       'orth': '“',\n",
       "       'tag': '``',\n",
       "       'head': 2,\n",
       "       'dep': 'punct',\n",
       "       'ner': 'O'},\n",
       "      {'id': 55,\n",
       "       'orth': 'Contracting',\n",
       "       'tag': 'NNP',\n",
       "       'head': 1,\n",
       "       'dep': 'compound',\n",
       "       'ner': 'O'},\n",
       "      {'id': 56,\n",
       "       'orth': 'Parties',\n",
       "       'tag': 'NNPS',\n",
       "       'head': -4,\n",
       "       'dep': 'pobj',\n",
       "       'ner': 'O'},\n",
       "      {'id': 57,\n",
       "       'orth': '”',\n",
       "       'tag': \"''\",\n",
       "       'head': -1,\n",
       "       'dep': 'punct',\n",
       "       'ner': 'O'},\n",
       "      {'id': 58,\n",
       "       'orth': '‑',\n",
       "       'tag': 'NNP',\n",
       "       'head': 1,\n",
       "       'dep': 'compound',\n",
       "       'ner': 'O'},\n",
       "      {'id': 59,\n",
       "       'orth': 'October',\n",
       "       'tag': 'NNP',\n",
       "       'head': -9,\n",
       "       'dep': 'npadvmod',\n",
       "       'ner': 'O'},\n",
       "      {'id': 60,\n",
       "       'orth': '09',\n",
       "       'tag': 'CD',\n",
       "       'head': -1,\n",
       "       'dep': 'nummod',\n",
       "       'ner': 'O'},\n",
       "      {'id': 61,\n",
       "       'orth': ',',\n",
       "       'tag': ',',\n",
       "       'head': -2,\n",
       "       'dep': 'punct',\n",
       "       'ner': 'O'},\n",
       "      {'id': 62,\n",
       "       'orth': '2018',\n",
       "       'tag': 'CD',\n",
       "       'head': -3,\n",
       "       'dep': 'appos',\n",
       "       'ner': 'O'},\n",
       "      {'id': 63,\n",
       "       'orth': '\\n\\n',\n",
       "       'tag': '_SP',\n",
       "       'head': -1,\n",
       "       'dep': '',\n",
       "       'ner': 'O'}],\n",
       "     'brackets': []}],\n",
       "   'cats': []}}}"
      ]
     },
     "execution_count": 56,
     "metadata": {},
     "output_type": "execute_result"
    }
   ],
   "source": [
    "data3"
   ]
  },
  {
   "cell_type": "code",
   "execution_count": 57,
   "metadata": {},
   "outputs": [
    {
     "data": {
      "text/plain": [
       "dict"
      ]
     },
     "execution_count": 57,
     "metadata": {},
     "output_type": "execute_result"
    }
   ],
   "source": [
    "type(data3)"
   ]
  },
  {
   "cell_type": "code",
   "execution_count": 58,
   "metadata": {},
   "outputs": [
    {
     "data": {
      "text/plain": [
       "{'0': 0}"
      ]
     },
     "execution_count": 58,
     "metadata": {},
     "output_type": "execute_result"
    }
   ],
   "source": [
    "data3[\"id\"]"
   ]
  },
  {
   "cell_type": "code",
   "execution_count": 59,
   "metadata": {},
   "outputs": [],
   "source": [
    "level1=data3[\"paragraphs\"][\"0\"]"
   ]
  },
  {
   "cell_type": "code",
   "execution_count": 60,
   "metadata": {},
   "outputs": [
    {
     "data": {
      "text/plain": [
       "dict"
      ]
     },
     "execution_count": 60,
     "metadata": {},
     "output_type": "execute_result"
    }
   ],
   "source": [
    "type(level1)"
   ]
  },
  {
   "cell_type": "code",
   "execution_count": 61,
   "metadata": {},
   "outputs": [
    {
     "data": {
      "text/plain": [
       "'\\n\\nAgreement for Security Operation Center Services between Verizon Deutschland GmbH Sebrathweg 20 D-44149 Dortmund\\n‑ hereinafter referred to as “Contractor” ‑\\nand F.UN Business Services GmbH Humboldtstraße 33 D-30169 Hannover\\n‑ hereinafter referred to as “EBS” ‑\\n‑ both hereinafter collectively referred to as the “Contracting Parties” ‑ October 09, 2018\\n\\n'"
      ]
     },
     "execution_count": 61,
     "metadata": {},
     "output_type": "execute_result"
    }
   ],
   "source": [
    "raw_text=level1[\"raw\"]\n",
    "raw_text"
   ]
  },
  {
   "cell_type": "code",
   "execution_count": 62,
   "metadata": {},
   "outputs": [
    {
     "data": {
      "text/plain": [
       "str"
      ]
     },
     "execution_count": 62,
     "metadata": {},
     "output_type": "execute_result"
    }
   ],
   "source": [
    "type(raw_text)"
   ]
  },
  {
   "cell_type": "markdown",
   "metadata": {},
   "source": [
    "**we get text separated again easily**"
   ]
  },
  {
   "cell_type": "markdown",
   "metadata": {},
   "source": [
    "### Create Tokens from text"
   ]
  },
  {
   "cell_type": "code",
   "execution_count": 63,
   "metadata": {},
   "outputs": [],
   "source": [
    "tokens_text=raw_text.split()"
   ]
  },
  {
   "cell_type": "markdown",
   "metadata": {},
   "source": [
    "### working with ner tag now"
   ]
  },
  {
   "cell_type": "code",
   "execution_count": 64,
   "metadata": {},
   "outputs": [],
   "source": [
    "level2=level1[\"sentences\"]"
   ]
  },
  {
   "cell_type": "code",
   "execution_count": 65,
   "metadata": {},
   "outputs": [
    {
     "data": {
      "text/plain": [
       "list"
      ]
     },
     "execution_count": 65,
     "metadata": {},
     "output_type": "execute_result"
    }
   ],
   "source": [
    "type(level2)"
   ]
  },
  {
   "cell_type": "code",
   "execution_count": 66,
   "metadata": {},
   "outputs": [
    {
     "data": {
      "text/plain": [
       "[{'tokens': [{'id': 0,\n",
       "    'orth': '\\n\\n',\n",
       "    'tag': '_SP',\n",
       "    'head': 1,\n",
       "    'dep': '',\n",
       "    'ner': 'O'},\n",
       "   {'id': 1,\n",
       "    'orth': 'Agreement',\n",
       "    'tag': 'NNP',\n",
       "    'head': 17,\n",
       "    'dep': 'nsubj',\n",
       "    'ner': 'B-TITLE'},\n",
       "   {'id': 2,\n",
       "    'orth': 'for',\n",
       "    'tag': 'IN',\n",
       "    'head': -1,\n",
       "    'dep': 'prep',\n",
       "    'ner': 'I-TITLE'},\n",
       "   {'id': 3,\n",
       "    'orth': 'Security',\n",
       "    'tag': 'NNP',\n",
       "    'head': 2,\n",
       "    'dep': 'compound',\n",
       "    'ner': 'I-TITLE'},\n",
       "   {'id': 4,\n",
       "    'orth': 'Operation',\n",
       "    'tag': 'NNP',\n",
       "    'head': 1,\n",
       "    'dep': 'compound',\n",
       "    'ner': 'I-TITLE'},\n",
       "   {'id': 5,\n",
       "    'orth': 'Center',\n",
       "    'tag': 'NNP',\n",
       "    'head': 1,\n",
       "    'dep': 'compound',\n",
       "    'ner': 'I-TITLE'},\n",
       "   {'id': 6,\n",
       "    'orth': 'Services',\n",
       "    'tag': 'NNPS',\n",
       "    'head': -4,\n",
       "    'dep': 'pobj',\n",
       "    'ner': 'L-TITLE'},\n",
       "   {'id': 7,\n",
       "    'orth': 'between',\n",
       "    'tag': 'IN',\n",
       "    'head': -6,\n",
       "    'dep': 'prep',\n",
       "    'ner': 'O'},\n",
       "   {'id': 8,\n",
       "    'orth': 'Verizon',\n",
       "    'tag': 'NNP',\n",
       "    'head': 3,\n",
       "    'dep': 'compound',\n",
       "    'ner': 'B-SUPPLIER'},\n",
       "   {'id': 9,\n",
       "    'orth': 'Deutschland',\n",
       "    'tag': 'NNP',\n",
       "    'head': 2,\n",
       "    'dep': 'compound',\n",
       "    'ner': 'I-SUPPLIER'},\n",
       "   {'id': 10,\n",
       "    'orth': 'GmbH',\n",
       "    'tag': 'NNP',\n",
       "    'head': 1,\n",
       "    'dep': 'compound',\n",
       "    'ner': 'L-SUPPLIER'},\n",
       "   {'id': 11,\n",
       "    'orth': 'Sebrathweg',\n",
       "    'tag': 'NNP',\n",
       "    'head': -4,\n",
       "    'dep': 'pobj',\n",
       "    'ner': 'O'},\n",
       "   {'id': 12,\n",
       "    'orth': '20',\n",
       "    'tag': 'CD',\n",
       "    'head': 1,\n",
       "    'dep': 'nummod',\n",
       "    'ner': 'O'},\n",
       "   {'id': 13,\n",
       "    'orth': 'D-44149',\n",
       "    'tag': 'CD',\n",
       "    'head': -12,\n",
       "    'dep': 'punct',\n",
       "    'ner': 'O'},\n",
       "   {'id': 14,\n",
       "    'orth': 'Dortmund',\n",
       "    'tag': 'NNP',\n",
       "    'head': 3,\n",
       "    'dep': 'compound',\n",
       "    'ner': 'O'},\n",
       "   {'id': 15, 'orth': '\\n', 'tag': '_SP', 'head': -1, 'dep': '', 'ner': 'O'},\n",
       "   {'id': 16,\n",
       "    'orth': '‑',\n",
       "    'tag': 'NNP',\n",
       "    'head': 1,\n",
       "    'dep': 'compound',\n",
       "    'ner': 'O'},\n",
       "   {'id': 17,\n",
       "    'orth': 'hereinafter',\n",
       "    'tag': 'NN',\n",
       "    'head': -16,\n",
       "    'dep': 'appos',\n",
       "    'ner': 'O'},\n",
       "   {'id': 18,\n",
       "    'orth': 'referred',\n",
       "    'tag': 'VBD',\n",
       "    'head': 0,\n",
       "    'dep': 'ROOT',\n",
       "    'ner': 'O'},\n",
       "   {'id': 19,\n",
       "    'orth': 'to',\n",
       "    'tag': 'IN',\n",
       "    'head': -1,\n",
       "    'dep': 'prep',\n",
       "    'ner': 'O'},\n",
       "   {'id': 20,\n",
       "    'orth': 'as',\n",
       "    'tag': 'IN',\n",
       "    'head': -2,\n",
       "    'dep': 'prep',\n",
       "    'ner': 'O'},\n",
       "   {'id': 21, 'orth': '“', 'tag': '``', 'head': 9, 'dep': 'punct', 'ner': 'O'},\n",
       "   {'id': 22,\n",
       "    'orth': 'Contractor',\n",
       "    'tag': 'NNP',\n",
       "    'head': 8,\n",
       "    'dep': 'nmod',\n",
       "    'ner': 'O'},\n",
       "   {'id': 23, 'orth': '”', 'tag': \"''\", 'head': 7, 'dep': 'punct', 'ner': 'O'},\n",
       "   {'id': 24, 'orth': '‑', 'tag': 'JJ', 'head': 6, 'dep': 'nmod', 'ner': 'O'},\n",
       "   {'id': 25, 'orth': '\\n', 'tag': '_SP', 'head': -1, 'dep': '', 'ner': 'O'},\n",
       "   {'id': 26, 'orth': 'and', 'tag': 'CC', 'head': -2, 'dep': 'cc', 'ner': 'O'},\n",
       "   {'id': 27,\n",
       "    'orth': 'F.UN',\n",
       "    'tag': 'NNP',\n",
       "    'head': 1,\n",
       "    'dep': 'compound',\n",
       "    'ner': 'B-CLIENT'},\n",
       "   {'id': 28,\n",
       "    'orth': 'Business',\n",
       "    'tag': 'NNP',\n",
       "    'head': 1,\n",
       "    'dep': 'compound',\n",
       "    'ner': 'I-CLIENT'},\n",
       "   {'id': 29,\n",
       "    'orth': 'Services',\n",
       "    'tag': 'NNPS',\n",
       "    'head': -5,\n",
       "    'dep': 'conj',\n",
       "    'ner': 'I-CLIENT'},\n",
       "   {'id': 30,\n",
       "    'orth': 'GmbH',\n",
       "    'tag': 'NNP',\n",
       "    'head': 1,\n",
       "    'dep': 'compound',\n",
       "    'ner': 'L-CLIENT'},\n",
       "   {'id': 31,\n",
       "    'orth': 'Humboldtstraße',\n",
       "    'tag': 'NNP',\n",
       "    'head': -11,\n",
       "    'dep': 'pobj',\n",
       "    'ner': 'O'},\n",
       "   {'id': 32,\n",
       "    'orth': '33',\n",
       "    'tag': 'CD',\n",
       "    'head': -1,\n",
       "    'dep': 'nummod',\n",
       "    'ner': 'O'},\n",
       "   {'id': 33,\n",
       "    'orth': 'D-30169',\n",
       "    'tag': 'IN',\n",
       "    'head': -2,\n",
       "    'dep': 'prep',\n",
       "    'ner': 'O'},\n",
       "   {'id': 34,\n",
       "    'orth': 'Hannover',\n",
       "    'tag': 'NNP',\n",
       "    'head': 3,\n",
       "    'dep': 'compound',\n",
       "    'ner': 'O'},\n",
       "   {'id': 35, 'orth': '\\n', 'tag': '_SP', 'head': -1, 'dep': '', 'ner': 'O'},\n",
       "   {'id': 36,\n",
       "    'orth': '‑',\n",
       "    'tag': 'JJ',\n",
       "    'head': 1,\n",
       "    'dep': 'compound',\n",
       "    'ner': 'O'},\n",
       "   {'id': 37,\n",
       "    'orth': 'hereinafter',\n",
       "    'tag': 'NN',\n",
       "    'head': -6,\n",
       "    'dep': 'conj',\n",
       "    'ner': 'O'},\n",
       "   {'id': 38,\n",
       "    'orth': 'referred',\n",
       "    'tag': 'VBD',\n",
       "    'head': -20,\n",
       "    'dep': 'advcl',\n",
       "    'ner': 'O'},\n",
       "   {'id': 39,\n",
       "    'orth': 'to',\n",
       "    'tag': 'IN',\n",
       "    'head': -1,\n",
       "    'dep': 'prep',\n",
       "    'ner': 'O'},\n",
       "   {'id': 40,\n",
       "    'orth': 'as',\n",
       "    'tag': 'IN',\n",
       "    'head': -2,\n",
       "    'dep': 'prep',\n",
       "    'ner': 'O'},\n",
       "   {'id': 41, 'orth': '“', 'tag': '``', 'head': 5, 'dep': 'punct', 'ner': 'O'},\n",
       "   {'id': 42,\n",
       "    'orth': 'EBS',\n",
       "    'tag': 'NNP',\n",
       "    'head': 4,\n",
       "    'dep': 'nmod',\n",
       "    'ner': 'O'},\n",
       "   {'id': 43, 'orth': '”', 'tag': \"''\", 'head': 3, 'dep': 'punct', 'ner': 'O'},\n",
       "   {'id': 44,\n",
       "    'orth': '‑',\n",
       "    'tag': 'FW',\n",
       "    'head': 2,\n",
       "    'dep': 'compound',\n",
       "    'ner': 'O'},\n",
       "   {'id': 45, 'orth': '\\n', 'tag': '_SP', 'head': -1, 'dep': '', 'ner': 'O'},\n",
       "   {'id': 46,\n",
       "    'orth': '‑',\n",
       "    'tag': 'NNP',\n",
       "    'head': -6,\n",
       "    'dep': 'pobj',\n",
       "    'ner': 'O'},\n",
       "   {'id': 47,\n",
       "    'orth': 'both',\n",
       "    'tag': 'DT',\n",
       "    'head': 1,\n",
       "    'dep': 'det',\n",
       "    'ner': 'O'},\n",
       "   {'id': 48,\n",
       "    'orth': 'hereinafter',\n",
       "    'tag': 'NN',\n",
       "    'head': 2,\n",
       "    'dep': 'nsubj',\n",
       "    'ner': 'O'},\n",
       "   {'id': 49,\n",
       "    'orth': 'collectively',\n",
       "    'tag': 'RB',\n",
       "    'head': 1,\n",
       "    'dep': 'advmod',\n",
       "    'ner': 'O'},\n",
       "   {'id': 50,\n",
       "    'orth': 'referred',\n",
       "    'tag': 'VBD',\n",
       "    'head': -32,\n",
       "    'dep': 'conj',\n",
       "    'ner': 'O'},\n",
       "   {'id': 51,\n",
       "    'orth': 'to',\n",
       "    'tag': 'IN',\n",
       "    'head': -1,\n",
       "    'dep': 'prep',\n",
       "    'ner': 'O'},\n",
       "   {'id': 52,\n",
       "    'orth': 'as',\n",
       "    'tag': 'IN',\n",
       "    'head': -2,\n",
       "    'dep': 'prep',\n",
       "    'ner': 'O'},\n",
       "   {'id': 53, 'orth': 'the', 'tag': 'DT', 'head': 3, 'dep': 'det', 'ner': 'O'},\n",
       "   {'id': 54, 'orth': '“', 'tag': '``', 'head': 2, 'dep': 'punct', 'ner': 'O'},\n",
       "   {'id': 55,\n",
       "    'orth': 'Contracting',\n",
       "    'tag': 'NNP',\n",
       "    'head': 1,\n",
       "    'dep': 'compound',\n",
       "    'ner': 'O'},\n",
       "   {'id': 56,\n",
       "    'orth': 'Parties',\n",
       "    'tag': 'NNPS',\n",
       "    'head': -4,\n",
       "    'dep': 'pobj',\n",
       "    'ner': 'O'},\n",
       "   {'id': 57,\n",
       "    'orth': '”',\n",
       "    'tag': \"''\",\n",
       "    'head': -1,\n",
       "    'dep': 'punct',\n",
       "    'ner': 'O'},\n",
       "   {'id': 58,\n",
       "    'orth': '‑',\n",
       "    'tag': 'NNP',\n",
       "    'head': 1,\n",
       "    'dep': 'compound',\n",
       "    'ner': 'O'},\n",
       "   {'id': 59,\n",
       "    'orth': 'October',\n",
       "    'tag': 'NNP',\n",
       "    'head': -9,\n",
       "    'dep': 'npadvmod',\n",
       "    'ner': 'O'},\n",
       "   {'id': 60,\n",
       "    'orth': '09',\n",
       "    'tag': 'CD',\n",
       "    'head': -1,\n",
       "    'dep': 'nummod',\n",
       "    'ner': 'O'},\n",
       "   {'id': 61, 'orth': ',', 'tag': ',', 'head': -2, 'dep': 'punct', 'ner': 'O'},\n",
       "   {'id': 62,\n",
       "    'orth': '2018',\n",
       "    'tag': 'CD',\n",
       "    'head': -3,\n",
       "    'dep': 'appos',\n",
       "    'ner': 'O'},\n",
       "   {'id': 63,\n",
       "    'orth': '\\n\\n',\n",
       "    'tag': '_SP',\n",
       "    'head': -1,\n",
       "    'dep': '',\n",
       "    'ner': 'O'}],\n",
       "  'brackets': []}]"
      ]
     },
     "execution_count": 66,
     "metadata": {},
     "output_type": "execute_result"
    }
   ],
   "source": [
    "level2"
   ]
  },
  {
   "cell_type": "code",
   "execution_count": 67,
   "metadata": {},
   "outputs": [
    {
     "name": "stdout",
     "output_type": "stream",
     "text": [
      "{'tokens': [{'id': 0, 'orth': '\\n\\n', 'tag': '_SP', 'head': 1, 'dep': '', 'ner': 'O'}, {'id': 1, 'orth': 'Agreement', 'tag': 'NNP', 'head': 17, 'dep': 'nsubj', 'ner': 'B-TITLE'}, {'id': 2, 'orth': 'for', 'tag': 'IN', 'head': -1, 'dep': 'prep', 'ner': 'I-TITLE'}, {'id': 3, 'orth': 'Security', 'tag': 'NNP', 'head': 2, 'dep': 'compound', 'ner': 'I-TITLE'}, {'id': 4, 'orth': 'Operation', 'tag': 'NNP', 'head': 1, 'dep': 'compound', 'ner': 'I-TITLE'}, {'id': 5, 'orth': 'Center', 'tag': 'NNP', 'head': 1, 'dep': 'compound', 'ner': 'I-TITLE'}, {'id': 6, 'orth': 'Services', 'tag': 'NNPS', 'head': -4, 'dep': 'pobj', 'ner': 'L-TITLE'}, {'id': 7, 'orth': 'between', 'tag': 'IN', 'head': -6, 'dep': 'prep', 'ner': 'O'}, {'id': 8, 'orth': 'Verizon', 'tag': 'NNP', 'head': 3, 'dep': 'compound', 'ner': 'B-SUPPLIER'}, {'id': 9, 'orth': 'Deutschland', 'tag': 'NNP', 'head': 2, 'dep': 'compound', 'ner': 'I-SUPPLIER'}, {'id': 10, 'orth': 'GmbH', 'tag': 'NNP', 'head': 1, 'dep': 'compound', 'ner': 'L-SUPPLIER'}, {'id': 11, 'orth': 'Sebrathweg', 'tag': 'NNP', 'head': -4, 'dep': 'pobj', 'ner': 'O'}, {'id': 12, 'orth': '20', 'tag': 'CD', 'head': 1, 'dep': 'nummod', 'ner': 'O'}, {'id': 13, 'orth': 'D-44149', 'tag': 'CD', 'head': -12, 'dep': 'punct', 'ner': 'O'}, {'id': 14, 'orth': 'Dortmund', 'tag': 'NNP', 'head': 3, 'dep': 'compound', 'ner': 'O'}, {'id': 15, 'orth': '\\n', 'tag': '_SP', 'head': -1, 'dep': '', 'ner': 'O'}, {'id': 16, 'orth': '‑', 'tag': 'NNP', 'head': 1, 'dep': 'compound', 'ner': 'O'}, {'id': 17, 'orth': 'hereinafter', 'tag': 'NN', 'head': -16, 'dep': 'appos', 'ner': 'O'}, {'id': 18, 'orth': 'referred', 'tag': 'VBD', 'head': 0, 'dep': 'ROOT', 'ner': 'O'}, {'id': 19, 'orth': 'to', 'tag': 'IN', 'head': -1, 'dep': 'prep', 'ner': 'O'}, {'id': 20, 'orth': 'as', 'tag': 'IN', 'head': -2, 'dep': 'prep', 'ner': 'O'}, {'id': 21, 'orth': '“', 'tag': '``', 'head': 9, 'dep': 'punct', 'ner': 'O'}, {'id': 22, 'orth': 'Contractor', 'tag': 'NNP', 'head': 8, 'dep': 'nmod', 'ner': 'O'}, {'id': 23, 'orth': '”', 'tag': \"''\", 'head': 7, 'dep': 'punct', 'ner': 'O'}, {'id': 24, 'orth': '‑', 'tag': 'JJ', 'head': 6, 'dep': 'nmod', 'ner': 'O'}, {'id': 25, 'orth': '\\n', 'tag': '_SP', 'head': -1, 'dep': '', 'ner': 'O'}, {'id': 26, 'orth': 'and', 'tag': 'CC', 'head': -2, 'dep': 'cc', 'ner': 'O'}, {'id': 27, 'orth': 'F.UN', 'tag': 'NNP', 'head': 1, 'dep': 'compound', 'ner': 'B-CLIENT'}, {'id': 28, 'orth': 'Business', 'tag': 'NNP', 'head': 1, 'dep': 'compound', 'ner': 'I-CLIENT'}, {'id': 29, 'orth': 'Services', 'tag': 'NNPS', 'head': -5, 'dep': 'conj', 'ner': 'I-CLIENT'}, {'id': 30, 'orth': 'GmbH', 'tag': 'NNP', 'head': 1, 'dep': 'compound', 'ner': 'L-CLIENT'}, {'id': 31, 'orth': 'Humboldtstraße', 'tag': 'NNP', 'head': -11, 'dep': 'pobj', 'ner': 'O'}, {'id': 32, 'orth': '33', 'tag': 'CD', 'head': -1, 'dep': 'nummod', 'ner': 'O'}, {'id': 33, 'orth': 'D-30169', 'tag': 'IN', 'head': -2, 'dep': 'prep', 'ner': 'O'}, {'id': 34, 'orth': 'Hannover', 'tag': 'NNP', 'head': 3, 'dep': 'compound', 'ner': 'O'}, {'id': 35, 'orth': '\\n', 'tag': '_SP', 'head': -1, 'dep': '', 'ner': 'O'}, {'id': 36, 'orth': '‑', 'tag': 'JJ', 'head': 1, 'dep': 'compound', 'ner': 'O'}, {'id': 37, 'orth': 'hereinafter', 'tag': 'NN', 'head': -6, 'dep': 'conj', 'ner': 'O'}, {'id': 38, 'orth': 'referred', 'tag': 'VBD', 'head': -20, 'dep': 'advcl', 'ner': 'O'}, {'id': 39, 'orth': 'to', 'tag': 'IN', 'head': -1, 'dep': 'prep', 'ner': 'O'}, {'id': 40, 'orth': 'as', 'tag': 'IN', 'head': -2, 'dep': 'prep', 'ner': 'O'}, {'id': 41, 'orth': '“', 'tag': '``', 'head': 5, 'dep': 'punct', 'ner': 'O'}, {'id': 42, 'orth': 'EBS', 'tag': 'NNP', 'head': 4, 'dep': 'nmod', 'ner': 'O'}, {'id': 43, 'orth': '”', 'tag': \"''\", 'head': 3, 'dep': 'punct', 'ner': 'O'}, {'id': 44, 'orth': '‑', 'tag': 'FW', 'head': 2, 'dep': 'compound', 'ner': 'O'}, {'id': 45, 'orth': '\\n', 'tag': '_SP', 'head': -1, 'dep': '', 'ner': 'O'}, {'id': 46, 'orth': '‑', 'tag': 'NNP', 'head': -6, 'dep': 'pobj', 'ner': 'O'}, {'id': 47, 'orth': 'both', 'tag': 'DT', 'head': 1, 'dep': 'det', 'ner': 'O'}, {'id': 48, 'orth': 'hereinafter', 'tag': 'NN', 'head': 2, 'dep': 'nsubj', 'ner': 'O'}, {'id': 49, 'orth': 'collectively', 'tag': 'RB', 'head': 1, 'dep': 'advmod', 'ner': 'O'}, {'id': 50, 'orth': 'referred', 'tag': 'VBD', 'head': -32, 'dep': 'conj', 'ner': 'O'}, {'id': 51, 'orth': 'to', 'tag': 'IN', 'head': -1, 'dep': 'prep', 'ner': 'O'}, {'id': 52, 'orth': 'as', 'tag': 'IN', 'head': -2, 'dep': 'prep', 'ner': 'O'}, {'id': 53, 'orth': 'the', 'tag': 'DT', 'head': 3, 'dep': 'det', 'ner': 'O'}, {'id': 54, 'orth': '“', 'tag': '``', 'head': 2, 'dep': 'punct', 'ner': 'O'}, {'id': 55, 'orth': 'Contracting', 'tag': 'NNP', 'head': 1, 'dep': 'compound', 'ner': 'O'}, {'id': 56, 'orth': 'Parties', 'tag': 'NNPS', 'head': -4, 'dep': 'pobj', 'ner': 'O'}, {'id': 57, 'orth': '”', 'tag': \"''\", 'head': -1, 'dep': 'punct', 'ner': 'O'}, {'id': 58, 'orth': '‑', 'tag': 'NNP', 'head': 1, 'dep': 'compound', 'ner': 'O'}, {'id': 59, 'orth': 'October', 'tag': 'NNP', 'head': -9, 'dep': 'npadvmod', 'ner': 'O'}, {'id': 60, 'orth': '09', 'tag': 'CD', 'head': -1, 'dep': 'nummod', 'ner': 'O'}, {'id': 61, 'orth': ',', 'tag': ',', 'head': -2, 'dep': 'punct', 'ner': 'O'}, {'id': 62, 'orth': '2018', 'tag': 'CD', 'head': -3, 'dep': 'appos', 'ner': 'O'}, {'id': 63, 'orth': '\\n\\n', 'tag': '_SP', 'head': -1, 'dep': '', 'ner': 'O'}], 'brackets': []}\n"
     ]
    }
   ],
   "source": [
    "for ner in level2:\n",
    "    print(ner)"
   ]
  },
  {
   "cell_type": "code",
   "execution_count": 68,
   "metadata": {},
   "outputs": [
    {
     "data": {
      "text/plain": [
       "dict"
      ]
     },
     "execution_count": 68,
     "metadata": {},
     "output_type": "execute_result"
    }
   ],
   "source": [
    "type(ner)"
   ]
  },
  {
   "cell_type": "code",
   "execution_count": 69,
   "metadata": {},
   "outputs": [],
   "source": [
    "token_ner=ner[\"tokens\"]"
   ]
  },
  {
   "cell_type": "code",
   "execution_count": 70,
   "metadata": {},
   "outputs": [
    {
     "data": {
      "text/plain": [
       "[{'id': 0, 'orth': '\\n\\n', 'tag': '_SP', 'head': 1, 'dep': '', 'ner': 'O'},\n",
       " {'id': 1,\n",
       "  'orth': 'Agreement',\n",
       "  'tag': 'NNP',\n",
       "  'head': 17,\n",
       "  'dep': 'nsubj',\n",
       "  'ner': 'B-TITLE'},\n",
       " {'id': 2,\n",
       "  'orth': 'for',\n",
       "  'tag': 'IN',\n",
       "  'head': -1,\n",
       "  'dep': 'prep',\n",
       "  'ner': 'I-TITLE'},\n",
       " {'id': 3,\n",
       "  'orth': 'Security',\n",
       "  'tag': 'NNP',\n",
       "  'head': 2,\n",
       "  'dep': 'compound',\n",
       "  'ner': 'I-TITLE'},\n",
       " {'id': 4,\n",
       "  'orth': 'Operation',\n",
       "  'tag': 'NNP',\n",
       "  'head': 1,\n",
       "  'dep': 'compound',\n",
       "  'ner': 'I-TITLE'},\n",
       " {'id': 5,\n",
       "  'orth': 'Center',\n",
       "  'tag': 'NNP',\n",
       "  'head': 1,\n",
       "  'dep': 'compound',\n",
       "  'ner': 'I-TITLE'},\n",
       " {'id': 6,\n",
       "  'orth': 'Services',\n",
       "  'tag': 'NNPS',\n",
       "  'head': -4,\n",
       "  'dep': 'pobj',\n",
       "  'ner': 'L-TITLE'},\n",
       " {'id': 7,\n",
       "  'orth': 'between',\n",
       "  'tag': 'IN',\n",
       "  'head': -6,\n",
       "  'dep': 'prep',\n",
       "  'ner': 'O'},\n",
       " {'id': 8,\n",
       "  'orth': 'Verizon',\n",
       "  'tag': 'NNP',\n",
       "  'head': 3,\n",
       "  'dep': 'compound',\n",
       "  'ner': 'B-SUPPLIER'},\n",
       " {'id': 9,\n",
       "  'orth': 'Deutschland',\n",
       "  'tag': 'NNP',\n",
       "  'head': 2,\n",
       "  'dep': 'compound',\n",
       "  'ner': 'I-SUPPLIER'},\n",
       " {'id': 10,\n",
       "  'orth': 'GmbH',\n",
       "  'tag': 'NNP',\n",
       "  'head': 1,\n",
       "  'dep': 'compound',\n",
       "  'ner': 'L-SUPPLIER'},\n",
       " {'id': 11,\n",
       "  'orth': 'Sebrathweg',\n",
       "  'tag': 'NNP',\n",
       "  'head': -4,\n",
       "  'dep': 'pobj',\n",
       "  'ner': 'O'},\n",
       " {'id': 12, 'orth': '20', 'tag': 'CD', 'head': 1, 'dep': 'nummod', 'ner': 'O'},\n",
       " {'id': 13,\n",
       "  'orth': 'D-44149',\n",
       "  'tag': 'CD',\n",
       "  'head': -12,\n",
       "  'dep': 'punct',\n",
       "  'ner': 'O'},\n",
       " {'id': 14,\n",
       "  'orth': 'Dortmund',\n",
       "  'tag': 'NNP',\n",
       "  'head': 3,\n",
       "  'dep': 'compound',\n",
       "  'ner': 'O'},\n",
       " {'id': 15, 'orth': '\\n', 'tag': '_SP', 'head': -1, 'dep': '', 'ner': 'O'},\n",
       " {'id': 16,\n",
       "  'orth': '‑',\n",
       "  'tag': 'NNP',\n",
       "  'head': 1,\n",
       "  'dep': 'compound',\n",
       "  'ner': 'O'},\n",
       " {'id': 17,\n",
       "  'orth': 'hereinafter',\n",
       "  'tag': 'NN',\n",
       "  'head': -16,\n",
       "  'dep': 'appos',\n",
       "  'ner': 'O'},\n",
       " {'id': 18,\n",
       "  'orth': 'referred',\n",
       "  'tag': 'VBD',\n",
       "  'head': 0,\n",
       "  'dep': 'ROOT',\n",
       "  'ner': 'O'},\n",
       " {'id': 19, 'orth': 'to', 'tag': 'IN', 'head': -1, 'dep': 'prep', 'ner': 'O'},\n",
       " {'id': 20, 'orth': 'as', 'tag': 'IN', 'head': -2, 'dep': 'prep', 'ner': 'O'},\n",
       " {'id': 21, 'orth': '“', 'tag': '``', 'head': 9, 'dep': 'punct', 'ner': 'O'},\n",
       " {'id': 22,\n",
       "  'orth': 'Contractor',\n",
       "  'tag': 'NNP',\n",
       "  'head': 8,\n",
       "  'dep': 'nmod',\n",
       "  'ner': 'O'},\n",
       " {'id': 23, 'orth': '”', 'tag': \"''\", 'head': 7, 'dep': 'punct', 'ner': 'O'},\n",
       " {'id': 24, 'orth': '‑', 'tag': 'JJ', 'head': 6, 'dep': 'nmod', 'ner': 'O'},\n",
       " {'id': 25, 'orth': '\\n', 'tag': '_SP', 'head': -1, 'dep': '', 'ner': 'O'},\n",
       " {'id': 26, 'orth': 'and', 'tag': 'CC', 'head': -2, 'dep': 'cc', 'ner': 'O'},\n",
       " {'id': 27,\n",
       "  'orth': 'F.UN',\n",
       "  'tag': 'NNP',\n",
       "  'head': 1,\n",
       "  'dep': 'compound',\n",
       "  'ner': 'B-CLIENT'},\n",
       " {'id': 28,\n",
       "  'orth': 'Business',\n",
       "  'tag': 'NNP',\n",
       "  'head': 1,\n",
       "  'dep': 'compound',\n",
       "  'ner': 'I-CLIENT'},\n",
       " {'id': 29,\n",
       "  'orth': 'Services',\n",
       "  'tag': 'NNPS',\n",
       "  'head': -5,\n",
       "  'dep': 'conj',\n",
       "  'ner': 'I-CLIENT'},\n",
       " {'id': 30,\n",
       "  'orth': 'GmbH',\n",
       "  'tag': 'NNP',\n",
       "  'head': 1,\n",
       "  'dep': 'compound',\n",
       "  'ner': 'L-CLIENT'},\n",
       " {'id': 31,\n",
       "  'orth': 'Humboldtstraße',\n",
       "  'tag': 'NNP',\n",
       "  'head': -11,\n",
       "  'dep': 'pobj',\n",
       "  'ner': 'O'},\n",
       " {'id': 32,\n",
       "  'orth': '33',\n",
       "  'tag': 'CD',\n",
       "  'head': -1,\n",
       "  'dep': 'nummod',\n",
       "  'ner': 'O'},\n",
       " {'id': 33,\n",
       "  'orth': 'D-30169',\n",
       "  'tag': 'IN',\n",
       "  'head': -2,\n",
       "  'dep': 'prep',\n",
       "  'ner': 'O'},\n",
       " {'id': 34,\n",
       "  'orth': 'Hannover',\n",
       "  'tag': 'NNP',\n",
       "  'head': 3,\n",
       "  'dep': 'compound',\n",
       "  'ner': 'O'},\n",
       " {'id': 35, 'orth': '\\n', 'tag': '_SP', 'head': -1, 'dep': '', 'ner': 'O'},\n",
       " {'id': 36,\n",
       "  'orth': '‑',\n",
       "  'tag': 'JJ',\n",
       "  'head': 1,\n",
       "  'dep': 'compound',\n",
       "  'ner': 'O'},\n",
       " {'id': 37,\n",
       "  'orth': 'hereinafter',\n",
       "  'tag': 'NN',\n",
       "  'head': -6,\n",
       "  'dep': 'conj',\n",
       "  'ner': 'O'},\n",
       " {'id': 38,\n",
       "  'orth': 'referred',\n",
       "  'tag': 'VBD',\n",
       "  'head': -20,\n",
       "  'dep': 'advcl',\n",
       "  'ner': 'O'},\n",
       " {'id': 39, 'orth': 'to', 'tag': 'IN', 'head': -1, 'dep': 'prep', 'ner': 'O'},\n",
       " {'id': 40, 'orth': 'as', 'tag': 'IN', 'head': -2, 'dep': 'prep', 'ner': 'O'},\n",
       " {'id': 41, 'orth': '“', 'tag': '``', 'head': 5, 'dep': 'punct', 'ner': 'O'},\n",
       " {'id': 42, 'orth': 'EBS', 'tag': 'NNP', 'head': 4, 'dep': 'nmod', 'ner': 'O'},\n",
       " {'id': 43, 'orth': '”', 'tag': \"''\", 'head': 3, 'dep': 'punct', 'ner': 'O'},\n",
       " {'id': 44,\n",
       "  'orth': '‑',\n",
       "  'tag': 'FW',\n",
       "  'head': 2,\n",
       "  'dep': 'compound',\n",
       "  'ner': 'O'},\n",
       " {'id': 45, 'orth': '\\n', 'tag': '_SP', 'head': -1, 'dep': '', 'ner': 'O'},\n",
       " {'id': 46, 'orth': '‑', 'tag': 'NNP', 'head': -6, 'dep': 'pobj', 'ner': 'O'},\n",
       " {'id': 47, 'orth': 'both', 'tag': 'DT', 'head': 1, 'dep': 'det', 'ner': 'O'},\n",
       " {'id': 48,\n",
       "  'orth': 'hereinafter',\n",
       "  'tag': 'NN',\n",
       "  'head': 2,\n",
       "  'dep': 'nsubj',\n",
       "  'ner': 'O'},\n",
       " {'id': 49,\n",
       "  'orth': 'collectively',\n",
       "  'tag': 'RB',\n",
       "  'head': 1,\n",
       "  'dep': 'advmod',\n",
       "  'ner': 'O'},\n",
       " {'id': 50,\n",
       "  'orth': 'referred',\n",
       "  'tag': 'VBD',\n",
       "  'head': -32,\n",
       "  'dep': 'conj',\n",
       "  'ner': 'O'},\n",
       " {'id': 51, 'orth': 'to', 'tag': 'IN', 'head': -1, 'dep': 'prep', 'ner': 'O'},\n",
       " {'id': 52, 'orth': 'as', 'tag': 'IN', 'head': -2, 'dep': 'prep', 'ner': 'O'},\n",
       " {'id': 53, 'orth': 'the', 'tag': 'DT', 'head': 3, 'dep': 'det', 'ner': 'O'},\n",
       " {'id': 54, 'orth': '“', 'tag': '``', 'head': 2, 'dep': 'punct', 'ner': 'O'},\n",
       " {'id': 55,\n",
       "  'orth': 'Contracting',\n",
       "  'tag': 'NNP',\n",
       "  'head': 1,\n",
       "  'dep': 'compound',\n",
       "  'ner': 'O'},\n",
       " {'id': 56,\n",
       "  'orth': 'Parties',\n",
       "  'tag': 'NNPS',\n",
       "  'head': -4,\n",
       "  'dep': 'pobj',\n",
       "  'ner': 'O'},\n",
       " {'id': 57, 'orth': '”', 'tag': \"''\", 'head': -1, 'dep': 'punct', 'ner': 'O'},\n",
       " {'id': 58,\n",
       "  'orth': '‑',\n",
       "  'tag': 'NNP',\n",
       "  'head': 1,\n",
       "  'dep': 'compound',\n",
       "  'ner': 'O'},\n",
       " {'id': 59,\n",
       "  'orth': 'October',\n",
       "  'tag': 'NNP',\n",
       "  'head': -9,\n",
       "  'dep': 'npadvmod',\n",
       "  'ner': 'O'},\n",
       " {'id': 60,\n",
       "  'orth': '09',\n",
       "  'tag': 'CD',\n",
       "  'head': -1,\n",
       "  'dep': 'nummod',\n",
       "  'ner': 'O'},\n",
       " {'id': 61, 'orth': ',', 'tag': ',', 'head': -2, 'dep': 'punct', 'ner': 'O'},\n",
       " {'id': 62,\n",
       "  'orth': '2018',\n",
       "  'tag': 'CD',\n",
       "  'head': -3,\n",
       "  'dep': 'appos',\n",
       "  'ner': 'O'},\n",
       " {'id': 63, 'orth': '\\n\\n', 'tag': '_SP', 'head': -1, 'dep': '', 'ner': 'O'}]"
      ]
     },
     "execution_count": 70,
     "metadata": {},
     "output_type": "execute_result"
    }
   ],
   "source": [
    "ner[\"tokens\"]"
   ]
  },
  {
   "cell_type": "code",
   "execution_count": 71,
   "metadata": {},
   "outputs": [
    {
     "name": "stdout",
     "output_type": "stream",
     "text": [
      "{'id': 0, 'orth': '\\n\\n', 'tag': '_SP', 'head': 1, 'dep': '', 'ner': 'O'}\n",
      "{'id': 1, 'orth': 'Agreement', 'tag': 'NNP', 'head': 17, 'dep': 'nsubj', 'ner': 'B-TITLE'}\n",
      "{'id': 2, 'orth': 'for', 'tag': 'IN', 'head': -1, 'dep': 'prep', 'ner': 'I-TITLE'}\n",
      "{'id': 3, 'orth': 'Security', 'tag': 'NNP', 'head': 2, 'dep': 'compound', 'ner': 'I-TITLE'}\n",
      "{'id': 4, 'orth': 'Operation', 'tag': 'NNP', 'head': 1, 'dep': 'compound', 'ner': 'I-TITLE'}\n",
      "{'id': 5, 'orth': 'Center', 'tag': 'NNP', 'head': 1, 'dep': 'compound', 'ner': 'I-TITLE'}\n",
      "{'id': 6, 'orth': 'Services', 'tag': 'NNPS', 'head': -4, 'dep': 'pobj', 'ner': 'L-TITLE'}\n",
      "{'id': 7, 'orth': 'between', 'tag': 'IN', 'head': -6, 'dep': 'prep', 'ner': 'O'}\n",
      "{'id': 8, 'orth': 'Verizon', 'tag': 'NNP', 'head': 3, 'dep': 'compound', 'ner': 'B-SUPPLIER'}\n",
      "{'id': 9, 'orth': 'Deutschland', 'tag': 'NNP', 'head': 2, 'dep': 'compound', 'ner': 'I-SUPPLIER'}\n",
      "{'id': 10, 'orth': 'GmbH', 'tag': 'NNP', 'head': 1, 'dep': 'compound', 'ner': 'L-SUPPLIER'}\n",
      "{'id': 11, 'orth': 'Sebrathweg', 'tag': 'NNP', 'head': -4, 'dep': 'pobj', 'ner': 'O'}\n",
      "{'id': 12, 'orth': '20', 'tag': 'CD', 'head': 1, 'dep': 'nummod', 'ner': 'O'}\n",
      "{'id': 13, 'orth': 'D-44149', 'tag': 'CD', 'head': -12, 'dep': 'punct', 'ner': 'O'}\n",
      "{'id': 14, 'orth': 'Dortmund', 'tag': 'NNP', 'head': 3, 'dep': 'compound', 'ner': 'O'}\n",
      "{'id': 15, 'orth': '\\n', 'tag': '_SP', 'head': -1, 'dep': '', 'ner': 'O'}\n",
      "{'id': 16, 'orth': '‑', 'tag': 'NNP', 'head': 1, 'dep': 'compound', 'ner': 'O'}\n",
      "{'id': 17, 'orth': 'hereinafter', 'tag': 'NN', 'head': -16, 'dep': 'appos', 'ner': 'O'}\n",
      "{'id': 18, 'orth': 'referred', 'tag': 'VBD', 'head': 0, 'dep': 'ROOT', 'ner': 'O'}\n",
      "{'id': 19, 'orth': 'to', 'tag': 'IN', 'head': -1, 'dep': 'prep', 'ner': 'O'}\n",
      "{'id': 20, 'orth': 'as', 'tag': 'IN', 'head': -2, 'dep': 'prep', 'ner': 'O'}\n",
      "{'id': 21, 'orth': '“', 'tag': '``', 'head': 9, 'dep': 'punct', 'ner': 'O'}\n",
      "{'id': 22, 'orth': 'Contractor', 'tag': 'NNP', 'head': 8, 'dep': 'nmod', 'ner': 'O'}\n",
      "{'id': 23, 'orth': '”', 'tag': \"''\", 'head': 7, 'dep': 'punct', 'ner': 'O'}\n",
      "{'id': 24, 'orth': '‑', 'tag': 'JJ', 'head': 6, 'dep': 'nmod', 'ner': 'O'}\n",
      "{'id': 25, 'orth': '\\n', 'tag': '_SP', 'head': -1, 'dep': '', 'ner': 'O'}\n",
      "{'id': 26, 'orth': 'and', 'tag': 'CC', 'head': -2, 'dep': 'cc', 'ner': 'O'}\n",
      "{'id': 27, 'orth': 'F.UN', 'tag': 'NNP', 'head': 1, 'dep': 'compound', 'ner': 'B-CLIENT'}\n",
      "{'id': 28, 'orth': 'Business', 'tag': 'NNP', 'head': 1, 'dep': 'compound', 'ner': 'I-CLIENT'}\n",
      "{'id': 29, 'orth': 'Services', 'tag': 'NNPS', 'head': -5, 'dep': 'conj', 'ner': 'I-CLIENT'}\n",
      "{'id': 30, 'orth': 'GmbH', 'tag': 'NNP', 'head': 1, 'dep': 'compound', 'ner': 'L-CLIENT'}\n",
      "{'id': 31, 'orth': 'Humboldtstraße', 'tag': 'NNP', 'head': -11, 'dep': 'pobj', 'ner': 'O'}\n",
      "{'id': 32, 'orth': '33', 'tag': 'CD', 'head': -1, 'dep': 'nummod', 'ner': 'O'}\n",
      "{'id': 33, 'orth': 'D-30169', 'tag': 'IN', 'head': -2, 'dep': 'prep', 'ner': 'O'}\n",
      "{'id': 34, 'orth': 'Hannover', 'tag': 'NNP', 'head': 3, 'dep': 'compound', 'ner': 'O'}\n",
      "{'id': 35, 'orth': '\\n', 'tag': '_SP', 'head': -1, 'dep': '', 'ner': 'O'}\n",
      "{'id': 36, 'orth': '‑', 'tag': 'JJ', 'head': 1, 'dep': 'compound', 'ner': 'O'}\n",
      "{'id': 37, 'orth': 'hereinafter', 'tag': 'NN', 'head': -6, 'dep': 'conj', 'ner': 'O'}\n",
      "{'id': 38, 'orth': 'referred', 'tag': 'VBD', 'head': -20, 'dep': 'advcl', 'ner': 'O'}\n",
      "{'id': 39, 'orth': 'to', 'tag': 'IN', 'head': -1, 'dep': 'prep', 'ner': 'O'}\n",
      "{'id': 40, 'orth': 'as', 'tag': 'IN', 'head': -2, 'dep': 'prep', 'ner': 'O'}\n",
      "{'id': 41, 'orth': '“', 'tag': '``', 'head': 5, 'dep': 'punct', 'ner': 'O'}\n",
      "{'id': 42, 'orth': 'EBS', 'tag': 'NNP', 'head': 4, 'dep': 'nmod', 'ner': 'O'}\n",
      "{'id': 43, 'orth': '”', 'tag': \"''\", 'head': 3, 'dep': 'punct', 'ner': 'O'}\n",
      "{'id': 44, 'orth': '‑', 'tag': 'FW', 'head': 2, 'dep': 'compound', 'ner': 'O'}\n",
      "{'id': 45, 'orth': '\\n', 'tag': '_SP', 'head': -1, 'dep': '', 'ner': 'O'}\n",
      "{'id': 46, 'orth': '‑', 'tag': 'NNP', 'head': -6, 'dep': 'pobj', 'ner': 'O'}\n",
      "{'id': 47, 'orth': 'both', 'tag': 'DT', 'head': 1, 'dep': 'det', 'ner': 'O'}\n",
      "{'id': 48, 'orth': 'hereinafter', 'tag': 'NN', 'head': 2, 'dep': 'nsubj', 'ner': 'O'}\n",
      "{'id': 49, 'orth': 'collectively', 'tag': 'RB', 'head': 1, 'dep': 'advmod', 'ner': 'O'}\n",
      "{'id': 50, 'orth': 'referred', 'tag': 'VBD', 'head': -32, 'dep': 'conj', 'ner': 'O'}\n",
      "{'id': 51, 'orth': 'to', 'tag': 'IN', 'head': -1, 'dep': 'prep', 'ner': 'O'}\n",
      "{'id': 52, 'orth': 'as', 'tag': 'IN', 'head': -2, 'dep': 'prep', 'ner': 'O'}\n",
      "{'id': 53, 'orth': 'the', 'tag': 'DT', 'head': 3, 'dep': 'det', 'ner': 'O'}\n",
      "{'id': 54, 'orth': '“', 'tag': '``', 'head': 2, 'dep': 'punct', 'ner': 'O'}\n",
      "{'id': 55, 'orth': 'Contracting', 'tag': 'NNP', 'head': 1, 'dep': 'compound', 'ner': 'O'}\n",
      "{'id': 56, 'orth': 'Parties', 'tag': 'NNPS', 'head': -4, 'dep': 'pobj', 'ner': 'O'}\n",
      "{'id': 57, 'orth': '”', 'tag': \"''\", 'head': -1, 'dep': 'punct', 'ner': 'O'}\n",
      "{'id': 58, 'orth': '‑', 'tag': 'NNP', 'head': 1, 'dep': 'compound', 'ner': 'O'}\n",
      "{'id': 59, 'orth': 'October', 'tag': 'NNP', 'head': -9, 'dep': 'npadvmod', 'ner': 'O'}\n",
      "{'id': 60, 'orth': '09', 'tag': 'CD', 'head': -1, 'dep': 'nummod', 'ner': 'O'}\n",
      "{'id': 61, 'orth': ',', 'tag': ',', 'head': -2, 'dep': 'punct', 'ner': 'O'}\n",
      "{'id': 62, 'orth': '2018', 'tag': 'CD', 'head': -3, 'dep': 'appos', 'ner': 'O'}\n",
      "{'id': 63, 'orth': '\\n\\n', 'tag': '_SP', 'head': -1, 'dep': '', 'ner': 'O'}\n"
     ]
    }
   ],
   "source": [
    "for ent in token_ner:\n",
    "    print(ent)"
   ]
  },
  {
   "cell_type": "code",
   "execution_count": 72,
   "metadata": {},
   "outputs": [
    {
     "data": {
      "text/plain": [
       "'O'"
      ]
     },
     "execution_count": 72,
     "metadata": {},
     "output_type": "execute_result"
    }
   ],
   "source": [
    "ent[\"ner\"]"
   ]
  },
  {
   "cell_type": "markdown",
   "metadata": {},
   "source": [
    "again I only get last value of ner"
   ]
  },
  {
   "cell_type": "markdown",
   "metadata": {},
   "source": [
    "## For steps in ONE"
   ]
  },
  {
   "cell_type": "code",
   "execution_count": 73,
   "metadata": {},
   "outputs": [],
   "source": [
    "def entity_fetch():\n",
    "    level1=data3[\"paragraphs\"][\"0\"]\n",
    "    level2=level1[\"sentences\"]\n",
    "    for ner in level2:\n",
    "        token_ner=ner[\"tokens\"]\n",
    "        for ent in token_ner:\n",
    "            ner_final=ent[\"ner\"]\n",
    "            print(ner_final)\n",
    "        \n",
    "        "
   ]
  },
  {
   "cell_type": "code",
   "execution_count": 74,
   "metadata": {},
   "outputs": [
    {
     "name": "stdout",
     "output_type": "stream",
     "text": [
      "O\n",
      "B-TITLE\n",
      "I-TITLE\n",
      "I-TITLE\n",
      "I-TITLE\n",
      "I-TITLE\n",
      "L-TITLE\n",
      "O\n",
      "B-SUPPLIER\n",
      "I-SUPPLIER\n",
      "L-SUPPLIER\n",
      "O\n",
      "O\n",
      "O\n",
      "O\n",
      "O\n",
      "O\n",
      "O\n",
      "O\n",
      "O\n",
      "O\n",
      "O\n",
      "O\n",
      "O\n",
      "O\n",
      "O\n",
      "O\n",
      "B-CLIENT\n",
      "I-CLIENT\n",
      "I-CLIENT\n",
      "L-CLIENT\n",
      "O\n",
      "O\n",
      "O\n",
      "O\n",
      "O\n",
      "O\n",
      "O\n",
      "O\n",
      "O\n",
      "O\n",
      "O\n",
      "O\n",
      "O\n",
      "O\n",
      "O\n",
      "O\n",
      "O\n",
      "O\n",
      "O\n",
      "O\n",
      "O\n",
      "O\n",
      "O\n",
      "O\n",
      "O\n",
      "O\n",
      "O\n",
      "O\n",
      "O\n",
      "O\n",
      "O\n",
      "O\n",
      "O\n"
     ]
    }
   ],
   "source": [
    "entity_fetch()"
   ]
  },
  {
   "cell_type": "markdown",
   "metadata": {},
   "source": [
    "### Saving as Dataframe and json file"
   ]
  },
  {
   "cell_type": "code",
   "execution_count": 75,
   "metadata": {},
   "outputs": [],
   "source": [
    "def entity_fetch():\n",
    "    level1=data3[\"paragraphs\"][\"0\"]\n",
    "    level2=level1[\"sentences\"]\n",
    "    for ner in level2:\n",
    "        token_ner=ner[\"tokens\"]\n",
    "        for ent in token_ner:\n",
    "            ner_final=ent[\"ner\"]\n",
    "            save_json3.append(ner_final)"
   ]
  },
  {
   "cell_type": "code",
   "execution_count": 76,
   "metadata": {},
   "outputs": [],
   "source": [
    "save_json3=[]"
   ]
  },
  {
   "cell_type": "code",
   "execution_count": 77,
   "metadata": {},
   "outputs": [],
   "source": [
    "entity_fetch()"
   ]
  },
  {
   "cell_type": "code",
   "execution_count": 78,
   "metadata": {},
   "outputs": [
    {
     "data": {
      "text/plain": [
       "['O',\n",
       " 'B-TITLE',\n",
       " 'I-TITLE',\n",
       " 'I-TITLE',\n",
       " 'I-TITLE',\n",
       " 'I-TITLE',\n",
       " 'L-TITLE',\n",
       " 'O',\n",
       " 'B-SUPPLIER',\n",
       " 'I-SUPPLIER',\n",
       " 'L-SUPPLIER',\n",
       " 'O',\n",
       " 'O',\n",
       " 'O',\n",
       " 'O',\n",
       " 'O',\n",
       " 'O',\n",
       " 'O',\n",
       " 'O',\n",
       " 'O',\n",
       " 'O',\n",
       " 'O',\n",
       " 'O',\n",
       " 'O',\n",
       " 'O',\n",
       " 'O',\n",
       " 'O',\n",
       " 'B-CLIENT',\n",
       " 'I-CLIENT',\n",
       " 'I-CLIENT',\n",
       " 'L-CLIENT',\n",
       " 'O',\n",
       " 'O',\n",
       " 'O',\n",
       " 'O',\n",
       " 'O',\n",
       " 'O',\n",
       " 'O',\n",
       " 'O',\n",
       " 'O',\n",
       " 'O',\n",
       " 'O',\n",
       " 'O',\n",
       " 'O',\n",
       " 'O',\n",
       " 'O',\n",
       " 'O',\n",
       " 'O',\n",
       " 'O',\n",
       " 'O',\n",
       " 'O',\n",
       " 'O',\n",
       " 'O',\n",
       " 'O',\n",
       " 'O',\n",
       " 'O',\n",
       " 'O',\n",
       " 'O',\n",
       " 'O',\n",
       " 'O',\n",
       " 'O',\n",
       " 'O',\n",
       " 'O',\n",
       " 'O']"
      ]
     },
     "execution_count": 78,
     "metadata": {},
     "output_type": "execute_result"
    }
   ],
   "source": [
    "save_json3"
   ]
  },
  {
   "cell_type": "code",
   "execution_count": 79,
   "metadata": {},
   "outputs": [
    {
     "data": {
      "text/plain": [
       "64"
      ]
     },
     "execution_count": 79,
     "metadata": {},
     "output_type": "execute_result"
    }
   ],
   "source": [
    "len(save_json3)"
   ]
  },
  {
   "cell_type": "code",
   "execution_count": 80,
   "metadata": {},
   "outputs": [
    {
     "data": {
      "text/plain": [
       "list"
      ]
     },
     "execution_count": 80,
     "metadata": {},
     "output_type": "execute_result"
    }
   ],
   "source": [
    "type(save_json3)"
   ]
  },
  {
   "cell_type": "code",
   "execution_count": 81,
   "metadata": {},
   "outputs": [
    {
     "data": {
      "text/html": [
       "<div>\n",
       "<style scoped>\n",
       "    .dataframe tbody tr th:only-of-type {\n",
       "        vertical-align: middle;\n",
       "    }\n",
       "\n",
       "    .dataframe tbody tr th {\n",
       "        vertical-align: top;\n",
       "    }\n",
       "\n",
       "    .dataframe thead th {\n",
       "        text-align: right;\n",
       "    }\n",
       "</style>\n",
       "<table border=\"1\" class=\"dataframe\">\n",
       "  <thead>\n",
       "    <tr style=\"text-align: right;\">\n",
       "      <th></th>\n",
       "      <th>text</th>\n",
       "      <th>entity</th>\n",
       "    </tr>\n",
       "  </thead>\n",
       "  <tbody>\n",
       "  </tbody>\n",
       "</table>\n",
       "</div>"
      ],
      "text/plain": [
       "Empty DataFrame\n",
       "Columns: [text, entity]\n",
       "Index: []"
      ]
     },
     "execution_count": 81,
     "metadata": {},
     "output_type": "execute_result"
    }
   ],
   "source": [
    "### for Dataframe\n",
    "\n",
    "df_entity = pd.DataFrame({'text': [], 'entity': []})\n",
    "df_entity"
   ]
  },
  {
   "cell_type": "code",
   "execution_count": 82,
   "metadata": {},
   "outputs": [],
   "source": [
    "\n",
    "df_entity[\"entity\"]= save_json3"
   ]
  },
  {
   "cell_type": "code",
   "execution_count": 83,
   "metadata": {},
   "outputs": [
    {
     "data": {
      "text/plain": [
       "(64, 2)"
      ]
     },
     "execution_count": 83,
     "metadata": {},
     "output_type": "execute_result"
    }
   ],
   "source": [
    "df_entity.shape"
   ]
  },
  {
   "cell_type": "code",
   "execution_count": 84,
   "metadata": {},
   "outputs": [
    {
     "data": {
      "text/html": [
       "<div>\n",
       "<style scoped>\n",
       "    .dataframe tbody tr th:only-of-type {\n",
       "        vertical-align: middle;\n",
       "    }\n",
       "\n",
       "    .dataframe tbody tr th {\n",
       "        vertical-align: top;\n",
       "    }\n",
       "\n",
       "    .dataframe thead th {\n",
       "        text-align: right;\n",
       "    }\n",
       "</style>\n",
       "<table border=\"1\" class=\"dataframe\">\n",
       "  <thead>\n",
       "    <tr style=\"text-align: right;\">\n",
       "      <th></th>\n",
       "      <th>text</th>\n",
       "      <th>entity</th>\n",
       "    </tr>\n",
       "  </thead>\n",
       "  <tbody>\n",
       "    <tr>\n",
       "      <th>0</th>\n",
       "      <td>NaN</td>\n",
       "      <td>O</td>\n",
       "    </tr>\n",
       "    <tr>\n",
       "      <th>1</th>\n",
       "      <td>NaN</td>\n",
       "      <td>B-TITLE</td>\n",
       "    </tr>\n",
       "    <tr>\n",
       "      <th>2</th>\n",
       "      <td>NaN</td>\n",
       "      <td>I-TITLE</td>\n",
       "    </tr>\n",
       "    <tr>\n",
       "      <th>3</th>\n",
       "      <td>NaN</td>\n",
       "      <td>I-TITLE</td>\n",
       "    </tr>\n",
       "    <tr>\n",
       "      <th>4</th>\n",
       "      <td>NaN</td>\n",
       "      <td>I-TITLE</td>\n",
       "    </tr>\n",
       "  </tbody>\n",
       "</table>\n",
       "</div>"
      ],
      "text/plain": [
       "   text   entity\n",
       "0   NaN        O\n",
       "1   NaN  B-TITLE\n",
       "2   NaN  I-TITLE\n",
       "3   NaN  I-TITLE\n",
       "4   NaN  I-TITLE"
      ]
     },
     "execution_count": 84,
     "metadata": {},
     "output_type": "execute_result"
    }
   ],
   "source": [
    "df_entity.head()"
   ]
  },
  {
   "cell_type": "code",
   "execution_count": 85,
   "metadata": {},
   "outputs": [
    {
     "ename": "ValueError",
     "evalue": "Length of values does not match length of index",
     "output_type": "error",
     "traceback": [
      "\u001b[0;31m---------------------------------------------------------------------------\u001b[0m",
      "\u001b[0;31mValueError\u001b[0m                                Traceback (most recent call last)",
      "\u001b[0;32m<ipython-input-85-22552f281429>\u001b[0m in \u001b[0;36m<module>\u001b[0;34m\u001b[0m\n\u001b[0;32m----> 1\u001b[0;31m \u001b[0mdf_entity\u001b[0m\u001b[0;34m[\u001b[0m\u001b[0;34m\"text\"\u001b[0m\u001b[0;34m]\u001b[0m\u001b[0;34m=\u001b[0m\u001b[0mtokens_text\u001b[0m\u001b[0;34m\u001b[0m\u001b[0;34m\u001b[0m\u001b[0m\n\u001b[0m",
      "\u001b[0;32m/opt/miniconda3/envs/tensorflow/lib/python3.7/site-packages/pandas/core/frame.py\u001b[0m in \u001b[0;36m__setitem__\u001b[0;34m(self, key, value)\u001b[0m\n\u001b[1;32m   3485\u001b[0m         \u001b[0;32melse\u001b[0m\u001b[0;34m:\u001b[0m\u001b[0;34m\u001b[0m\u001b[0;34m\u001b[0m\u001b[0m\n\u001b[1;32m   3486\u001b[0m             \u001b[0;31m# set column\u001b[0m\u001b[0;34m\u001b[0m\u001b[0;34m\u001b[0m\u001b[0;34m\u001b[0m\u001b[0m\n\u001b[0;32m-> 3487\u001b[0;31m             \u001b[0mself\u001b[0m\u001b[0;34m.\u001b[0m\u001b[0m_set_item\u001b[0m\u001b[0;34m(\u001b[0m\u001b[0mkey\u001b[0m\u001b[0;34m,\u001b[0m \u001b[0mvalue\u001b[0m\u001b[0;34m)\u001b[0m\u001b[0;34m\u001b[0m\u001b[0;34m\u001b[0m\u001b[0m\n\u001b[0m\u001b[1;32m   3488\u001b[0m \u001b[0;34m\u001b[0m\u001b[0m\n\u001b[1;32m   3489\u001b[0m     \u001b[0;32mdef\u001b[0m \u001b[0m_setitem_slice\u001b[0m\u001b[0;34m(\u001b[0m\u001b[0mself\u001b[0m\u001b[0;34m,\u001b[0m \u001b[0mkey\u001b[0m\u001b[0;34m,\u001b[0m \u001b[0mvalue\u001b[0m\u001b[0;34m)\u001b[0m\u001b[0;34m:\u001b[0m\u001b[0;34m\u001b[0m\u001b[0;34m\u001b[0m\u001b[0m\n",
      "\u001b[0;32m/opt/miniconda3/envs/tensorflow/lib/python3.7/site-packages/pandas/core/frame.py\u001b[0m in \u001b[0;36m_set_item\u001b[0;34m(self, key, value)\u001b[0m\n\u001b[1;32m   3562\u001b[0m \u001b[0;34m\u001b[0m\u001b[0m\n\u001b[1;32m   3563\u001b[0m         \u001b[0mself\u001b[0m\u001b[0;34m.\u001b[0m\u001b[0m_ensure_valid_index\u001b[0m\u001b[0;34m(\u001b[0m\u001b[0mvalue\u001b[0m\u001b[0;34m)\u001b[0m\u001b[0;34m\u001b[0m\u001b[0;34m\u001b[0m\u001b[0m\n\u001b[0;32m-> 3564\u001b[0;31m         \u001b[0mvalue\u001b[0m \u001b[0;34m=\u001b[0m \u001b[0mself\u001b[0m\u001b[0;34m.\u001b[0m\u001b[0m_sanitize_column\u001b[0m\u001b[0;34m(\u001b[0m\u001b[0mkey\u001b[0m\u001b[0;34m,\u001b[0m \u001b[0mvalue\u001b[0m\u001b[0;34m)\u001b[0m\u001b[0;34m\u001b[0m\u001b[0;34m\u001b[0m\u001b[0m\n\u001b[0m\u001b[1;32m   3565\u001b[0m         \u001b[0mNDFrame\u001b[0m\u001b[0;34m.\u001b[0m\u001b[0m_set_item\u001b[0m\u001b[0;34m(\u001b[0m\u001b[0mself\u001b[0m\u001b[0;34m,\u001b[0m \u001b[0mkey\u001b[0m\u001b[0;34m,\u001b[0m \u001b[0mvalue\u001b[0m\u001b[0;34m)\u001b[0m\u001b[0;34m\u001b[0m\u001b[0;34m\u001b[0m\u001b[0m\n\u001b[1;32m   3566\u001b[0m \u001b[0;34m\u001b[0m\u001b[0m\n",
      "\u001b[0;32m/opt/miniconda3/envs/tensorflow/lib/python3.7/site-packages/pandas/core/frame.py\u001b[0m in \u001b[0;36m_sanitize_column\u001b[0;34m(self, key, value, broadcast)\u001b[0m\n\u001b[1;32m   3747\u001b[0m \u001b[0;34m\u001b[0m\u001b[0m\n\u001b[1;32m   3748\u001b[0m             \u001b[0;31m# turn me into an ndarray\u001b[0m\u001b[0;34m\u001b[0m\u001b[0;34m\u001b[0m\u001b[0;34m\u001b[0m\u001b[0m\n\u001b[0;32m-> 3749\u001b[0;31m             \u001b[0mvalue\u001b[0m \u001b[0;34m=\u001b[0m \u001b[0msanitize_index\u001b[0m\u001b[0;34m(\u001b[0m\u001b[0mvalue\u001b[0m\u001b[0;34m,\u001b[0m \u001b[0mself\u001b[0m\u001b[0;34m.\u001b[0m\u001b[0mindex\u001b[0m\u001b[0;34m,\u001b[0m \u001b[0mcopy\u001b[0m\u001b[0;34m=\u001b[0m\u001b[0;32mFalse\u001b[0m\u001b[0;34m)\u001b[0m\u001b[0;34m\u001b[0m\u001b[0;34m\u001b[0m\u001b[0m\n\u001b[0m\u001b[1;32m   3750\u001b[0m             \u001b[0;32mif\u001b[0m \u001b[0;32mnot\u001b[0m \u001b[0misinstance\u001b[0m\u001b[0;34m(\u001b[0m\u001b[0mvalue\u001b[0m\u001b[0;34m,\u001b[0m \u001b[0;34m(\u001b[0m\u001b[0mnp\u001b[0m\u001b[0;34m.\u001b[0m\u001b[0mndarray\u001b[0m\u001b[0;34m,\u001b[0m \u001b[0mIndex\u001b[0m\u001b[0;34m)\u001b[0m\u001b[0;34m)\u001b[0m\u001b[0;34m:\u001b[0m\u001b[0;34m\u001b[0m\u001b[0;34m\u001b[0m\u001b[0m\n\u001b[1;32m   3751\u001b[0m                 \u001b[0;32mif\u001b[0m \u001b[0misinstance\u001b[0m\u001b[0;34m(\u001b[0m\u001b[0mvalue\u001b[0m\u001b[0;34m,\u001b[0m \u001b[0mlist\u001b[0m\u001b[0;34m)\u001b[0m \u001b[0;32mand\u001b[0m \u001b[0mlen\u001b[0m\u001b[0;34m(\u001b[0m\u001b[0mvalue\u001b[0m\u001b[0;34m)\u001b[0m \u001b[0;34m>\u001b[0m \u001b[0;36m0\u001b[0m\u001b[0;34m:\u001b[0m\u001b[0;34m\u001b[0m\u001b[0;34m\u001b[0m\u001b[0m\n",
      "\u001b[0;32m/opt/miniconda3/envs/tensorflow/lib/python3.7/site-packages/pandas/core/internals/construction.py\u001b[0m in \u001b[0;36msanitize_index\u001b[0;34m(data, index, copy)\u001b[0m\n\u001b[1;32m    610\u001b[0m \u001b[0;34m\u001b[0m\u001b[0m\n\u001b[1;32m    611\u001b[0m     \u001b[0;32mif\u001b[0m \u001b[0mlen\u001b[0m\u001b[0;34m(\u001b[0m\u001b[0mdata\u001b[0m\u001b[0;34m)\u001b[0m \u001b[0;34m!=\u001b[0m \u001b[0mlen\u001b[0m\u001b[0;34m(\u001b[0m\u001b[0mindex\u001b[0m\u001b[0;34m)\u001b[0m\u001b[0;34m:\u001b[0m\u001b[0;34m\u001b[0m\u001b[0;34m\u001b[0m\u001b[0m\n\u001b[0;32m--> 612\u001b[0;31m         \u001b[0;32mraise\u001b[0m \u001b[0mValueError\u001b[0m\u001b[0;34m(\u001b[0m\u001b[0;34m\"Length of values does not match length of index\"\u001b[0m\u001b[0;34m)\u001b[0m\u001b[0;34m\u001b[0m\u001b[0;34m\u001b[0m\u001b[0m\n\u001b[0m\u001b[1;32m    613\u001b[0m \u001b[0;34m\u001b[0m\u001b[0m\n\u001b[1;32m    614\u001b[0m     \u001b[0;32mif\u001b[0m \u001b[0misinstance\u001b[0m\u001b[0;34m(\u001b[0m\u001b[0mdata\u001b[0m\u001b[0;34m,\u001b[0m \u001b[0mABCIndexClass\u001b[0m\u001b[0;34m)\u001b[0m \u001b[0;32mand\u001b[0m \u001b[0;32mnot\u001b[0m \u001b[0mcopy\u001b[0m\u001b[0;34m:\u001b[0m\u001b[0;34m\u001b[0m\u001b[0;34m\u001b[0m\u001b[0m\n",
      "\u001b[0;31mValueError\u001b[0m: Length of values does not match length of index"
     ]
    }
   ],
   "source": [
    "df_entity[\"text\"]=tokens_text"
   ]
  },
  {
   "cell_type": "markdown",
   "metadata": {},
   "source": [
    "**Problem is that we have difference of length in text and entity**"
   ]
  },
  {
   "cell_type": "code",
   "execution_count": 86,
   "metadata": {},
   "outputs": [
    {
     "data": {
      "text/plain": [
       "'\\n\\nAgreement for Security Operation Center Services between Verizon Deutschland GmbH Sebrathweg 20 D-44149 Dortmund\\n‑ hereinafter referred to as “Contractor” ‑\\nand F.UN Business Services GmbH Humboldtstraße 33 D-30169 Hannover\\n‑ hereinafter referred to as “EBS” ‑\\n‑ both hereinafter collectively referred to as the “Contracting Parties” ‑ October 09, 2018\\n\\n'"
      ]
     },
     "execution_count": 86,
     "metadata": {},
     "output_type": "execute_result"
    }
   ],
   "source": [
    "raw_text"
   ]
  },
  {
   "cell_type": "code",
   "execution_count": 87,
   "metadata": {},
   "outputs": [
    {
     "data": {
      "text/plain": [
       "356"
      ]
     },
     "execution_count": 87,
     "metadata": {},
     "output_type": "execute_result"
    }
   ],
   "source": [
    "len(raw_text)"
   ]
  },
  {
   "cell_type": "code",
   "execution_count": 88,
   "metadata": {},
   "outputs": [
    {
     "data": {
      "text/plain": [
       "51"
      ]
     },
     "execution_count": 88,
     "metadata": {},
     "output_type": "execute_result"
    }
   ],
   "source": [
    "len(tokens_text)"
   ]
  },
  {
   "cell_type": "code",
   "execution_count": 89,
   "metadata": {},
   "outputs": [],
   "source": [
    "raw_text2 = raw_text.replace(\"\\n\", \"\")"
   ]
  },
  {
   "cell_type": "code",
   "execution_count": 90,
   "metadata": {},
   "outputs": [
    {
     "data": {
      "text/plain": [
       "'Agreement for Security Operation Center Services between Verizon Deutschland GmbH Sebrathweg 20 D-44149 Dortmund‑ hereinafter referred to as “Contractor” ‑and F.UN Business Services GmbH Humboldtstraße 33 D-30169 Hannover‑ hereinafter referred to as “EBS” ‑‑ both hereinafter collectively referred to as the “Contracting Parties” ‑ October 09, 2018'"
      ]
     },
     "execution_count": 90,
     "metadata": {},
     "output_type": "execute_result"
    }
   ],
   "source": [
    "raw_text2"
   ]
  },
  {
   "cell_type": "code",
   "execution_count": 91,
   "metadata": {},
   "outputs": [
    {
     "data": {
      "text/plain": [
       "348"
      ]
     },
     "execution_count": 91,
     "metadata": {},
     "output_type": "execute_result"
    }
   ],
   "source": [
    "len(raw_text2)"
   ]
  },
  {
   "cell_type": "code",
   "execution_count": 92,
   "metadata": {},
   "outputs": [],
   "source": [
    "tokens_text2=raw_text2.split()"
   ]
  },
  {
   "cell_type": "code",
   "execution_count": 93,
   "metadata": {},
   "outputs": [
    {
     "data": {
      "text/plain": [
       "47"
      ]
     },
     "execution_count": 93,
     "metadata": {},
     "output_type": "execute_result"
    }
   ],
   "source": [
    "len(tokens_text2)"
   ]
  },
  {
   "cell_type": "code",
   "execution_count": 94,
   "metadata": {},
   "outputs": [
    {
     "name": "stdout",
     "output_type": "stream",
     "text": [
      "['Agreement', 'for', 'Security', 'Operation', 'Center', 'Services', 'between', 'Verizon', 'Deutschland', 'GmbH', 'Sebrathweg', '20', 'D-44149', 'Dortmund‑', 'hereinafter', 'referred', 'to', 'as', '“Contractor”', '‑and', 'F.UN', 'Business', 'Services', 'GmbH', 'Humboldtstraße', '33', 'D-30169', 'Hannover‑', 'hereinafter', 'referred', 'to', 'as', '“EBS”', '‑‑', 'both', 'hereinafter', 'collectively', 'referred', 'to', 'as', 'the', '“Contracting', 'Parties”', '‑', 'October', '09,', '2018']\n"
     ]
    }
   ],
   "source": [
    "print(tokens_text2)"
   ]
  },
  {
   "cell_type": "code",
   "execution_count": 95,
   "metadata": {},
   "outputs": [
    {
     "name": "stdout",
     "output_type": "stream",
     "text": [
      "['O', 'B-TITLE', 'I-TITLE', 'I-TITLE', 'I-TITLE', 'I-TITLE', 'L-TITLE', 'O', 'B-SUPPLIER', 'I-SUPPLIER', 'L-SUPPLIER', 'O', 'O', 'O', 'O', 'O', 'O', 'O', 'O', 'O', 'O', 'O', 'O', 'O', 'O', 'O', 'O', 'B-CLIENT', 'I-CLIENT', 'I-CLIENT', 'L-CLIENT', 'O', 'O', 'O', 'O', 'O', 'O', 'O', 'O', 'O', 'O', 'O', 'O', 'O', 'O', 'O', 'O', 'O', 'O', 'O', 'O', 'O', 'O', 'O', 'O', 'O', 'O', 'O', 'O', 'O', 'O', 'O', 'O', 'O']\n"
     ]
    }
   ],
   "source": [
    "print(save_json3)"
   ]
  },
  {
   "cell_type": "code",
   "execution_count": 96,
   "metadata": {},
   "outputs": [
    {
     "name": "stdout",
     "output_type": "stream",
     "text": [
      "['Agreement', 'for', 'Security', 'Operation', 'Center', 'Services', 'between', 'Verizon', 'Deutschland', 'GmbH', 'Sebrathweg', '20', 'D-44149', 'Dortmund', '‑', 'hereinafter', 'referred', 'to', 'as', '“Contractor”', '‑', 'and', 'F.UN', 'Business', 'Services', 'GmbH', 'Humboldtstraße', '33', 'D-30169', 'Hannover', '‑', 'hereinafter', 'referred', 'to', 'as', '“EBS”', '‑', '‑', 'both', 'hereinafter', 'collectively', 'referred', 'to', 'as', 'the', '“Contracting', 'Parties”', '‑', 'October', '09,', '2018']\n"
     ]
    }
   ],
   "source": [
    "print(tokens_text)"
   ]
  },
  {
   "cell_type": "markdown",
   "metadata": {},
   "source": [
    "# Working with Data4\n",
    "\n",
    "Taken from Doccano"
   ]
  },
  {
   "cell_type": "code",
   "execution_count": 97,
   "metadata": {},
   "outputs": [],
   "source": [
    "data4={'id': 35, 'text': \"Now, I'm ready to move this to a serving environment (via Sagemaker, but that just implements tensorflow.serving).\", 'annotations': [{'label': 4, 'start_offset': 0, 'end_offset': 3, 'user': 1}, {'label': 4, 'start_offset': 5, 'end_offset': 8, 'user': 1}, {'label': 4, 'start_offset': 9, 'end_offset': 14, 'user': 1}, {'label': 4, 'start_offset': 15, 'end_offset': 17, 'user': 1}, {'label': 4, 'start_offset': 18, 'end_offset': 22, 'user': 1}, {'label': 4, 'start_offset': 23, 'end_offset': 27, 'user': 1}, {'label': 4, 'start_offset': 28, 'end_offset': 30, 'user': 1}, {'label': 4, 'start_offset': 31, 'end_offset': 32, 'user': 1}, {'label': 4, 'start_offset': 33, 'end_offset': 40, 'user': 1}, {'label': 4, 'start_offset': 41, 'end_offset': 52, 'user': 1}, {'label': 4, 'start_offset': 54, 'end_offset': 57, 'user': 1}, {'label': 4, 'start_offset': 58, 'end_offset': 67, 'user': 1}, {'label': 4, 'start_offset': 69, 'end_offset': 72, 'user': 1}, {'label': 4, 'start_offset': 73, 'end_offset': 77, 'user': 1}, {'label': 4, 'start_offset': 78, 'end_offset': 82, 'user': 1}, {'label': 4, 'start_offset': 83, 'end_offset': 93, 'user': 1}, {'label': 2, 'start_offset': 94, 'end_offset': 112, 'user': 1}], 'meta': {}}"
   ]
  },
  {
   "cell_type": "code",
   "execution_count": 98,
   "metadata": {},
   "outputs": [
    {
     "name": "stdout",
     "output_type": "stream",
     "text": [
      "{'id': 35, 'text': \"Now, I'm ready to move this to a serving environment (via Sagemaker, but that just implements tensorflow.serving).\", 'annotations': [{'label': 4, 'start_offset': 0, 'end_offset': 3, 'user': 1}, {'label': 4, 'start_offset': 5, 'end_offset': 8, 'user': 1}, {'label': 4, 'start_offset': 9, 'end_offset': 14, 'user': 1}, {'label': 4, 'start_offset': 15, 'end_offset': 17, 'user': 1}, {'label': 4, 'start_offset': 18, 'end_offset': 22, 'user': 1}, {'label': 4, 'start_offset': 23, 'end_offset': 27, 'user': 1}, {'label': 4, 'start_offset': 28, 'end_offset': 30, 'user': 1}, {'label': 4, 'start_offset': 31, 'end_offset': 32, 'user': 1}, {'label': 4, 'start_offset': 33, 'end_offset': 40, 'user': 1}, {'label': 4, 'start_offset': 41, 'end_offset': 52, 'user': 1}, {'label': 4, 'start_offset': 54, 'end_offset': 57, 'user': 1}, {'label': 4, 'start_offset': 58, 'end_offset': 67, 'user': 1}, {'label': 4, 'start_offset': 69, 'end_offset': 72, 'user': 1}, {'label': 4, 'start_offset': 73, 'end_offset': 77, 'user': 1}, {'label': 4, 'start_offset': 78, 'end_offset': 82, 'user': 1}, {'label': 4, 'start_offset': 83, 'end_offset': 93, 'user': 1}, {'label': 2, 'start_offset': 94, 'end_offset': 112, 'user': 1}], 'meta': {}}\n"
     ]
    }
   ],
   "source": [
    "print(data4)"
   ]
  },
  {
   "cell_type": "code",
   "execution_count": 99,
   "metadata": {},
   "outputs": [
    {
     "data": {
      "text/plain": [
       "35"
      ]
     },
     "execution_count": 99,
     "metadata": {},
     "output_type": "execute_result"
    }
   ],
   "source": [
    "data4[\"id\"]"
   ]
  },
  {
   "cell_type": "code",
   "execution_count": 100,
   "metadata": {},
   "outputs": [
    {
     "data": {
      "text/plain": [
       "\"Now, I'm ready to move this to a serving environment (via Sagemaker, but that just implements tensorflow.serving).\""
      ]
     },
     "execution_count": 100,
     "metadata": {},
     "output_type": "execute_result"
    }
   ],
   "source": [
    "data4[\"text\"]"
   ]
  },
  {
   "cell_type": "code",
   "execution_count": 101,
   "metadata": {},
   "outputs": [],
   "source": [
    "raw_text3=data4[\"text\"]"
   ]
  },
  {
   "cell_type": "code",
   "execution_count": 102,
   "metadata": {},
   "outputs": [
    {
     "data": {
      "text/plain": [
       "str"
      ]
     },
     "execution_count": 102,
     "metadata": {},
     "output_type": "execute_result"
    }
   ],
   "source": [
    "type(raw_text3)"
   ]
  },
  {
   "cell_type": "code",
   "execution_count": 103,
   "metadata": {},
   "outputs": [
    {
     "data": {
      "text/plain": [
       "114"
      ]
     },
     "execution_count": 103,
     "metadata": {},
     "output_type": "execute_result"
    }
   ],
   "source": [
    "len(raw_text3)"
   ]
  },
  {
   "cell_type": "code",
   "execution_count": 104,
   "metadata": {},
   "outputs": [],
   "source": [
    "annotat=data4[\"annotations\"]"
   ]
  },
  {
   "cell_type": "code",
   "execution_count": 105,
   "metadata": {},
   "outputs": [
    {
     "data": {
      "text/plain": [
       "list"
      ]
     },
     "execution_count": 105,
     "metadata": {},
     "output_type": "execute_result"
    }
   ],
   "source": [
    "type(annotat)"
   ]
  },
  {
   "cell_type": "code",
   "execution_count": 106,
   "metadata": {},
   "outputs": [
    {
     "data": {
      "text/plain": [
       "{'label': 4, 'start_offset': 0, 'end_offset': 3, 'user': 1}"
      ]
     },
     "execution_count": 106,
     "metadata": {},
     "output_type": "execute_result"
    }
   ],
   "source": [
    "annotat[0]"
   ]
  },
  {
   "cell_type": "code",
   "execution_count": 107,
   "metadata": {},
   "outputs": [
    {
     "name": "stdout",
     "output_type": "stream",
     "text": [
      "{'label': 4, 'start_offset': 0, 'end_offset': 3, 'user': 1}\n",
      "{'label': 4, 'start_offset': 5, 'end_offset': 8, 'user': 1}\n",
      "{'label': 4, 'start_offset': 9, 'end_offset': 14, 'user': 1}\n",
      "{'label': 4, 'start_offset': 15, 'end_offset': 17, 'user': 1}\n",
      "{'label': 4, 'start_offset': 18, 'end_offset': 22, 'user': 1}\n",
      "{'label': 4, 'start_offset': 23, 'end_offset': 27, 'user': 1}\n",
      "{'label': 4, 'start_offset': 28, 'end_offset': 30, 'user': 1}\n",
      "{'label': 4, 'start_offset': 31, 'end_offset': 32, 'user': 1}\n",
      "{'label': 4, 'start_offset': 33, 'end_offset': 40, 'user': 1}\n",
      "{'label': 4, 'start_offset': 41, 'end_offset': 52, 'user': 1}\n",
      "{'label': 4, 'start_offset': 54, 'end_offset': 57, 'user': 1}\n",
      "{'label': 4, 'start_offset': 58, 'end_offset': 67, 'user': 1}\n",
      "{'label': 4, 'start_offset': 69, 'end_offset': 72, 'user': 1}\n",
      "{'label': 4, 'start_offset': 73, 'end_offset': 77, 'user': 1}\n",
      "{'label': 4, 'start_offset': 78, 'end_offset': 82, 'user': 1}\n",
      "{'label': 4, 'start_offset': 83, 'end_offset': 93, 'user': 1}\n",
      "{'label': 2, 'start_offset': 94, 'end_offset': 112, 'user': 1}\n"
     ]
    }
   ],
   "source": [
    "# Or we can use FOR Loop for all data\n",
    "\n",
    "for labels in annotat:\n",
    "    print(labels)"
   ]
  },
  {
   "cell_type": "code",
   "execution_count": 108,
   "metadata": {},
   "outputs": [
    {
     "data": {
      "text/html": [
       "<div>\n",
       "<style scoped>\n",
       "    .dataframe tbody tr th:only-of-type {\n",
       "        vertical-align: middle;\n",
       "    }\n",
       "\n",
       "    .dataframe tbody tr th {\n",
       "        vertical-align: top;\n",
       "    }\n",
       "\n",
       "    .dataframe thead th {\n",
       "        text-align: right;\n",
       "    }\n",
       "</style>\n",
       "<table border=\"1\" class=\"dataframe\">\n",
       "  <thead>\n",
       "    <tr style=\"text-align: right;\">\n",
       "      <th></th>\n",
       "      <th>label</th>\n",
       "      <th>start_offset</th>\n",
       "      <th>end_offset</th>\n",
       "      <th>user</th>\n",
       "    </tr>\n",
       "  </thead>\n",
       "  <tbody>\n",
       "    <tr>\n",
       "      <th>0</th>\n",
       "      <td>4</td>\n",
       "      <td>0</td>\n",
       "      <td>3</td>\n",
       "      <td>1</td>\n",
       "    </tr>\n",
       "    <tr>\n",
       "      <th>1</th>\n",
       "      <td>4</td>\n",
       "      <td>5</td>\n",
       "      <td>8</td>\n",
       "      <td>1</td>\n",
       "    </tr>\n",
       "    <tr>\n",
       "      <th>2</th>\n",
       "      <td>4</td>\n",
       "      <td>9</td>\n",
       "      <td>14</td>\n",
       "      <td>1</td>\n",
       "    </tr>\n",
       "    <tr>\n",
       "      <th>3</th>\n",
       "      <td>4</td>\n",
       "      <td>15</td>\n",
       "      <td>17</td>\n",
       "      <td>1</td>\n",
       "    </tr>\n",
       "    <tr>\n",
       "      <th>4</th>\n",
       "      <td>4</td>\n",
       "      <td>18</td>\n",
       "      <td>22</td>\n",
       "      <td>1</td>\n",
       "    </tr>\n",
       "    <tr>\n",
       "      <th>5</th>\n",
       "      <td>4</td>\n",
       "      <td>23</td>\n",
       "      <td>27</td>\n",
       "      <td>1</td>\n",
       "    </tr>\n",
       "    <tr>\n",
       "      <th>6</th>\n",
       "      <td>4</td>\n",
       "      <td>28</td>\n",
       "      <td>30</td>\n",
       "      <td>1</td>\n",
       "    </tr>\n",
       "    <tr>\n",
       "      <th>7</th>\n",
       "      <td>4</td>\n",
       "      <td>31</td>\n",
       "      <td>32</td>\n",
       "      <td>1</td>\n",
       "    </tr>\n",
       "    <tr>\n",
       "      <th>8</th>\n",
       "      <td>4</td>\n",
       "      <td>33</td>\n",
       "      <td>40</td>\n",
       "      <td>1</td>\n",
       "    </tr>\n",
       "    <tr>\n",
       "      <th>9</th>\n",
       "      <td>4</td>\n",
       "      <td>41</td>\n",
       "      <td>52</td>\n",
       "      <td>1</td>\n",
       "    </tr>\n",
       "    <tr>\n",
       "      <th>10</th>\n",
       "      <td>4</td>\n",
       "      <td>54</td>\n",
       "      <td>57</td>\n",
       "      <td>1</td>\n",
       "    </tr>\n",
       "    <tr>\n",
       "      <th>11</th>\n",
       "      <td>4</td>\n",
       "      <td>58</td>\n",
       "      <td>67</td>\n",
       "      <td>1</td>\n",
       "    </tr>\n",
       "    <tr>\n",
       "      <th>12</th>\n",
       "      <td>4</td>\n",
       "      <td>69</td>\n",
       "      <td>72</td>\n",
       "      <td>1</td>\n",
       "    </tr>\n",
       "    <tr>\n",
       "      <th>13</th>\n",
       "      <td>4</td>\n",
       "      <td>73</td>\n",
       "      <td>77</td>\n",
       "      <td>1</td>\n",
       "    </tr>\n",
       "    <tr>\n",
       "      <th>14</th>\n",
       "      <td>4</td>\n",
       "      <td>78</td>\n",
       "      <td>82</td>\n",
       "      <td>1</td>\n",
       "    </tr>\n",
       "    <tr>\n",
       "      <th>15</th>\n",
       "      <td>4</td>\n",
       "      <td>83</td>\n",
       "      <td>93</td>\n",
       "      <td>1</td>\n",
       "    </tr>\n",
       "    <tr>\n",
       "      <th>16</th>\n",
       "      <td>2</td>\n",
       "      <td>94</td>\n",
       "      <td>112</td>\n",
       "      <td>1</td>\n",
       "    </tr>\n",
       "  </tbody>\n",
       "</table>\n",
       "</div>"
      ],
      "text/plain": [
       "    label  start_offset  end_offset  user\n",
       "0       4             0           3     1\n",
       "1       4             5           8     1\n",
       "2       4             9          14     1\n",
       "3       4            15          17     1\n",
       "4       4            18          22     1\n",
       "5       4            23          27     1\n",
       "6       4            28          30     1\n",
       "7       4            31          32     1\n",
       "8       4            33          40     1\n",
       "9       4            41          52     1\n",
       "10      4            54          57     1\n",
       "11      4            58          67     1\n",
       "12      4            69          72     1\n",
       "13      4            73          77     1\n",
       "14      4            78          82     1\n",
       "15      4            83          93     1\n",
       "16      2            94         112     1"
      ]
     },
     "execution_count": 108,
     "metadata": {},
     "output_type": "execute_result"
    }
   ],
   "source": [
    "pd.DataFrame(annotat, columns=[\"label\",\"start_offset\",\"end_offset\",\"user\"])"
   ]
  },
  {
   "cell_type": "code",
   "execution_count": 109,
   "metadata": {},
   "outputs": [],
   "source": [
    "df_label=pd.DataFrame(annotat, columns=[\"label\",\"start_offset\",\"end_offset\",\"user\"])"
   ]
  },
  {
   "cell_type": "code",
   "execution_count": 110,
   "metadata": {},
   "outputs": [],
   "source": [
    "labels_ent=df_label.label"
   ]
  },
  {
   "cell_type": "code",
   "execution_count": 111,
   "metadata": {},
   "outputs": [
    {
     "data": {
      "text/plain": [
       "17"
      ]
     },
     "execution_count": 111,
     "metadata": {},
     "output_type": "execute_result"
    }
   ],
   "source": [
    "len(labels_ent)"
   ]
  },
  {
   "cell_type": "code",
   "execution_count": 112,
   "metadata": {},
   "outputs": [
    {
     "data": {
      "text/html": [
       "<div>\n",
       "<style scoped>\n",
       "    .dataframe tbody tr th:only-of-type {\n",
       "        vertical-align: middle;\n",
       "    }\n",
       "\n",
       "    .dataframe tbody tr th {\n",
       "        vertical-align: top;\n",
       "    }\n",
       "\n",
       "    .dataframe thead th {\n",
       "        text-align: right;\n",
       "    }\n",
       "</style>\n",
       "<table border=\"1\" class=\"dataframe\">\n",
       "  <thead>\n",
       "    <tr style=\"text-align: right;\">\n",
       "      <th></th>\n",
       "      <th>text</th>\n",
       "      <th>entity</th>\n",
       "    </tr>\n",
       "  </thead>\n",
       "  <tbody>\n",
       "  </tbody>\n",
       "</table>\n",
       "</div>"
      ],
      "text/plain": [
       "Empty DataFrame\n",
       "Columns: [text, entity]\n",
       "Index: []"
      ]
     },
     "execution_count": 112,
     "metadata": {},
     "output_type": "execute_result"
    }
   ],
   "source": [
    "df_entity2 = pd.DataFrame({'text': [], 'entity': []})\n",
    "df_entity2"
   ]
  },
  {
   "cell_type": "code",
   "execution_count": 113,
   "metadata": {},
   "outputs": [
    {
     "data": {
      "text/plain": [
       "\"Now, I'm ready to move this to a serving environment (via Sagemaker, but that just implements tensorflow.serving).\""
      ]
     },
     "execution_count": 113,
     "metadata": {},
     "output_type": "execute_result"
    }
   ],
   "source": [
    "raw_text3"
   ]
  },
  {
   "cell_type": "code",
   "execution_count": 114,
   "metadata": {},
   "outputs": [
    {
     "data": {
      "text/plain": [
       "list"
      ]
     },
     "execution_count": 114,
     "metadata": {},
     "output_type": "execute_result"
    }
   ],
   "source": [
    "# converting text strings into tokens\n",
    "raw_token3=raw_text3.split()\n",
    "type(raw_token3)"
   ]
  },
  {
   "cell_type": "code",
   "execution_count": 115,
   "metadata": {},
   "outputs": [
    {
     "data": {
      "text/plain": [
       "17"
      ]
     },
     "execution_count": 115,
     "metadata": {},
     "output_type": "execute_result"
    }
   ],
   "source": [
    "len(raw_token3)"
   ]
  },
  {
   "cell_type": "code",
   "execution_count": 119,
   "metadata": {},
   "outputs": [
    {
     "data": {
      "text/plain": [
       "0                     Now,\n",
       "1                      I'm\n",
       "2                    ready\n",
       "3                       to\n",
       "4                     move\n",
       "5                     this\n",
       "6                       to\n",
       "7                        a\n",
       "8                  serving\n",
       "9              environment\n",
       "10                    (via\n",
       "11              Sagemaker,\n",
       "12                     but\n",
       "13                    that\n",
       "14                    just\n",
       "15              implements\n",
       "16    tensorflow.serving).\n",
       "dtype: object"
      ]
     },
     "execution_count": 119,
     "metadata": {},
     "output_type": "execute_result"
    }
   ],
   "source": [
    "token_series=pd.Series(raw_token3)\n",
    "token_series"
   ]
  },
  {
   "cell_type": "code",
   "execution_count": 120,
   "metadata": {},
   "outputs": [],
   "source": [
    "df_entity2['text']=token_series\n",
    "df_entity2['entity']=labels_ent"
   ]
  },
  {
   "cell_type": "code",
   "execution_count": 121,
   "metadata": {},
   "outputs": [
    {
     "data": {
      "text/html": [
       "<div>\n",
       "<style scoped>\n",
       "    .dataframe tbody tr th:only-of-type {\n",
       "        vertical-align: middle;\n",
       "    }\n",
       "\n",
       "    .dataframe tbody tr th {\n",
       "        vertical-align: top;\n",
       "    }\n",
       "\n",
       "    .dataframe thead th {\n",
       "        text-align: right;\n",
       "    }\n",
       "</style>\n",
       "<table border=\"1\" class=\"dataframe\">\n",
       "  <thead>\n",
       "    <tr style=\"text-align: right;\">\n",
       "      <th></th>\n",
       "      <th>text</th>\n",
       "      <th>entity</th>\n",
       "    </tr>\n",
       "  </thead>\n",
       "  <tbody>\n",
       "    <tr>\n",
       "      <th>0</th>\n",
       "      <td>Now,</td>\n",
       "      <td>4</td>\n",
       "    </tr>\n",
       "    <tr>\n",
       "      <th>1</th>\n",
       "      <td>I'm</td>\n",
       "      <td>4</td>\n",
       "    </tr>\n",
       "    <tr>\n",
       "      <th>2</th>\n",
       "      <td>ready</td>\n",
       "      <td>4</td>\n",
       "    </tr>\n",
       "    <tr>\n",
       "      <th>3</th>\n",
       "      <td>to</td>\n",
       "      <td>4</td>\n",
       "    </tr>\n",
       "    <tr>\n",
       "      <th>4</th>\n",
       "      <td>move</td>\n",
       "      <td>4</td>\n",
       "    </tr>\n",
       "    <tr>\n",
       "      <th>5</th>\n",
       "      <td>this</td>\n",
       "      <td>4</td>\n",
       "    </tr>\n",
       "    <tr>\n",
       "      <th>6</th>\n",
       "      <td>to</td>\n",
       "      <td>4</td>\n",
       "    </tr>\n",
       "    <tr>\n",
       "      <th>7</th>\n",
       "      <td>a</td>\n",
       "      <td>4</td>\n",
       "    </tr>\n",
       "    <tr>\n",
       "      <th>8</th>\n",
       "      <td>serving</td>\n",
       "      <td>4</td>\n",
       "    </tr>\n",
       "    <tr>\n",
       "      <th>9</th>\n",
       "      <td>environment</td>\n",
       "      <td>4</td>\n",
       "    </tr>\n",
       "    <tr>\n",
       "      <th>10</th>\n",
       "      <td>(via</td>\n",
       "      <td>4</td>\n",
       "    </tr>\n",
       "    <tr>\n",
       "      <th>11</th>\n",
       "      <td>Sagemaker,</td>\n",
       "      <td>4</td>\n",
       "    </tr>\n",
       "    <tr>\n",
       "      <th>12</th>\n",
       "      <td>but</td>\n",
       "      <td>4</td>\n",
       "    </tr>\n",
       "    <tr>\n",
       "      <th>13</th>\n",
       "      <td>that</td>\n",
       "      <td>4</td>\n",
       "    </tr>\n",
       "    <tr>\n",
       "      <th>14</th>\n",
       "      <td>just</td>\n",
       "      <td>4</td>\n",
       "    </tr>\n",
       "    <tr>\n",
       "      <th>15</th>\n",
       "      <td>implements</td>\n",
       "      <td>4</td>\n",
       "    </tr>\n",
       "    <tr>\n",
       "      <th>16</th>\n",
       "      <td>tensorflow.serving).</td>\n",
       "      <td>2</td>\n",
       "    </tr>\n",
       "  </tbody>\n",
       "</table>\n",
       "</div>"
      ],
      "text/plain": [
       "                    text  entity\n",
       "0                   Now,       4\n",
       "1                    I'm       4\n",
       "2                  ready       4\n",
       "3                     to       4\n",
       "4                   move       4\n",
       "5                   this       4\n",
       "6                     to       4\n",
       "7                      a       4\n",
       "8                serving       4\n",
       "9            environment       4\n",
       "10                  (via       4\n",
       "11            Sagemaker,       4\n",
       "12                   but       4\n",
       "13                  that       4\n",
       "14                  just       4\n",
       "15            implements       4\n",
       "16  tensorflow.serving).       2"
      ]
     },
     "execution_count": 121,
     "metadata": {},
     "output_type": "execute_result"
    }
   ],
   "source": [
    "df_entity2"
   ]
  },
  {
   "cell_type": "markdown",
   "metadata": {},
   "source": [
    "Hence proved if data is annotated correctly then we could have stable and useable dataset."
   ]
  },
  {
   "cell_type": "code",
   "execution_count": null,
   "metadata": {},
   "outputs": [],
   "source": []
  }
 ],
 "metadata": {
  "kernelspec": {
   "display_name": "Python 3.7 (tensorflow)",
   "language": "python",
   "name": "tensorflow"
  },
  "language_info": {
   "codemirror_mode": {
    "name": "ipython",
    "version": 3
   },
   "file_extension": ".py",
   "mimetype": "text/x-python",
   "name": "python",
   "nbconvert_exporter": "python",
   "pygments_lexer": "ipython3",
   "version": "3.7.5"
  }
 },
 "nbformat": 4,
 "nbformat_minor": 2
}
