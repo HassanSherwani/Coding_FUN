{
 "cells": [
  {
   "cell_type": "markdown",
   "metadata": {},
   "source": [
    "# Create dataset from given noisy data\n"
   ]
  },
  {
   "cell_type": "markdown",
   "metadata": {},
   "source": [
    "# 1)- Import Key Modules"
   ]
  },
  {
   "cell_type": "code",
   "execution_count": 1,
   "metadata": {},
   "outputs": [],
   "source": [
    "# support both Python 2 and Python 3 with minimal overhead.\n",
    "from __future__ import absolute_import, division, print_function\n",
    "\n",
    "# I am an engineer. I care only about error not warning. So, let's be maverick and ignore warnings.\n",
    "import warnings\n",
    "warnings.filterwarnings('ignore')"
   ]
  },
  {
   "cell_type": "code",
   "execution_count": 2,
   "metadata": {},
   "outputs": [],
   "source": [
    "import pickle\n",
    "import pandas as pd\n",
    "import numpy as np\n",
    "from nltk.corpus import stopwords\n",
    "from nltk.stem.porter import PorterStemmer\n",
    "import re\n",
    "from bs4 import BeautifulSoup\n",
    "import string\n",
    "from sklearn.feature_extraction.text import CountVectorizer\n",
    "from sklearn.linear_model import LogisticRegression"
   ]
  },
  {
   "cell_type": "markdown",
   "metadata": {},
   "source": [
    "# 2)- Loading Data"
   ]
  },
  {
   "cell_type": "code",
   "execution_count": 3,
   "metadata": {},
   "outputs": [
    {
     "data": {
      "text/plain": [
       "(1000, 4)"
      ]
     },
     "execution_count": 3,
     "metadata": {},
     "output_type": "execute_result"
    }
   ],
   "source": [
    "data=pd.read_pickle('file_clean_intent.pkl')\n",
    "data.shape"
   ]
  },
  {
   "cell_type": "code",
   "execution_count": 4,
   "metadata": {
    "scrolled": true
   },
   "outputs": [
    {
     "data": {
      "text/html": [
       "<div>\n",
       "<style scoped>\n",
       "    .dataframe tbody tr th:only-of-type {\n",
       "        vertical-align: middle;\n",
       "    }\n",
       "\n",
       "    .dataframe tbody tr th {\n",
       "        vertical-align: top;\n",
       "    }\n",
       "\n",
       "    .dataframe thead th {\n",
       "        text-align: right;\n",
       "    }\n",
       "</style>\n",
       "<table border=\"1\" class=\"dataframe\">\n",
       "  <thead>\n",
       "    <tr style=\"text-align: right;\">\n",
       "      <th></th>\n",
       "      <th>firstmessage</th>\n",
       "      <th>dep</th>\n",
       "      <th>clean</th>\n",
       "      <th>clean2</th>\n",
       "    </tr>\n",
       "  </thead>\n",
       "  <tbody>\n",
       "    <tr>\n",
       "      <th>0</th>\n",
       "      <td>Hello:&lt;br&gt;&lt;br&gt;I tried to apply a voucher to th...</td>\n",
       "      <td>Shipping issues</td>\n",
       "      <td>Hello br br I tried to apply a voucher to this...</td>\n",
       "      <td>hello: tried apply voucher order received mail...</td>\n",
       "    </tr>\n",
       "    <tr>\n",
       "      <th>1</th>\n",
       "      <td>&lt;br&gt;Hi,&lt;br&gt;&lt;br&gt;Do you have a tracking number p...</td>\n",
       "      <td>Shipping issues</td>\n",
       "      <td>br Hi br br Do you have a tracking number plea...</td>\n",
       "      <td>hi, tracking number please? thank you. kind re...</td>\n",
       "    </tr>\n",
       "    <tr>\n",
       "      <th>2</th>\n",
       "      <td>&lt;p&gt;Hi,&lt;br /&gt;&lt;br /&gt;I&amp;rsquo;ve received my order...</td>\n",
       "      <td>product complaints - products (Reklamation Pro...</td>\n",
       "      <td>p Hi br br I rsquo ve received my order but on...</td>\n",
       "      <td>hi, i&amp;rsquo;ve received order one poster bad s...</td>\n",
       "    </tr>\n",
       "    <tr>\n",
       "      <th>3</th>\n",
       "      <td>I was asked to test a saal photobook and I was...</td>\n",
       "      <td>ShareWithSaal</td>\n",
       "      <td>I wa asked to test a saal photobook and I wa s...</td>\n",
       "      <td>asked test saal photobook delighted result! ar...</td>\n",
       "    </tr>\n",
       "    <tr>\n",
       "      <th>4</th>\n",
       "      <td>&lt;p&gt;&lt;br /&gt;Ainda n&amp;atilde;o recebi a encomenda e...</td>\n",
       "      <td>Order management</td>\n",
       "      <td>p br Ainda n atilde o recebi a encomenda e est...</td>\n",
       "      <td>ainda n&amp;atilde;o recebi encomenda e estive sem...</td>\n",
       "    </tr>\n",
       "  </tbody>\n",
       "</table>\n",
       "</div>"
      ],
      "text/plain": [
       "                                        firstmessage  \\\n",
       "0  Hello:<br><br>I tried to apply a voucher to th...   \n",
       "1  <br>Hi,<br><br>Do you have a tracking number p...   \n",
       "2  <p>Hi,<br /><br />I&rsquo;ve received my order...   \n",
       "3  I was asked to test a saal photobook and I was...   \n",
       "4  <p><br />Ainda n&atilde;o recebi a encomenda e...   \n",
       "\n",
       "                                                 dep  \\\n",
       "0                                    Shipping issues   \n",
       "1                                    Shipping issues   \n",
       "2  product complaints - products (Reklamation Pro...   \n",
       "3                                      ShareWithSaal   \n",
       "4                                   Order management   \n",
       "\n",
       "                                               clean  \\\n",
       "0  Hello br br I tried to apply a voucher to this...   \n",
       "1  br Hi br br Do you have a tracking number plea...   \n",
       "2  p Hi br br I rsquo ve received my order but on...   \n",
       "3  I wa asked to test a saal photobook and I wa s...   \n",
       "4  p br Ainda n atilde o recebi a encomenda e est...   \n",
       "\n",
       "                                              clean2  \n",
       "0  hello: tried apply voucher order received mail...  \n",
       "1  hi, tracking number please? thank you. kind re...  \n",
       "2  hi, i&rsquo;ve received order one poster bad s...  \n",
       "3  asked test saal photobook delighted result! ar...  \n",
       "4  ainda n&atilde;o recebi encomenda e estive sem...  "
      ]
     },
     "execution_count": 4,
     "metadata": {},
     "output_type": "execute_result"
    }
   ],
   "source": [
    "data.head()"
   ]
  },
  {
   "cell_type": "code",
   "execution_count": 5,
   "metadata": {},
   "outputs": [
    {
     "name": "stdout",
     "output_type": "stream",
     "text": [
      "Amazing website, company and product! As a professional photographer through 5 years, I can vouch for Saal Digital and their high quality service\n",
      "Label: Customer feedback\n"
     ]
    }
   ],
   "source": [
    "def print_plot(index):\n",
    "    example = data[data.index == index][['firstmessage', 'dep']].values[0]\n",
    "    if len(example) > 0:\n",
    "        print(example[0])\n",
    "        print('Label:', example[1])\n",
    "print_plot(10)"
   ]
  },
  {
   "cell_type": "code",
   "execution_count": 6,
   "metadata": {},
   "outputs": [
    {
     "name": "stdout",
     "output_type": "stream",
     "text": [
      "<p>Hi,<br /><br />I&rsquo;ve received my order but one of the posters was in bad state.&nbsp;<br /><br />It was folded. &nbsp;La post sent me an email saying they had to &ldquo;reinforce&rdquo; the packaging.<br /><br />The order was 512005251803340<br /><br />Regards,<br /><br />Eugenia Sebastiani&nbsp;<br /><br /></p>\n",
      "Label: product complaints - products (Reklamation Produkte)\n"
     ]
    }
   ],
   "source": [
    "print_plot(2)"
   ]
  },
  {
   "cell_type": "code",
   "execution_count": 7,
   "metadata": {},
   "outputs": [
    {
     "data": {
      "text/plain": [
       "105422"
      ]
     },
     "execution_count": 7,
     "metadata": {},
     "output_type": "execute_result"
    }
   ],
   "source": [
    "data['firstmessage'].apply(lambda x: len(x.split(' '))).sum()"
   ]
  },
  {
   "cell_type": "markdown",
   "metadata": {},
   "source": [
    "### Triming"
   ]
  },
  {
   "cell_type": "code",
   "execution_count": 8,
   "metadata": {},
   "outputs": [
    {
     "name": "stdout",
     "output_type": "stream",
     "text": [
      "<br>Hello,<br><br>I wanted to see if I could change my delivery address for order 512005290316262.<br><br>I'd like to change it to:<br>200 Robert Rd Dedham MA 02026 United States<br><br>Thanks! <br><br>On Thu, May 28, 2020 at 9:22 PM <mailto:support@saal-digital.com> wrote:<br><br>    |     http://www.saal-digital.com/<br>    |<br>Dear Mr. Peters,  thank you for your order. We are very pleased that you have chosen  www.saal-digital.com.<br>Your order number:  https://www.saal-digital.com/ordercockpit/?email=mikemppeters%40gmail.com&ordernumber=512005290316262<br>    |   Your order<br>    |   Article    |   Quantity    |   Total price<br>    |   8 x 8 Photobook Professional Line, Spreads: matte photo paper, 32 pages     |    1    |    $ 43,29<br>    |   Premium gift box black     |    1    |    $ 60,00<br>    |   Cover: Leather / Linen, Cover surface: leather black, Barcode: without barcode     |    1    |    $ 52,50<br>    |   Shipping costs:    |   $ 4,95<br>    |   Voucher    |   - $ 150,00<br>    |   Total:    |   $ 10,74     Selected method of payment: Already paid via paypal Estimated delivery date: 6/9/2020<br>    |   Delivery address Michael Peters 10 Clary St Apt 2 02139 Cambridge USA    |          |   Billing address Michael Peters 10 Clary St Apt 2 02139 Cambridge USA<br>Your order status In our order management tool, you can find your order current shipping status.  You can always see exactly where your order currently is and you can track it in real time. You can also find there other information about your order and for example, reorder all, or individual items if necessary.<br>Service Were you satisfied with our software/webshop? We are always happy to hear  your customer opinion. Every customer opinion helps us to improve further and to fulfill our customer’s wishes. We look forward to seeing you again in the future and hope that you enjoy your order.  Note:  We use your e-mail address to inform you by e-mail about our own products and services. You can object to the use of your e-mail address at any time. If you do not wish to receive further advertising, click on the link  delete profile at the end of each e-mail notification.  Best regards Your Saal Digital Team<br>    |<br>Saal Digital Corporation<br>8000 Towers Crescent Drive FL 13 Vienna, VA 22182<br>    |<br>Terms and Conditions<br><br>1. Contract A contract between Saal Digital Corporation (Saal-Digital) and the customer for the manufacture of photographic products is concluded if Saal-Digital receives the order via the Design Software, Webshop or App and accepts the contract within 5 days by sending an order confirmation. In addition, a shipping confirmation will be sent. The place of jurisdiction is the seller’s registered office. The information in our  privacy protection policy applies.<br>2. Prices, Terms of payment The fee to be paid by the customer to Saal-Digital for the development and production of images shall be determined by the prices of Saal-Digital applicable at the time the contract is concluded. Any charges to be paid by the customer shall be understood to include the statutory value-added tax applicable at the time.<br>3. Delivery and place of performance Saal-Digital delivers the photo products to the delivery address stated in the order. Shipping costs are charged for the delivery. The amount of the shipping costs will be communicated to the customer when placing the order. If taxes or customs duties are incurred during shipment, these will be borne by the customer. Saal-Digital is entitled to make partial deliveries. Place of performance is the registered office of Saal-Digital.<br>4. Payment The photo products remain the property of Saal-Digital until full payment has been received. Payment shall be made exclusively cashless, in the method of payment specified by the customer when placing the order. Invoices are sent exclusively as PDF documents by e-mail.<br>5. Vouchers Unless otherwise stated in the voucher conditions, the following always applies to all vouchers: Vouchers cannot be combined with other promotions or vouchers. Vouchers are not applicable to shipping costs and can only be redeemed once per household. Vouchers cannot be used to purchase gift vouchers.<br>6. Gift vouchers This voucher cannot be split between several orders. The minimum order value is therefore the voucher value. The shipping costs are excluded. You can redeem the voucher in the Saal Design Software, our webshop or our app. For technical reasons, only one voucher can be redeemed per order.<br>7. Cancellation and return policy The cancellation policy does not exist for distance contracts for the delivery of goods which are made according to customer specifications or are clearly tailored to personal needs.<br>8. Liability Saal-Digital is liable for damages in the event of a breach of essential contractual obligations, the absence of warranted characteristics and the customer’s claims under the Product Liability Act. Furthermore, Saal-Digital shall only be liable for damages in cases of intent or gross negligence on the part of Saal-Digital and its vicarious agents. Saal-Digital is not liable for indirect, consequential or atypical damages of any kind. This also applies to the compensation of lost profit, lost possibility of use or intangible values.<br>9. Complaints/dispute resolution We prefer to clarify your concerns directly with you and therefore do not participate in consumer arbitration procedures. Furthermore, we are not obliged to participate in a dispute settlement procedure before a consumer arbitration body. Please contact us directly if you have any questions or problems. You can contact us by filling out the forms here: https://www.saal-digital.com/support/<br>Status: March 2019\n",
      "Label: Shipping issues\n"
     ]
    }
   ],
   "source": [
    "print_plot(30)"
   ]
  },
  {
   "cell_type": "code",
   "execution_count": 9,
   "metadata": {},
   "outputs": [
    {
     "name": "stdout",
     "output_type": "stream",
     "text": [
      "<br>Witam, w przesyłce brakuje puzzli.<br><br><br>There's no puzzle in the parcel.<br><br><br>Pozdrawiam,<br><br>Barbara Fuchs<br><br>pt., 29 maj 2020, 16:30 użytkownik <mailto:support@saal-digital.pl> napisał:<br><br>    |    http://www.saal-digital.pl/<br>    |<br>Szanowna Pani Fuchs,  W załączniku otrzymają Państwo fakturę.<br>Obsługa klienta Są Państwo zadowoleni z naszego oprogramowania / naszego sklepu internetowego? Będziemy wdzięczni za  Państwa opinię. Każda opinia pomaga nam w dalszym doskonaleniu i realizowaniu życzeń klientów. Będziemy wdzięczni, jeśli zdecydują się Państwo w przyszłości na Saal Digital. Tymczasem życzymy pozytywnych wrażeń z Państwa zamówieniem.  Wskazówka:  Państwa adresu e-mail użyjemy przy opracowywaniu zamówienia oraz po to, aby poinformować Państwo e-mailem o naszych towarach i usługach. W każdej chwili mogą Państwo sprzeciwić się użyciu swojego adresu e-mail. Jeśli nie życzą sobie Państwo otrzymywać dalszych reklam, proszę kliknąć na link  Usuń profil na końcu każdego powiadomienia e-mail.  Pozdrawiamy Team Saal Digital<br>    |<br>Saal Digital Fotoservice GmbH<br>Zeppelinstr. 36 91187 Röttenbach Kierownictwo: Reinhard Saal, Robin Saal, Tim Saal, Florian Stellwag  NIP: DE 250012471 Sąd Rejonowy w Siegen Nr. 9924  Dane konta bankowego: Sparkasse Siegen IBAN: DE66 4605 0001 0000 0681 71 BIC: WELADED1SIE\n",
      "Label: Order management\n"
     ]
    }
   ],
   "source": [
    "print_plot(28)"
   ]
  },
  {
   "cell_type": "code",
   "execution_count": 10,
   "metadata": {},
   "outputs": [
    {
     "name": "stdout",
     "output_type": "stream",
     "text": [
      "Amazing website, company and product! As a professional photographer through 5 years, I can vouch for Saal Digital and their high quality service\n",
      "Label: Customer feedback\n"
     ]
    }
   ],
   "source": [
    "print_plot(10)"
   ]
  },
  {
   "cell_type": "code",
   "execution_count": 11,
   "metadata": {},
   "outputs": [
    {
     "name": "stdout",
     "output_type": "stream",
     "text": [
      "<b>Merged from ticket PLSD200006295</b><br><br>Witam,<br> <br>Złożyłem zamówienie na foto książkę 29.05.2020 , płatność została zrealizowana ,<br> <br>Komunikat potwierdzający złożenie zamówienia został potwierdzony informacją – płatność za zamówienie 502005290818113 zakończona powodzeniem – szczegóły poniżej , natomiast nie dostałem informacji kiedy zamówienie zostanie zrealizowane.<br> <br>Bardzo proszę o informację kiedy foto książka zostanie dostarczona ?<br> <br>Z uszanowaniem<br>Jakub Mołdawa<br><br><br><br>    |   http://www.avg.com/email-signature?utm_medium=email&utm_source=link&utm_campaign=sig-email&utm_content=emailclient    |    Wolny od wirusów.  www.avg.com     #DAB4FAD8-2DD7-40BB-A1B8-4E2AA1F9FDF2\n",
      "Label: Order management\n"
     ]
    }
   ],
   "source": [
    "print_plot(120)"
   ]
  },
  {
   "cell_type": "code",
   "execution_count": 12,
   "metadata": {},
   "outputs": [
    {
     "name": "stdout",
     "output_type": "stream",
     "text": [
      "<br>  <br> From:  Eva Herčková <evaherec11@gmail.com>  Sent: Mittwoch, 3. Juni 2020 11:23 To: Florian Stellwag <florian.stellwag@saal-digital.de> Subject: Re: Důležité informace pro distributory<br> <br><br>Dobrý den, bohužel mi odkaz nefunguje. Měla bych zájem, právě teď mám zakázku na knihu Professional. Sleva pro distributory mi skončila v roce 2019, nyní vždy čerpám když máte jakékoliv akce. Tato sleva nelze již prodloužit?<br><br>Děkuji<br><br>Eva Herčková<br> <br><br><br>st 3. 6. 2020 v 10:05 odesílatel Florian Stellwag <mailto:florian.stellwag@saal-digital.de> napsal:<br><br>    |<br>http://www.saal-digital.cz/<br> <br>    |<br>    |<br><br>Vážená paní Hercková,<br>  <br>    |<br><br>v časech jako jsou tyto bychom měli držet spolu, proto Vám prodloužíme<br>Vaši slevu pro distributory do 31.01.2021, bez ohledu na prodej v roce 2020.<br>  <br>    |<br><br>Tímto způsobem Vám chceme nabídnout veškerou naši podporu a co nejjednodušší návrat k fotografické činnosti. Chcete-li využít slevy, zadejte kód kupónu v každé objednávce jako obvykle.<br>  <br>    |<br><br>Máte zájem o platformu vyvinutou společností Saal Digital pro prodej Vašich fotografií? <br>  <br>    |<br><br>Řekněte nám, co je pro Vás na takové platformě obzvláště důležité. Pro Vaši zpětnou vazbu vám poskytneme následující formulář: https://www.saal-digital.cz/support/platform-interest/<br>  <br>    |<br><br>Kromě toho:  Seznamte se s naší novou řadou Professional line s kupónem v hodnotě 3000 Kč.<br>  <br>    |<br><br>Naše fotoknihy Professional line s elegantním akrylátovým obalem slouží jako skvělá prezentace Vašich fotografií, například jako portfolio.<br>  <br>    |<br><br>Prostřednictvím kupónu v hodnotě 3000 Kč Vám chceme dát příležitost objevit naše fotoknihy Professional line. Toto ukázkové portfolio představí fotografickou tvorbu Vašim zákazníkům jedinečným způsobem.<br>  <br>    |<br><br>O kupón můžete snadno požádat prostřednictvím následujícího odkazu.<br>  <br>    |<br><br>https://www.saal-digital..cz/support/samplebook-professional-line/<br>  <br>    |<br><br>Těšíme se na Vaši zpětnou vazbu!<br>  <br>    |<br><br>S pozdravem Florian Stellwag<br>  <br>    |<br> Saal Digital Fotoservice GmbH<br>Zeppelinstraße 36 91187 Röttenbach Vedení společnosti: Reinhard Saal, Robin Saal, Tim Saal, Florian Stellwag  DIČ: DE 250012471 Obvodní soud Siegen HRB-Nr. 9924<br>    |<br> Podpora      |<br> Správa objednávky      |<br> Dodací termíny      |<br> Sociální sítě<br>  <br>    |<br> Tento email jste obdrželi, protože jste u nás provedli objednávku nebo jste se přihlásili k odběru novinek. Proti používání Vaší e-mailové adresy k reklamním účelům můžete kdykoliv podat námitku. Pokud si již nepřejete obdržet žádnou další reklamu, klikněte na  Upravit profil.<br>\n",
      "Label: Order management\n"
     ]
    }
   ],
   "source": [
    "print_plot(24)"
   ]
  },
  {
   "cell_type": "code",
   "execution_count": 13,
   "metadata": {},
   "outputs": [
    {
     "data": {
      "text/plain": [
       "\"<br>Hello,<br><br>I wanted to see if I could change my delivery address for order\\xa0512005290316262.<br><br>I'd like to change it to:<br>200 Robert Rd Dedham MA 02026 United States<br><br>Thanks!\\xa0<br><br>On Thu, May 28, 2020 at 9:22 PM <mailto:support@saal-digital.com> wrote:<br><br>    |     http://www.saal-digital.com/<br>    |<br>Dear Mr. Peters,  thank you for your order. We are very pleased that you have chosen  www.saal-digital.com.<br>Your order number:  https://www.saal-digital.com/ordercockpit/?email=mikemppeters%40gmail.com&ordernumber=512005290316262<br>    |   Your order<br>    |   Article    |   Quantity    |   Total price<br>    |   8\\xa0x\\xa08 Photobook Professional Line, Spreads: matte photo paper, 32 pages     |    1    |    $ 43,29<br>    |   Premium gift box black     |    1    |    $ 60,00<br>    |   Cover: Leather\\xa0/\\xa0Linen, Cover surface: leather black, Barcode: without barcode     |    1    |    $ 52,50<br>    |   Shipping costs:    |   $ 4,95<br>    |   Voucher    |   -\\xa0$ 150,00<br>    |   Total:    |   $ 10,74     Selected method of payment: Already paid via paypal Estimated delivery date: 6/9/2020<br>    |   Delivery address Michael Peters 10 Clary St Apt 2 02139 Cambridge USA    |   \\xa0\\xa0\\xa0    |   Billing address Michael Peters 10 Clary St Apt 2 02139 Cambridge USA<br>Your order status In our order management tool, you can find your order current shipping status.  You can always see exactly where your order currently is and you can track it in real time. You can also find there other information about your order and for example, reorder all, or individual items if necessary.<br>Service Were you satisfied with our software/webshop? We are always happy to hear  your customer opinion. Every customer opinion helps us to improve further and to fulfill our customer’s wishes. We look forward to seeing you again in the future and hope that you enjoy your order.  Note:  We use your e-mail address to inform you by e-mail about our own products and services. You can object to the use of your e-mail address at any time. If you do not wish to receive further advertising, click on the link  delete profile at the end of each e-mail notification.  Best regards Your Saal Digital Team<br>    |<br>Saal Digital Corporation<br>8000 Towers Crescent Drive FL 13 Vienna, VA 22182<br>    |<br>Terms and Conditions<br><br>1. Contract A contract between Saal Digital Corporation (Saal-Digital) and the customer for the manufacture of photographic products is concluded if Saal-Digital receives the order via the Design Software, Webshop or App and accepts the contract within 5 days by sending an order confirmation. In addition, a shipping confirmation will be sent. The place of jurisdiction is the seller’s registered office. The information in our  privacy protection policy applies.<br>2. Prices, Terms of payment The fee to be paid by the customer to Saal-Digital for the development and production of images shall be determined by the prices of Saal-Digital applicable at the time the contract is concluded. Any charges to be paid by the customer shall be understood to include the statutory value-added tax applicable at the time.<br>3. Delivery and place of performance Saal-Digital delivers the photo products to the delivery address stated in the order. Shipping costs are charged for the delivery. The amount of the shipping costs will be communicated to the customer when placing the order. If taxes or customs duties are incurred during shipment, these will be borne by the customer. Saal-Digital is entitled to make partial deliveries. Place of performance is the registered office of Saal-Digital.<br>4. Payment The photo products remain the property of Saal-Digital until full payment has been received. Payment shall be made exclusively cashless, in the method of payment specified by the customer when placing the order. Invoices are sent exclusively as PDF documents by e-mail.<br>5. Vouchers Unless otherwise stated in the voucher conditions, the following always applies to all vouchers: Vouchers cannot be combined with other promotions or vouchers. Vouchers are not applicable to shipping costs and can only be redeemed once per household. Vouchers cannot be used to purchase gift vouchers.<br>6. Gift vouchers This voucher cannot be split between several orders. The minimum order value is therefore the voucher value. The shipping costs are excluded. You can redeem the voucher in the Saal Design Software, our webshop or our app. For technical reasons, only one voucher can be redeemed per order.<br>7. Cancellation and return policy The cancellation policy does not exist for distance contracts for the delivery of goods which are made according to customer specifications or are clearly tailored to personal needs.<br>8. Liability Saal-Digital is liable for damages in the event of a breach of essential contractual obligations, the absence of warranted characteristics and the customer’s claims under the Product Liability Act. Furthermore, Saal-Digital shall only be liable for damages in cases of intent or gross negligence on the part of Saal-Digital and its vicarious agents. Saal-Digital is not liable for indirect, consequential or atypical damages of any kind. This also applies to the compensation of lost profit, lost possibility of use or intangible values.<br>9. Complaints/dispute resolution We prefer to clarify your concerns directly with you and therefore do not participate in consumer arbitration procedures. Furthermore, we are not obliged to participate in a dispute settlement procedure before a consumer arbitration body. Please contact us directly if you have any questions or problems. You can contact us by filling out the forms here: https://www.saal-digital.com/support/<br>Status: March 2019\""
      ]
     },
     "execution_count": 13,
     "metadata": {},
     "output_type": "execute_result"
    }
   ],
   "source": [
    "text_remove=data.firstmessage[30]\n",
    "text_remove"
   ]
  },
  {
   "cell_type": "code",
   "execution_count": 14,
   "metadata": {},
   "outputs": [
    {
     "data": {
      "text/plain": [
       "str"
      ]
     },
     "execution_count": 14,
     "metadata": {},
     "output_type": "execute_result"
    }
   ],
   "source": [
    "type(text_remove)"
   ]
  },
  {
   "cell_type": "code",
   "execution_count": 15,
   "metadata": {},
   "outputs": [
    {
     "data": {
      "text/plain": [
       "\"<br>Hello,<br><br>I wanted to see if I could change my delivery address for order\\xa0512005290316262.<br><br>I'd like to change it to:<br>200 Robert Rd Dedham MA 02026 United States<br><br>Thanks!\\xa0<br><br>On Thu, May 28, 2020 at 9:22 PM <mailto:\""
      ]
     },
     "execution_count": 15,
     "metadata": {},
     "output_type": "execute_result"
    }
   ],
   "source": [
    "text_remove.split(\"support@saal-digital.com\",maxsplit=1)[0]"
   ]
  },
  {
   "cell_type": "code",
   "execution_count": 16,
   "metadata": {},
   "outputs": [
    {
     "data": {
      "text/html": [
       "<div>\n",
       "<style scoped>\n",
       "    .dataframe tbody tr th:only-of-type {\n",
       "        vertical-align: middle;\n",
       "    }\n",
       "\n",
       "    .dataframe tbody tr th {\n",
       "        vertical-align: top;\n",
       "    }\n",
       "\n",
       "    .dataframe thead th {\n",
       "        text-align: right;\n",
       "    }\n",
       "</style>\n",
       "<table border=\"1\" class=\"dataframe\">\n",
       "  <thead>\n",
       "    <tr style=\"text-align: right;\">\n",
       "      <th></th>\n",
       "      <th>firstmessage</th>\n",
       "      <th>dep</th>\n",
       "      <th>clean</th>\n",
       "      <th>clean2</th>\n",
       "    </tr>\n",
       "  </thead>\n",
       "  <tbody>\n",
       "    <tr>\n",
       "      <th>0</th>\n",
       "      <td>Hello:&lt;br&gt;&lt;br&gt;I tried to apply a voucher to th...</td>\n",
       "      <td>Shipping issues</td>\n",
       "      <td>Hello br br I tried to apply a voucher to this...</td>\n",
       "      <td>hello: tried apply voucher order received mail...</td>\n",
       "    </tr>\n",
       "    <tr>\n",
       "      <th>1</th>\n",
       "      <td>&lt;br&gt;Hi,&lt;br&gt;&lt;br&gt;Do you have a tracking number p...</td>\n",
       "      <td>Shipping issues</td>\n",
       "      <td>br Hi br br Do you have a tracking number plea...</td>\n",
       "      <td>hi, tracking number please? thank you. kind re...</td>\n",
       "    </tr>\n",
       "    <tr>\n",
       "      <th>2</th>\n",
       "      <td>&lt;p&gt;Hi,&lt;br /&gt;&lt;br /&gt;I&amp;rsquo;ve received my order...</td>\n",
       "      <td>product complaints - products (Reklamation Pro...</td>\n",
       "      <td>p Hi br br I rsquo ve received my order but on...</td>\n",
       "      <td>hi, i&amp;rsquo;ve received order one poster bad s...</td>\n",
       "    </tr>\n",
       "    <tr>\n",
       "      <th>3</th>\n",
       "      <td>I was asked to test a saal photobook and I was...</td>\n",
       "      <td>ShareWithSaal</td>\n",
       "      <td>I wa asked to test a saal photobook and I wa s...</td>\n",
       "      <td>asked test saal photobook delighted result! ar...</td>\n",
       "    </tr>\n",
       "    <tr>\n",
       "      <th>4</th>\n",
       "      <td>&lt;p&gt;&lt;br /&gt;Ainda n&amp;atilde;o recebi a encomenda e...</td>\n",
       "      <td>Order management</td>\n",
       "      <td>p br Ainda n atilde o recebi a encomenda e est...</td>\n",
       "      <td>ainda n&amp;atilde;o recebi encomenda e estive sem...</td>\n",
       "    </tr>\n",
       "  </tbody>\n",
       "</table>\n",
       "</div>"
      ],
      "text/plain": [
       "                                        firstmessage  \\\n",
       "0  Hello:<br><br>I tried to apply a voucher to th...   \n",
       "1  <br>Hi,<br><br>Do you have a tracking number p...   \n",
       "2  <p>Hi,<br /><br />I&rsquo;ve received my order...   \n",
       "3  I was asked to test a saal photobook and I was...   \n",
       "4  <p><br />Ainda n&atilde;o recebi a encomenda e...   \n",
       "\n",
       "                                                 dep  \\\n",
       "0                                    Shipping issues   \n",
       "1                                    Shipping issues   \n",
       "2  product complaints - products (Reklamation Pro...   \n",
       "3                                      ShareWithSaal   \n",
       "4                                   Order management   \n",
       "\n",
       "                                               clean  \\\n",
       "0  Hello br br I tried to apply a voucher to this...   \n",
       "1  br Hi br br Do you have a tracking number plea...   \n",
       "2  p Hi br br I rsquo ve received my order but on...   \n",
       "3  I wa asked to test a saal photobook and I wa s...   \n",
       "4  p br Ainda n atilde o recebi a encomenda e est...   \n",
       "\n",
       "                                              clean2  \n",
       "0  hello: tried apply voucher order received mail...  \n",
       "1  hi, tracking number please? thank you. kind re...  \n",
       "2  hi, i&rsquo;ve received order one poster bad s...  \n",
       "3  asked test saal photobook delighted result! ar...  \n",
       "4  ainda n&atilde;o recebi encomenda e estive sem...  "
      ]
     },
     "execution_count": 16,
     "metadata": {},
     "output_type": "execute_result"
    }
   ],
   "source": [
    "data.head()"
   ]
  },
  {
   "cell_type": "code",
   "execution_count": 19,
   "metadata": {},
   "outputs": [],
   "source": [
    "#df['text_new'] = df['text'].str.split('::').str[0]"
   ]
  },
  {
   "cell_type": "code",
   "execution_count": 20,
   "metadata": {},
   "outputs": [],
   "source": [
    "data['trim']=data['firstmessage'].str.split(\"support@saal-digital.com\").str[0]"
   ]
  },
  {
   "cell_type": "code",
   "execution_count": 21,
   "metadata": {},
   "outputs": [
    {
     "data": {
      "text/plain": [
       "\"Hello:<br><br>I tried to apply a voucher to this order that I received in the mail but it didn't appear on the order total:<br><br> Your\\xa0$40 \\xa0voucher from $129.99:\\xa0 RFK93R3AnF-PVG\\xa0<br><br>Can you please apply this to my order?<br><br>Thank you,<br>Colin\\xa0<br><br>On Sat, Jun 6, 2020 at 2:49 PM <mailto:\""
      ]
     },
     "execution_count": 21,
     "metadata": {},
     "output_type": "execute_result"
    }
   ],
   "source": [
    "data.trim[0]"
   ]
  },
  {
   "cell_type": "code",
   "execution_count": 22,
   "metadata": {},
   "outputs": [
    {
     "data": {
      "text/plain": [
       "\"Hello:<br><br>I tried to apply a voucher to this order that I received in the mail but it didn't appear on the order total:<br><br> Your\\xa0$40 \\xa0voucher from $129.99:\\xa0 RFK93R3AnF-PVG\\xa0<br><br>Can you please apply this to my order?<br><br>Thank you,<br>Colin\\xa0<br><br>On Sat, Jun 6, 2020 at 2:49 PM <mailto:support@saal-digital.com> wrote:<br><br>    |     http://www.saal-digital.com/<br>    |<br>Dear Mr. Shreffler,  thank you for your order. We are very pleased that you have chosen  www.saal-digital.com.<br>Your order number:  https://www.saal-digital.com/ordercockpit/?email=c%40colinshreffler.com&ordernumber=802006062223358<br>    |   Your order<br>    |   Article    |   Quantity    |   Total price<br>    |   Metal Print 19.7\\xa0x\\xa029.5, Metal Print, aluminium subframe     |    1    |    $ 85,39<br>    |   Metal Print 19.7\\xa0x\\xa029.5, Metal Print, aluminium subframe     |    1    |    $ 85,39<br>    |   Metal Print 11.8\\xa0x\\xa017.7, Metal Print, aluminium subframe     |    1    |    $ 44,09<br>    |   Metal Print 11.8\\xa0x\\xa017.7, Metal Print, aluminium subframe     |    1    |    $ 44,09<br>    |   Metal Print 11.8\\xa0x\\xa017.7, Metal Print, aluminium subframe     |    1    |    $ 44,09<br>    |   Metal Print 15.7\\xa0x\\xa019.7, Metal Print, aluminium subframe     |    1    |    $ 53,54<br>    |   Metal Print 11.8\\xa0x\\xa017.7, Metal Print, aluminium subframe     |    1    |    $ 44,09<br>    |   Metal Print 11.8\\xa0x\\xa017.7, Metal Print, aluminium subframe     |    1    |    $ 44,09<br>    |   Metal Print 11.8\\xa0x\\xa017.7, Metal Print, aluminium subframe     |    1    |    $ 44,09<br>    |   Shipping costs:    |   $ 15,00<br>    |   Voucher    |   -\\xa0$ 0,00<br>    |   Total:    |   $ 503,86     Selected method of payment: Already paid via paypal Estimated delivery date: 6/16/2020<br>    |   Delivery address Colin Shreffler Photography Colin Shreffler 6791 Halifax Avenue  80104 Castle Rock USA    |   \\xa0\\xa0\\xa0    |   Billing address Colin Shreffler Photography Colin Shreffler 6791 Halifax Avenue  80104 Castle Rock USA<br>Your order status In our order management tool, you can find your order current shipping status.  You can always see exactly where your order currently is and you can track it in real time. You can also find there other information about your order and for example, reorder all, or individual items if necessary.<br>Service Were you satisfied with our software/webshop? We are always happy to hear  your customer opinion. Every customer opinion helps us to improve further and to fulfill our customer’s wishes. We look forward to seeing you again in the future and hope that you enjoy your order.  Note:  We use your e-mail address to inform you by e-mail about our own products and services. You can object to the use of your e-mail address at any time. If you do not wish to receive further advertising, click on the link  delete profile at the end of each e-mail notification.  Best regards Your Saal Digital Team<br>    |<br>Saal Digital Corporation<br>8000 Towers Crescent Drive FL 13 Vienna, VA 22182<br>    |<br>Terms and Conditions<br><br>1. Contract A contract between Saal Digital Corporation (Saal-Digital) and the customer for the manufacture of photographic products is concluded if Saal-Digital receives the order via the Design Software, Webshop or App and accepts the contract within 5 days by sending an order confirmation. In addition, a shipping confirmation will be sent. The place of jurisdiction is the seller’s registered office. The information in our  privacy protection policy applies.<br>2. Prices, Terms of payment The fee to be paid by the customer to Saal-Digital for the development and production of images shall be determined by the prices of Saal-Digital applicable at the time the contract is concluded. Any charges to be paid by the customer shall be understood to include the statutory value-added tax applicable at the time.<br>3. Delivery and place of performance Saal-Digital delivers the photo products to the delivery address stated in the order. Shipping costs are charged for the delivery. The amount of the shipping costs will be communicated to the customer when placing the order. If taxes or customs duties are incurred during shipment, these will be borne by the customer. Saal-Digital is entitled to make partial deliveries. Place of performance is the registered office of Saal-Digital.<br>4. Payment The photo products remain the property of Saal-Digital until full payment has been received. Payment shall be made exclusively cashless, in the method of payment specified by the customer when placing the order. Invoices are sent exclusively as PDF documents by e-mail.<br>5. Vouchers Unless otherwise stated in the voucher conditions, the following always applies to all vouchers: Vouchers cannot be combined with other promotions or vouchers. Vouchers are not applicable to shipping costs and can only be redeemed once per household. Vouchers cannot be used to purchase gift vouchers.<br>6. Gift vouchers This voucher cannot be split between several orders. The minimum order value is therefore the voucher value. The shipping costs are excluded. You can redeem the voucher in the Saal Design Software, our webshop or our app. For technical reasons, only one voucher can be redeemed per order.<br>7. Cancellation and return policy The cancellation policy does not exist for distance contracts for the delivery of goods which are made according to customer specifications or are clearly tailored to personal needs.<br>8. Liability Saal-Digital is liable for damages in the event of a breach of essential contractual obligations, the absence of warranted characteristics and the customer’s claims under the Product Liability Act. Furthermore, Saal-Digital shall only be liable for damages in cases of intent or gross negligence on the part of Saal-Digital and its vicarious agents. Saal-Digital is not liable for indirect, consequential or atypical damages of any kind. This also applies to the compensation of lost profit, lost possibility of use or intangible values.<br>9. Complaints/dispute resolution We prefer to clarify your concerns directly with you and therefore do not participate in consumer arbitration procedures. Furthermore, we are not obliged to participate in a dispute settlement procedure before a consumer arbitration body. Please contact us directly if you have any questions or problems. You can contact us by filling out the forms here: https://www.saal-digital.com/support/<br>Status: March 2019\""
      ]
     },
     "execution_count": 22,
     "metadata": {},
     "output_type": "execute_result"
    }
   ],
   "source": [
    "data.firstmessage[0]"
   ]
  },
  {
   "cell_type": "code",
   "execution_count": 23,
   "metadata": {},
   "outputs": [
    {
     "data": {
      "text/plain": [
       "\"<br>Hello,<br><br>I wanted to see if I could change my delivery address for order\\xa0512005290316262.<br><br>I'd like to change it to:<br>200 Robert Rd Dedham MA 02026 United States<br><br>Thanks!\\xa0<br><br>On Thu, May 28, 2020 at 9:22 PM <mailto:\""
      ]
     },
     "execution_count": 23,
     "metadata": {},
     "output_type": "execute_result"
    }
   ],
   "source": [
    "data.trim[30]"
   ]
  },
  {
   "cell_type": "code",
   "execution_count": 24,
   "metadata": {},
   "outputs": [
    {
     "data": {
      "text/plain": [
       "\"<br>Hello,<br><br>I wanted to see if I could change my delivery address for order\\xa0512005290316262.<br><br>I'd like to change it to:<br>200 Robert Rd Dedham MA 02026 United States<br><br>Thanks!\\xa0<br><br>On Thu, May 28, 2020 at 9:22 PM <mailto:support@saal-digital.com> wrote:<br><br>    |     http://www.saal-digital.com/<br>    |<br>Dear Mr. Peters,  thank you for your order. We are very pleased that you have chosen  www.saal-digital.com.<br>Your order number:  https://www.saal-digital.com/ordercockpit/?email=mikemppeters%40gmail.com&ordernumber=512005290316262<br>    |   Your order<br>    |   Article    |   Quantity    |   Total price<br>    |   8\\xa0x\\xa08 Photobook Professional Line, Spreads: matte photo paper, 32 pages     |    1    |    $ 43,29<br>    |   Premium gift box black     |    1    |    $ 60,00<br>    |   Cover: Leather\\xa0/\\xa0Linen, Cover surface: leather black, Barcode: without barcode     |    1    |    $ 52,50<br>    |   Shipping costs:    |   $ 4,95<br>    |   Voucher    |   -\\xa0$ 150,00<br>    |   Total:    |   $ 10,74     Selected method of payment: Already paid via paypal Estimated delivery date: 6/9/2020<br>    |   Delivery address Michael Peters 10 Clary St Apt 2 02139 Cambridge USA    |   \\xa0\\xa0\\xa0    |   Billing address Michael Peters 10 Clary St Apt 2 02139 Cambridge USA<br>Your order status In our order management tool, you can find your order current shipping status.  You can always see exactly where your order currently is and you can track it in real time. You can also find there other information about your order and for example, reorder all, or individual items if necessary.<br>Service Were you satisfied with our software/webshop? We are always happy to hear  your customer opinion. Every customer opinion helps us to improve further and to fulfill our customer’s wishes. We look forward to seeing you again in the future and hope that you enjoy your order.  Note:  We use your e-mail address to inform you by e-mail about our own products and services. You can object to the use of your e-mail address at any time. If you do not wish to receive further advertising, click on the link  delete profile at the end of each e-mail notification.  Best regards Your Saal Digital Team<br>    |<br>Saal Digital Corporation<br>8000 Towers Crescent Drive FL 13 Vienna, VA 22182<br>    |<br>Terms and Conditions<br><br>1. Contract A contract between Saal Digital Corporation (Saal-Digital) and the customer for the manufacture of photographic products is concluded if Saal-Digital receives the order via the Design Software, Webshop or App and accepts the contract within 5 days by sending an order confirmation. In addition, a shipping confirmation will be sent. The place of jurisdiction is the seller’s registered office. The information in our  privacy protection policy applies.<br>2. Prices, Terms of payment The fee to be paid by the customer to Saal-Digital for the development and production of images shall be determined by the prices of Saal-Digital applicable at the time the contract is concluded. Any charges to be paid by the customer shall be understood to include the statutory value-added tax applicable at the time.<br>3. Delivery and place of performance Saal-Digital delivers the photo products to the delivery address stated in the order. Shipping costs are charged for the delivery. The amount of the shipping costs will be communicated to the customer when placing the order. If taxes or customs duties are incurred during shipment, these will be borne by the customer. Saal-Digital is entitled to make partial deliveries. Place of performance is the registered office of Saal-Digital.<br>4. Payment The photo products remain the property of Saal-Digital until full payment has been received. Payment shall be made exclusively cashless, in the method of payment specified by the customer when placing the order. Invoices are sent exclusively as PDF documents by e-mail.<br>5. Vouchers Unless otherwise stated in the voucher conditions, the following always applies to all vouchers: Vouchers cannot be combined with other promotions or vouchers. Vouchers are not applicable to shipping costs and can only be redeemed once per household. Vouchers cannot be used to purchase gift vouchers.<br>6. Gift vouchers This voucher cannot be split between several orders. The minimum order value is therefore the voucher value. The shipping costs are excluded. You can redeem the voucher in the Saal Design Software, our webshop or our app. For technical reasons, only one voucher can be redeemed per order.<br>7. Cancellation and return policy The cancellation policy does not exist for distance contracts for the delivery of goods which are made according to customer specifications or are clearly tailored to personal needs.<br>8. Liability Saal-Digital is liable for damages in the event of a breach of essential contractual obligations, the absence of warranted characteristics and the customer’s claims under the Product Liability Act. Furthermore, Saal-Digital shall only be liable for damages in cases of intent or gross negligence on the part of Saal-Digital and its vicarious agents. Saal-Digital is not liable for indirect, consequential or atypical damages of any kind. This also applies to the compensation of lost profit, lost possibility of use or intangible values.<br>9. Complaints/dispute resolution We prefer to clarify your concerns directly with you and therefore do not participate in consumer arbitration procedures. Furthermore, we are not obliged to participate in a dispute settlement procedure before a consumer arbitration body. Please contact us directly if you have any questions or problems. You can contact us by filling out the forms here: https://www.saal-digital.com/support/<br>Status: March 2019\""
      ]
     },
     "execution_count": 24,
     "metadata": {},
     "output_type": "execute_result"
    }
   ],
   "source": [
    "data.firstmessage[30]"
   ]
  },
  {
   "cell_type": "code",
   "execution_count": 25,
   "metadata": {},
   "outputs": [
    {
     "data": {
      "text/plain": [
       "'<br> \\xa0<br> From:  Eva Herčková <evaherec11@gmail.com>  Sent: Mittwoch, 3. Juni 2020 11:23 To: Florian Stellwag <florian.stellwag@saal-digital.de> Subject: Re: Důležité informace pro distributory<br>\\xa0<br><br>Dobrý den, bohužel mi odkaz nefunguje. Měla bych zájem, právě teď mám zakázku na knihu Professional. Sleva pro distributory mi skončila v roce 2019, nyní vždy čerpám když máte jakékoliv akce. Tato sleva nelze již prodloužit?<br><br>Děkuji<br><br>Eva Herčková<br>\\xa0<br><br><br>st 3. 6. 2020 v\\xa010:05 odesílatel Florian Stellwag <mailto:florian.stellwag@saal-digital.de> napsal:<br><br>    |<br>http://www.saal-digital.cz/<br>\\xa0<br>    |<br>    |<br><br>Vážená paní Hercková,<br> \\xa0<br>    |<br><br>v časech jako jsou tyto bychom měli držet spolu, proto Vám prodloužíme<br>Vaši slevu pro distributory do 31.01.2021, bez ohledu na prodej v roce 2020.<br> \\xa0<br>    |<br><br>Tímto způsobem Vám chceme nabídnout veškerou naši podporu a co nejjednodušší návrat k fotografické činnosti. Chcete-li využít slevy, zadejte kód kupónu v každé objednávce jako obvykle.<br> \\xa0<br>    |<br><br>Máte zájem o platformu vyvinutou společností Saal Digital pro prodej Vašich fotografií? <br> \\xa0<br>    |<br><br>Řekněte nám, co je pro Vás na takové platformě obzvláště důležité. Pro Vaši zpětnou vazbu vám poskytneme následující formulář: https://www.saal-digital.cz/support/platform-interest/<br> \\xa0<br>    |<br><br>Kromě toho:  Seznamte se s naší novou řadou Professional line s kupónem v hodnotě 3000 Kč.<br> \\xa0<br>    |<br><br>Naše fotoknihy Professional line s elegantním akrylátovým obalem slouží jako skvělá prezentace Vašich fotografií, například jako portfolio.<br> \\xa0<br>    |<br><br>Prostřednictvím kupónu v hodnotě 3000 Kč Vám chceme dát příležitost objevit naše fotoknihy Professional line. Toto ukázkové portfolio představí fotografickou tvorbu Vašim zákazníkům jedinečným způsobem.<br> \\xa0<br>    |<br><br>O kupón můžete snadno požádat prostřednictvím následujícího odkazu.<br> \\xa0<br>    |<br><br>https://www.saal-digital..cz/support/samplebook-professional-line/<br> \\xa0<br>    |<br><br>Těšíme se na Vaši zpětnou vazbu!<br> \\xa0<br>    |<br><br>S pozdravem Florian Stellwag<br> \\xa0<br>    |<br> Saal Digital Fotoservice GmbH<br>Zeppelinstraße 36 91187 Röttenbach Vedení společnosti: Reinhard Saal, Robin Saal, Tim Saal, Florian Stellwag  DIČ: DE 250012471 Obvodní soud Siegen HRB-Nr. 9924<br>    |<br> Podpora      |<br> Správa objednávky      |<br> Dodací termíny      |<br> Sociální sítě<br> \\xa0<br>    |<br> Tento email jste obdrželi, protože jste u nás provedli objednávku nebo jste se přihlásili k odběru novinek. Proti používání Vaší e-mailové adresy k reklamním účelům můžete kdykoliv podat námitku. Pokud si již nepřejete obdržet žádnou další reklamu, klikněte na  Upravit profil.<br>'"
      ]
     },
     "execution_count": 25,
     "metadata": {},
     "output_type": "execute_result"
    }
   ],
   "source": [
    "data.trim[24]"
   ]
  },
  {
   "cell_type": "code",
   "execution_count": 26,
   "metadata": {},
   "outputs": [
    {
     "data": {
      "text/plain": [
       "'<br> \\xa0<br> From:  Eva Herčková <evaherec11@gmail.com>  Sent: Mittwoch, 3. Juni 2020 11:23 To: Florian Stellwag <florian.stellwag@saal-digital.de> Subject: Re: Důležité informace pro distributory<br>\\xa0<br><br>Dobrý den, bohužel mi odkaz nefunguje. Měla bych zájem, právě teď mám zakázku na knihu Professional. Sleva pro distributory mi skončila v roce 2019, nyní vždy čerpám když máte jakékoliv akce. Tato sleva nelze již prodloužit?<br><br>Děkuji<br><br>Eva Herčková<br>\\xa0<br><br><br>st 3. 6. 2020 v\\xa010:05 odesílatel Florian Stellwag <mailto:florian.stellwag@saal-digital.de> napsal:<br><br>    |<br>http://www.saal-digital.cz/<br>\\xa0<br>    |<br>    |<br><br>Vážená paní Hercková,<br> \\xa0<br>    |<br><br>v časech jako jsou tyto bychom měli držet spolu, proto Vám prodloužíme<br>Vaši slevu pro distributory do 31.01.2021, bez ohledu na prodej v roce 2020.<br> \\xa0<br>    |<br><br>Tímto způsobem Vám chceme nabídnout veškerou naši podporu a co nejjednodušší návrat k fotografické činnosti. Chcete-li využít slevy, zadejte kód kupónu v každé objednávce jako obvykle.<br> \\xa0<br>    |<br><br>Máte zájem o platformu vyvinutou společností Saal Digital pro prodej Vašich fotografií? <br> \\xa0<br>    |<br><br>Řekněte nám, co je pro Vás na takové platformě obzvláště důležité. Pro Vaši zpětnou vazbu vám poskytneme následující formulář: https://www.saal-digital.cz/support/platform-interest/<br> \\xa0<br>    |<br><br>Kromě toho:  Seznamte se s naší novou řadou Professional line s kupónem v hodnotě 3000 Kč.<br> \\xa0<br>    |<br><br>Naše fotoknihy Professional line s elegantním akrylátovým obalem slouží jako skvělá prezentace Vašich fotografií, například jako portfolio.<br> \\xa0<br>    |<br><br>Prostřednictvím kupónu v hodnotě 3000 Kč Vám chceme dát příležitost objevit naše fotoknihy Professional line. Toto ukázkové portfolio představí fotografickou tvorbu Vašim zákazníkům jedinečným způsobem.<br> \\xa0<br>    |<br><br>O kupón můžete snadno požádat prostřednictvím následujícího odkazu.<br> \\xa0<br>    |<br><br>https://www.saal-digital..cz/support/samplebook-professional-line/<br> \\xa0<br>    |<br><br>Těšíme se na Vaši zpětnou vazbu!<br> \\xa0<br>    |<br><br>S pozdravem Florian Stellwag<br> \\xa0<br>    |<br> Saal Digital Fotoservice GmbH<br>Zeppelinstraße 36 91187 Röttenbach Vedení společnosti: Reinhard Saal, Robin Saal, Tim Saal, Florian Stellwag  DIČ: DE 250012471 Obvodní soud Siegen HRB-Nr. 9924<br>    |<br> Podpora      |<br> Správa objednávky      |<br> Dodací termíny      |<br> Sociální sítě<br> \\xa0<br>    |<br> Tento email jste obdrželi, protože jste u nás provedli objednávku nebo jste se přihlásili k odběru novinek. Proti používání Vaší e-mailové adresy k reklamním účelům můžete kdykoliv podat námitku. Pokud si již nepřejete obdržet žádnou další reklamu, klikněte na  Upravit profil.<br>'"
      ]
     },
     "execution_count": 26,
     "metadata": {},
     "output_type": "execute_result"
    }
   ],
   "source": [
    "data.firstmessage[24]"
   ]
  },
  {
   "cell_type": "markdown",
   "metadata": {},
   "source": [
    "# END OF NOTEBOOK"
   ]
  }
 ],
 "metadata": {
  "kernelspec": {
   "display_name": "Python 3.7 (tensorflow)",
   "language": "python",
   "name": "tensorflow"
  },
  "language_info": {
   "codemirror_mode": {
    "name": "ipython",
    "version": 3
   },
   "file_extension": ".py",
   "mimetype": "text/x-python",
   "name": "python",
   "nbconvert_exporter": "python",
   "pygments_lexer": "ipython3",
   "version": "3.7.7"
  }
 },
 "nbformat": 4,
 "nbformat_minor": 4
}
